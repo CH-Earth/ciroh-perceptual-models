{
 "cells": [
  {
   "cell_type": "markdown",
   "id": "de941c6a-6db5-414d-84a5-d54a2c37e7ef",
   "metadata": {},
   "source": [
    "## Visualize clustering outcomes\n",
    "Putting this in a separate notebook for now because the other one is still working on silhouettes."
   ]
  },
  {
   "cell_type": "code",
   "execution_count": 1,
   "id": "affeb826-f866-44ad-92af-7bad54bee864",
   "metadata": {},
   "outputs": [],
   "source": [
    "import geopandas as gpd\n",
    "import matplotlib.pyplot as plt\n",
    "import matplotlib.colors as mcolors\n",
    "import numpy as np\n",
    "from pathlib import Path"
   ]
  },
  {
   "cell_type": "code",
   "execution_count": 2,
   "id": "c0c70667-a96a-45a8-9b1d-16861e33bff3",
   "metadata": {},
   "outputs": [],
   "source": [
    "cluster_path = Path('/Users/wmk934/data/perceptual_models/data/clustering')\n",
    "cluster_file = f'clustering_results_clusters_2_to_50.shp'\n",
    "cluster_data = gpd.read_file(cluster_path/cluster_file)"
   ]
  },
  {
   "cell_type": "code",
   "execution_count": 3,
   "id": "e8957340-488d-49ea-889b-74d1759eecfd",
   "metadata": {},
   "outputs": [],
   "source": [
    "img_path = Path('/Users/wmk934/data/perceptual_models/img/cluster_maps')\n",
    "img_path.mkdir(parents=True, exist_ok=True)"
   ]
  },
  {
   "cell_type": "code",
   "execution_count": 4,
   "id": "9544708e-0503-4944-a4d9-603babfcca75",
   "metadata": {},
   "outputs": [
    {
     "data": {
      "text/plain": [
       "Index(['COMID', 'elev_mean', 'slope_mean', 'im_mean', 'imr_mean', 'fs_mean',\n",
       "       'depth_mean', 'lg_water', 'lg_non-cro', 'lg_irrigat', 'lg_rainfed',\n",
       "       'igbp_1', 'igbp_2', 'igbp_3', 'igbp_4', 'igbp_5', 'igbp_6', 'igbp_7',\n",
       "       'igbp_8', 'igbp_9', 'igbp_10', 'igbp_11', 'igbp_12', 'igbp_13',\n",
       "       'igbp_14', 'igbp_15', 'igbp_16', 'igbp_17', 'cluster_2', 'cluster_3',\n",
       "       'cluster_4', 'cluster_5', 'cluster_6', 'cluster_7', 'cluster_8',\n",
       "       'cluster_9', 'cluster_10', 'cluster_11', 'cluster_12', 'cluster_13',\n",
       "       'cluster_14', 'cluster_15', 'cluster_16', 'cluster_17', 'cluster_18',\n",
       "       'cluster_19', 'cluster_20', 'cluster_21', 'cluster_22', 'cluster_23',\n",
       "       'cluster_24', 'cluster_25', 'cluster_26', 'cluster_27', 'cluster_28',\n",
       "       'cluster_29', 'cluster_30', 'cluster_31', 'cluster_32', 'cluster_33',\n",
       "       'cluster_34', 'cluster_35', 'cluster_36', 'cluster_37', 'cluster_38',\n",
       "       'cluster_39', 'cluster_40', 'cluster_41', 'cluster_42', 'cluster_43',\n",
       "       'cluster_44', 'cluster_45', 'cluster_46', 'cluster_47', 'cluster_48',\n",
       "       'cluster_49', 'geometry'],\n",
       "      dtype='object')"
      ]
     },
     "execution_count": 4,
     "metadata": {},
     "output_type": "execute_result"
    }
   ],
   "source": [
    "cluster_data.columns"
   ]
  },
  {
   "cell_type": "code",
   "execution_count": 6,
   "id": "fe38ec20-82bb-4314-8b4a-5c52da48e8f3",
   "metadata": {},
   "outputs": [
    {
     "data": {
      "image/png": "[encoded data removed]",
      "text/plain": [
       "<Figure size 1800x100 with 1 Axes>"
      ]
     },
     "metadata": {},
     "output_type": "display_data"
    }
   ],
   "source": [
    "# Create a custom color map for values\n",
    "num_colors = 49\n",
    "\n",
    "# Generate a list of evenly spaced values from 0 to 1\n",
    "values = np.linspace(0, 1, num_colors)\n",
    "\n",
    "# Create a colormap using these values\n",
    "colors_norm = plt.cm.turbo(values)\n",
    "colors_shuf = plt.cm.turbo(values)\n",
    "np.random.shuffle(colors_shuf)\n",
    "\n",
    "# Plot the colormap\n",
    "fig, ax = plt.subplots(figsize=(18, 1))\n",
    "for i, (color_n,color_s) in enumerate(zip(colors_norm,colors_shuf)):\n",
    "    ax.add_patch(plt.Rectangle((i, 0), 1, 1, color=color_n))\n",
    "    ax.add_patch(plt.Rectangle((i, -1), 1, 1, color=color_s))\n",
    "    tcolor = 'black'\n",
    "    if i < 10: tcolor = 'white'\n",
    "    ax.text(i + 0.5, 0.5, str(i + 1), ha='center', va='center', color=tcolor)\n",
    "\n",
    "ax.set_xlim(0, num_colors)\n",
    "ax.set_ylim(-1, 1)\n",
    "ax.set_axis_off()\n",
    "plt.show()"
   ]
  },
  {
   "cell_type": "code",
   "execution_count": 13,
   "id": "84560f4c-42de-41d0-ac71-b99c971c20d3",
   "metadata": {},
   "outputs": [],
   "source": [
    "for n_clusters in range(2,50):\n",
    "    column = f'cluster_{n_clusters}'\n",
    "    cmap = mcolors.ListedColormap(colors_shuf[0:n_clusters])\n",
    "    ax = cluster_data.plot(column=column, cmap=cmap, legend=True, legend_kwds={'shrink':0.8})\n",
    "    cbar = ax.get_figure().get_axes()[1]  # Assuming colorbar is the second axes\n",
    "    cbar.set_yticklabels([])  # Disable tick labels\n",
    "    cbar.set_yticks([])  # Disable tick marks - we need to do this so that the axis don't get shifted around between different n_cluster values, in case where the colorbar ticks change\n",
    "    plt.title(column);\n",
    "    plt.savefig(img_path / f'clustering_outcomes_{n_clusters:02}.png', dpi=300, bbox_inches='tight')\n",
    "    plt.close()"
   ]
  },
  {
   "cell_type": "code",
   "execution_count": null,
   "id": "a28a69bf-a62e-456b-ae1d-e198176122bd",
   "metadata": {},
   "outputs": [],
   "source": []
  }
 ],
 "metadata": {
  "kernelspec": {
   "display_name": "perc-model-env",
   "language": "python",
   "name": "perc-model-env"
  },
  "language_info": {
   "codemirror_mode": {
    "name": "ipython",
    "version": 3
   },
   "file_extension": ".py",
   "mimetype": "text/x-python",
   "name": "python",
   "nbconvert_exporter": "python",
   "pygments_lexer": "ipython3",
   "version": "3.11.5"
  }
 },
 "nbformat": 4,
 "nbformat_minor": 5
}
