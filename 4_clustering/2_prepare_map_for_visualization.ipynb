{
 "cells": [
  {
   "cell_type": "markdown",
   "id": "b882cc02-1ead-4895-82dd-ca55f434b3bd",
   "metadata": {},
   "source": [
    "# Prepare map for visualization\n",
    "Steps:\n",
    "- Convert to an equal area projection\n",
    "- Define the color scheme as part of the geotiff"
   ]
  },
  {
   "cell_type": "code",
   "execution_count": 1,
   "id": "0a117db9-5ffb-45cb-bff6-032f64f48aa6",
   "metadata": {},
   "outputs": [],
   "source": [
    "from osgeo import gdal\n",
    "import sys\n",
    "from pathlib import Path\n",
    "sys.path.append(str(Path().absolute().parent))\n",
    "import _functions as pmf"
   ]
  },
  {
   "cell_type": "code",
   "execution_count": 2,
   "id": "27bdae6f-672b-4b30-ae9f-4d2763cb7590",
   "metadata": {},
   "outputs": [],
   "source": [
    "gdal.UseExceptions()"
   ]
  },
  {
   "cell_type": "code",
   "execution_count": 3,
   "id": "c9ef9d99-bd6c-4755-94b8-15f4361ccec7",
   "metadata": {},
   "outputs": [],
   "source": [
    "# Specify where the config file can be found\n",
    "config_file = '../0_config/config.txt'"
   ]
  },
  {
   "cell_type": "code",
   "execution_count": 4,
   "id": "e39bdeaa-696d-424a-9f8c-3390ea5e41d8",
   "metadata": {},
   "outputs": [],
   "source": [
    "# Get the required info from the config file\n",
    "data_path = pmf.read_from_config(config_file,'data_path')\n",
    "tar_crs =  pmf.read_from_config(config_file,'topo_crs')"
   ]
  },
  {
   "cell_type": "code",
   "execution_count": 5,
   "id": "d78c1825-8004-44fc-94ca-2dba22d6301f",
   "metadata": {},
   "outputs": [],
   "source": [
    "# Define where the map can be found\n",
    "cluster_path = Path(data_path) / 'data' / 'geotiff_same_resolution' / 'res_0.01' / 'clustering' / 'res_0-01_mask-MERIT-GLCLU2019_datasets-29_reruns-10'\n",
    "cluster_file = str( cluster_path / 'res_0-01_mask-MERIT-GLCLU2019_datasets-29_reruns-10_clusters-15.tif' )"
   ]
  },
  {
   "cell_type": "code",
   "execution_count": 6,
   "id": "5741c0ae-952c-46fc-9d69-a87f6ada13de",
   "metadata": {},
   "outputs": [],
   "source": [
    "# Define where the map needs to go\n",
    "new_map = cluster_file.replace('.tif',f'_{tar_crs}.tif')"
   ]
  },
  {
   "cell_type": "code",
   "execution_count": 7,
   "id": "beb83dba-e122-4057-94ef-c5c392b8e432",
   "metadata": {},
   "outputs": [
    {
     "data": {
      "text/plain": [
       "<osgeo.gdal.Dataset; proxy of <Swig Object of type 'GDALDatasetShadow *' at 0x10788c870> >"
      ]
     },
     "execution_count": 7,
     "metadata": {},
     "output_type": "execute_result"
    }
   ],
   "source": [
    "# Do the warping\n",
    "options = gdal.WarpOptions(format='GTiff',\n",
    "                           srcSRS='epsg:4326', dstSRS=tar_crs,\n",
    "                           creationOptions=['COMPRESS=DEFLATE'])\n",
    "gdal.Warp(new_map, cluster_file, options=options)"
   ]
  },
  {
   "cell_type": "markdown",
   "id": "75100e6d-aba6-4015-9db2-7d750d22c6a6",
   "metadata": {},
   "source": [
    "### Define the color scheme\n",
    "\n",
    "Source: https://gis.stackexchange.com/a/325751"
   ]
  },
  {
   "cell_type": "code",
   "execution_count": 12,
   "id": "6fc105a0-0297-4ec1-8890-022c344960b2",
   "metadata": {},
   "outputs": [],
   "source": [
    "def set_geotiff_color_palette(file, map, band=1):\n",
    "    \n",
    "    # specify GeoTIFF file name, open it using GDAL and get the first band\n",
    "    ds = gdal.Open(file, 1)\n",
    "    band = ds.GetRasterBand(band)\n",
    "\n",
    "    # create color table\n",
    "    colors = gdal.ColorTable()\n",
    "\n",
    "    # set color for each value\n",
    "    if map == 1: #  res_0-01_datasets-29_clusters-15_reruns-10.tif\n",
    "        colors.SetColorEntry( 0, (138, 140, 12))  # [1st map: 0] green/brown              \n",
    "        colors.SetColorEntry( 1, (205, 241, 250)) # [1st map: 1] white-ish\n",
    "        colors.SetColorEntry( 2, ( 28, 138, 227)) # [1st map: 2] medium blue\n",
    "        colors.SetColorEntry( 3, (125, 250, 219)) # [1st map: 3] aquamarine\n",
    "        colors.SetColorEntry( 4, (160, 241, 250)) # [1st map: 4] faded light blue\n",
    "        colors.SetColorEntry( 5, (208,   3, 184)) # [1st map: 5] pink\n",
    "        colors.SetColorEntry( 6, ( 11,  19, 238)) # [1st map: 6] dark blue, water\n",
    "        colors.SetColorEntry( 7, ( 80, 140,   6)) # [1st map: 7] yellow/green\n",
    "        colors.SetColorEntry( 8, (183, 203,  57)) # [1st map: 8] yellow\n",
    "        colors.SetColorEntry( 9, ( 40, 213, 229)) # [1st map: 9] bright light blue\n",
    "        colors.SetColorEntry(10, (208, 105,   9)) # [1st map: 10] orange\n",
    "        colors.SetColorEntry(11, (212, 205, 183)) # [1st map: 11] pink\n",
    "        colors.SetColorEntry(12, (230,  55,  11)) # [1st map: 12] red\n",
    "        colors.SetColorEntry(13, (  5,  82,  13)) # [1st map: 13] dark green\n",
    "        colors.SetColorEntry(14, (147, 208, 250)) # [1st map: 14] faded/bright light blue\n",
    "    elif map == 2: #  res_0-01_mask-MERIT-GLCLU2019_datasets-29_reruns-10_clusters-15.ptif\n",
    "        colors.SetColorEntry( 0, ( 91,  83,  41)) \n",
    "        colors.SetColorEntry( 1, ( 11,  19, 238)) \n",
    "        colors.SetColorEntry( 2, ( 76, 147, 213)) \n",
    "        colors.SetColorEntry( 3, (125, 250, 219)) \n",
    "        colors.SetColorEntry( 4, (  5,  82,  13)) \n",
    "        colors.SetColorEntry( 5, (212, 205, 183)) \n",
    "        colors.SetColorEntry( 6, (183, 203,  57)) \n",
    "        colors.SetColorEntry( 7, ( 72, 222, 115)) \n",
    "        colors.SetColorEntry( 8, (208, 105,   9)) \n",
    "        colors.SetColorEntry( 9, (147, 208, 250)) \n",
    "        colors.SetColorEntry(10, (138, 140,  12)) \n",
    "        colors.SetColorEntry(11, (176,  63, 202)) \n",
    "        colors.SetColorEntry(12, ( 80, 140,   6)) \n",
    "        colors.SetColorEntry(13, (205, 241, 250)) \n",
    "        colors.SetColorEntry(14, (160, 241, 250)) \n",
    "        \n",
    "\n",
    "    # set color table and color interpretation\n",
    "    band.SetRasterColorTable(colors)\n",
    "    band.SetRasterColorInterpretation(gdal.GCI_PaletteIndex)\n",
    "\n",
    "    # close and save file\n",
    "    del band, ds"
   ]
  },
  {
   "cell_type": "code",
   "execution_count": 10,
   "id": "9cfe2e50-e87e-413d-b866-43775f2add1b",
   "metadata": {},
   "outputs": [],
   "source": [
    "set_geotiff_color_palette(new_map, map=2)"
   ]
  },
  {
   "cell_type": "code",
   "execution_count": 11,
   "id": "3a8f899f-211b-49ac-b241-2f26a78e1d58",
   "metadata": {},
   "outputs": [],
   "source": [
    "set_geotiff_color_palette(cluster_file, map=2) # useful for vertical plots"
   ]
  },
  {
   "cell_type": "code",
   "execution_count": null,
   "id": "72825ef1-8d3d-4e18-9d1d-2344f5bf79fe",
   "metadata": {},
   "outputs": [],
   "source": []
  }
 ],
 "metadata": {
  "kernelspec": {
   "display_name": "perc-model-env",
   "language": "python",
   "name": "perc-model-env"
  },
  "language_info": {
   "codemirror_mode": {
    "name": "ipython",
    "version": 3
   },
   "file_extension": ".py",
   "mimetype": "text/x-python",
   "name": "python",
   "nbconvert_exporter": "python",
   "pygments_lexer": "ipython3",
   "version": "3.11.5"
  }
 },
 "nbformat": 4,
 "nbformat_minor": 5
}
