{
 "cells": [
  {
   "cell_type": "markdown",
   "id": "1a2ed05d-6d35-4a31-b26d-57c893df00fa",
   "metadata": {},
   "source": [
    "# Clustering\n",
    "Use geospatial data as input to clustering algorithm.\n",
    "\n",
    "Current choice: scikit-learn's `kmeans`\n",
    "\n",
    "Current inputs: selected GeoTIFFs\n",
    "\n",
    "#### Functions\n",
    "- Preprocessing: `sklearn.preprocessing()`\n",
    "    - Data scaling: `MinMaxScaler`, `StandardScaler`\n",
    "- Clustering workflow:\n",
    "    - `from sklearn.cluster import KMeans`\n",
    "    - `kmeans =  KMeans(n_clusters = 8)` : instantiate object\n",
    "    - `kmeans.fit(X)` : fit data\n",
    "    - `kmeans.labels_` : contains cluster labels\n",
    "    - (optional) `kmeans.predict(new_X)`\n",
    "- Initialization: `KMeans(init='k-means++')` (default?)\n",
    "- Elbow method: `kmeans.inertia_` (Within Cluster Sum of Squares - lower is better)\n",
    "- Silhouette score: distance between clusters\n",
    "\n",
    "Source(s):\n",
    "- https://stackabuse.com/k-means-clustering-with-scikit-learn/\n",
    "- https://stackoverflow.com/questions/48901491/k-means-clustering-on-data-set-with-mixed-data-using-scikit-learn\n",
    "\n",
    "#### Dealing with categorical data\n",
    "- \"one-hot\" representation: separate categorical data with _n_ categories into _n_ new variables with `0` and `1` encoding. This keeps the relative distances correct (e.g., category `1` is not \"16\" away from category `17`, nor is category `16` closer to `17` than `1` is)\n",
    "    - See: `pandas.get_dummies`\n",
    "- Use `k-modes` instead of `k-means` (unclear if this works for mixed categorical and numerical data)\n",
    "\n",
    "Source(s):\n",
    "- https://pandas.pydata.org/pandas-docs/stable/reference/api/pandas.get_dummies.html\n",
    "\n",
    "#### Normalization/standardization\n",
    "- Not necessarily required, but ...\n",
    "- K-means assumes clusters within data are more or less spherical, so ...\n",
    "- If certain inputs have very high variance, that may affect the shape of clusters within the data.\n",
    "- A pair-wise plot may be needed to roughly check what we're dealing with (see: `seaborn`)\n",
    "\n",
    "Source(s):\n",
    "- https://stats.stackexchange.com/questions/21222/are-mean-normalization-and-feature-scaling-needed-for-k-means-clustering\n",
    "- https://stats.stackexchange.com/questions/104520/inputs-to-k-means-are-often-normalized-per-feature-why-not-fully-whiten-the-dat\n",
    "- https://stackoverflow.com/questions/20027645/does-kmeans-normalize-features-automatically-in-sklearn"
   ]
  },
  {
   "cell_type": "code",
   "execution_count": 1,
   "id": "2a7f377f-c1b9-47fd-a44a-9faec596009e",
   "metadata": {},
   "outputs": [],
   "source": [
    "import numpy as np\n",
    "import matplotlib.pyplot as plt\n",
    "from osgeo import gdal, osr\n",
    "import pandas as pd\n",
    "from pathlib import Path\n",
    "import rasterio\n",
    "from sklearn.cluster import KMeans\n",
    "from sklearn import preprocessing"
   ]
  },
  {
   "cell_type": "code",
   "execution_count": 2,
   "id": "b0e2b99f-613c-41f9-86c0-cbbbe6713e3e",
   "metadata": {},
   "outputs": [],
   "source": [
    "gdal.UseExceptions()"
   ]
  },
  {
   "cell_type": "markdown",
   "id": "e2f7aeea-3353-4478-8ea9-d925cc255049",
   "metadata": {},
   "source": [
    "#### Load data\n",
    "Preliminary selection:\n",
    "- Climate indices\n",
    "- Monthly LAI\n",
    "- Vegetation height\n",
    "- Land class (categorical; two data products [MODIS, GLCLU2019])\n",
    "- Agriculture type (categorical)\n",
    "- Elevation, slope, aspect\n",
    "- Sand, silt, clay % (initially just top 15cm layers)\n",
    "- Fraction organic (initially just top 15cm layers)\n",
    "- Soil and sediment depth"
   ]
  },
  {
   "cell_type": "code",
   "execution_count": 3,
   "id": "fbbe1a9a-8f1a-462a-91aa-9e2f4ea8ba6c",
   "metadata": {},
   "outputs": [],
   "source": [
    "#base_path = Path('/Users/wmk934/data/perceptual_models/data/geotiff_same_resolution/res_0.0008333333333333334/')\n",
    "base_path = Path('/Users/wmk934/data/perceptual_models/data/geotiff_same_resolution/res_0.01/')\n",
    "file_paths = [['climate_fs', base_path / 'worldclim/wc2.1_30s_climate_index_fs_resampled.tif'],\n",
    "              ['climate_im', base_path / 'worldclim/wc2.1_30s_climate_index_im_resampled.tif'],\n",
    "              ['climate_imr', base_path / 'worldclim/wc2.1_30s_climate_index_imr_resampled.tif'],\n",
    "              ['lai_01', base_path / 'lai/2013_2023_01_MOD_Grid_MOD15A2H_Lai_500m_resampled.tif'],\n",
    "              #['lai_02', base_path / 'lai/2013_2023_02_MOD_Grid_MOD15A2H_Lai_500m_resampled.tif'],\n",
    "              #['lai_03', base_path / 'lai/2013_2023_03_MOD_Grid_MOD15A2H_Lai_500m_resampled.tif'],\n",
    "              #['lai_04', base_path / 'lai/2013_2023_04_MOD_Grid_MOD15A2H_Lai_500m_resampled.tif'],\n",
    "              #['lai_05', base_path / 'lai/2013_2023_05_MOD_Grid_MOD15A2H_Lai_500m_resampled.tif'],\n",
    "              #['lai_06', base_path / 'lai/2013_2023_06_MOD_Grid_MOD15A2H_Lai_500m_resampled.tif'],\n",
    "              ['lai_07', base_path / 'lai/2013_2023_07_MOD_Grid_MOD15A2H_Lai_500m_resampled.tif'],\n",
    "              #['lai_08', base_path / 'lai/2013_2023_08_MOD_Grid_MOD15A2H_Lai_500m_resampled.tif'],\n",
    "              #['lai_09', base_path / 'lai/2013_2023_09_MOD_Grid_MOD15A2H_Lai_500m_resampled.tif'],\n",
    "              #['lai_10', base_path / 'lai/2013_2023_10_MOD_Grid_MOD15A2H_Lai_500m_resampled.tif'],\n",
    "              #['lai_11', base_path / 'lai/2013_2023_11_MOD_Grid_MOD15A2H_Lai_500m_resampled.tif'],\n",
    "              #['lai_012', base_path / 'lai/2013_2023_12_MOD_Grid_MOD15A2H_Lai_500m_resampled.tif'],\n",
    "              ['veg_height', base_path / 'forest_height/forest_height_2020_resampled.tif'],\n",
    "              ['land_class1', base_path / 'glclu2019/glclu2019_map_resampled.tif'],\n",
    "              ['land_class2', base_path / 'modis_land/2013_2022_mode_MCD12Q1_LC_Type1_resampled.tif'],\n",
    "              ['agriculture', base_path / 'lgrip30/lgrip30_agriculture_resampled.tif'],\n",
    "              ['aspect', base_path / 'merit/merit_hydro_aspect_resampled.tif'],\n",
    "              ['slope', base_path / 'merit/merit_hydro_slope_resampled.tif'],\n",
    "              ['elev', base_path / 'merit/merit_hydro_elv_resampled.tif'],\n",
    "              ['clay1', base_path / 'soilgrids/clay_0-5cm_mean_resampled.tif'],\n",
    "              #['clay2', base_path / 'soilgrids/clay_5-15cm_mean_resampled.tif'],\n",
    "              ['sand1', base_path / 'soilgrids/sand_0-5cm_mean_resampled.tif'],\n",
    "              #['sand2', base_path / 'soilgrids/sand_5-15cm_mean_resampled.tif'],\n",
    "              ['silt1', base_path / 'soilgrids/silt_0-5cm_mean_resampled.tif'],\n",
    "              #['silt2', base_path / 'soilgrids/silt_5-15cm_mean_resampled.tif'],\n",
    "              #['soc1', base_path / 'soilgrids/soc_0-5cm_mean_resampled.tif'],\n",
    "              #['soc2', base_path / 'soilgrids/soc_5-15cm_mean_resampled.tif'],\n",
    "              ['soil_depth', base_path / 'pelletier/average_soil_and_sedimentary-deposit_thickness_resampled.tif']\n",
    "]"
   ]
  },
  {
   "cell_type": "markdown",
   "id": "97d07bf6-d48f-4c26-8fdf-efb49741229d",
   "metadata": {},
   "source": [
    "##### Check that all dimensions match"
   ]
  },
  {
   "cell_type": "code",
   "execution_count": 8,
   "id": "05a2a145-af3c-4574-9c1e-2f76c13173ef",
   "metadata": {
    "scrolled": true
   },
   "outputs": [],
   "source": [
    "pixel_sizes = []\n",
    "raster_sizes = []\n",
    "bounding_boxes = []\n",
    "\n",
    "for sub_list in file_paths:\n",
    "    file = sub_list[1]\n",
    "    pixel, raster, bb = get_geotiff_properties(file)\n",
    "    pixel_sizes.append(pixel)\n",
    "    raster_sizes.append(raster)\n",
    "    bounding_boxes.append(bb)"
   ]
  },
  {
   "cell_type": "code",
   "execution_count": 9,
   "id": "68e7b5ca-69d7-4015-bf16-ffcb8937e3b0",
   "metadata": {},
   "outputs": [],
   "source": [
    "assert all([sub_list == pixel_sizes[0] for sub_list in pixel_sizes]), 'pixel sizes don''t match'\n",
    "assert all([sub_list == raster_sizes[0] for sub_list in raster_sizes]), 'raster sizes don''t match'\n",
    "assert all([sub_list == bounding_boxes[0] for sub_list in bounding_boxes]), 'bounding boxes don''t match'"
   ]
  },
  {
   "cell_type": "markdown",
   "id": "10f659ec-e438-4b47-8f4c-3aad6905ad20",
   "metadata": {},
   "source": [
    "Load the data as rasters"
   ]
  },
  {
   "cell_type": "code",
   "execution_count": 49,
   "id": "c967e9fc-563c-4ae1-be7b-d0a2952120a8",
   "metadata": {},
   "outputs": [],
   "source": [
    "# Create a data mask so that we can use a single one for each data product\n",
    "# We'll arbitrarily use the DEM for this\n",
    "mask_file1 = str(base_path / 'merit/merit_hydro_elv_resampled.tif')\n",
    "mask_file2 = str(base_path / 'glclu2019/glclu2019_map_resampled.tif')\n",
    "mask_main1 = np.ma.masked_equal(get_geotif_data_as_array(mask_file1), get_geotif_noData(mask_file1))\n",
    "mask_main2 = np.ma.masked_equal(get_geotif_data_as_array(mask_file2), get_geotif_noData(mask_file2))"
   ]
  },
  {
   "cell_type": "code",
   "execution_count": 50,
   "id": "1e3b4daf-2189-4800-a036-22481b8f7146",
   "metadata": {},
   "outputs": [],
   "source": [
    "mask_main_vector1 = mask_main1.mask.reshape(-1,1).squeeze()\n",
    "mask_main_vector2 = mask_main2.mask.reshape(-1,1).squeeze()"
   ]
  },
  {
   "cell_type": "code",
   "execution_count": 54,
   "id": "44b3b48f-c3e9-4c90-b728-b5d459eef1f0",
   "metadata": {},
   "outputs": [],
   "source": [
    "mask_main_vector = mask_main_vector1 | mask_main_vector2"
   ]
  },
  {
   "cell_type": "code",
   "execution_count": 72,
   "id": "d5b0761b-22cd-49ab-89aa-2df9f3198d58",
   "metadata": {},
   "outputs": [],
   "source": [
    "mask_main = mask_main_vector.reshape(np.shape(mask_main1))"
   ]
  },
  {
   "cell_type": "code",
   "execution_count": 56,
   "id": "be0ca448-0d61-426e-af50-f30108938238",
   "metadata": {},
   "outputs": [
    {
     "name": "stdout",
     "output_type": "stream",
     "text": [
      "00. Processing /Users/wmk934/data/perceptual_models/data/geotiff_same_resolution/res_0.01/pelletier/average_soil_and_sedimentary-deposit_thickness_resampled.tif\n",
      "01. Processing /Users/wmk934/data/perceptual_models/data/geotiff_same_resolution/res_0.01/worldclim/wc2.1_30s_climate_index_fs_resampled.tif\n",
      "02. Processing /Users/wmk934/data/perceptual_models/data/geotiff_same_resolution/res_0.01/worldclim/wc2.1_30s_climate_index_im_resampled.tif\n",
      "03. Processing /Users/wmk934/data/perceptual_models/data/geotiff_same_resolution/res_0.01/worldclim/wc2.1_30s_climate_index_imr_resampled.tif\n",
      "04. Processing /Users/wmk934/data/perceptual_models/data/geotiff_same_resolution/res_0.01/lai/2013_2023_01_MOD_Grid_MOD15A2H_Lai_500m_resampled.tif\n",
      "05. Processing /Users/wmk934/data/perceptual_models/data/geotiff_same_resolution/res_0.01/lai/2013_2023_07_MOD_Grid_MOD15A2H_Lai_500m_resampled.tif\n",
      "06. Processing /Users/wmk934/data/perceptual_models/data/geotiff_same_resolution/res_0.01/forest_height/forest_height_2020_resampled.tif\n",
      "07. Processing /Users/wmk934/data/perceptual_models/data/geotiff_same_resolution/res_0.01/glclu2019/glclu2019_map_resampled.tif\n",
      "08. Processing /Users/wmk934/data/perceptual_models/data/geotiff_same_resolution/res_0.01/modis_land/2013_2022_mode_MCD12Q1_LC_Type1_resampled.tif\n",
      "09. Processing /Users/wmk934/data/perceptual_models/data/geotiff_same_resolution/res_0.01/lgrip30/lgrip30_agriculture_resampled.tif\n",
      "10. Processing /Users/wmk934/data/perceptual_models/data/geotiff_same_resolution/res_0.01/merit/merit_hydro_aspect_resampled.tif\n",
      "11. Processing /Users/wmk934/data/perceptual_models/data/geotiff_same_resolution/res_0.01/merit/merit_hydro_slope_resampled.tif\n",
      "12. Processing /Users/wmk934/data/perceptual_models/data/geotiff_same_resolution/res_0.01/merit/merit_hydro_elv_resampled.tif\n",
      "13. Processing /Users/wmk934/data/perceptual_models/data/geotiff_same_resolution/res_0.01/soilgrids/clay_0-5cm_mean_resampled.tif\n",
      "14. Processing /Users/wmk934/data/perceptual_models/data/geotiff_same_resolution/res_0.01/soilgrids/sand_0-5cm_mean_resampled.tif\n",
      "15. Processing /Users/wmk934/data/perceptual_models/data/geotiff_same_resolution/res_0.01/soilgrids/silt_0-5cm_mean_resampled.tif\n"
     ]
    }
   ],
   "source": [
    "data_list = []\n",
    "columns = []\n",
    "for ix,sub_list in enumerate(file_paths):\n",
    "    # progress\n",
    "    print(f'{ix:02}. Processing {file}')\n",
    "    column, file = sub_list\n",
    "    \n",
    "    # get data we need, skipping tiles masked in the previous step\n",
    "    str_file = str(file) # convert from Path() to str\n",
    "    all_data = get_geotif_data_as_array(str_file)\n",
    "    all_data_vector = all_data.reshape(-1,1).squeeze()\n",
    "    masked_data = all_data_vector[~mask_main_vector]\n",
    "    \n",
    "    # retain data\n",
    "    data_list.append(masked_data)\n",
    "    columns.append(column)"
   ]
  },
  {
   "cell_type": "markdown",
   "id": "bf7a8b15-244c-4a87-b327-1f4129fde914",
   "metadata": {},
   "source": [
    "#### Move data into pandas dataframe"
   ]
  },
  {
   "cell_type": "code",
   "execution_count": 57,
   "id": "01fd3c43-d56b-46ae-bdaf-716194289fe6",
   "metadata": {},
   "outputs": [],
   "source": [
    "data = pd.DataFrame(dict(zip(columns, data_list)))"
   ]
  },
  {
   "cell_type": "code",
   "execution_count": 58,
   "id": "188fe874-3919-4084-98a5-fffa54c1d7ea",
   "metadata": {},
   "outputs": [],
   "source": [
    "# If we are including agriculture, replace my own \"land but no data\" value (4) with \"no agriculture\" (1)\n",
    "# This avoids clustering issues where no-data pixels tend to end up in their own category while they should simply be no agriculture\n",
    "if 'agriculture' in data.columns:\n",
    "    data['agriculture'] = data['agriculture'].replace(4, 1)"
   ]
  },
  {
   "cell_type": "markdown",
   "id": "c0257099-3f0b-478d-812f-80bdbbd9a40f",
   "metadata": {},
   "source": [
    "Temporarily create a subset for scaling and clustering tests"
   ]
  },
  {
   "cell_type": "code",
   "execution_count": 25,
   "id": "811b1676-ed84-4bae-8631-e06ecc92590b",
   "metadata": {},
   "outputs": [],
   "source": [
    "#data_backup = data.copy()"
   ]
  },
  {
   "cell_type": "code",
   "execution_count": 26,
   "id": "9dbbcd46-8372-41f8-ba33-ce0ec547e6ed",
   "metadata": {},
   "outputs": [],
   "source": [
    "#subset_n = 100000\n",
    "#selection = np.random.randint(0,len(data), size=subset_n)"
   ]
  },
  {
   "cell_type": "code",
   "execution_count": 27,
   "id": "521679e9-39b7-417b-98b8-b9d7bb3854e9",
   "metadata": {},
   "outputs": [],
   "source": [
    "#data = data.iloc[selection].reset_index(drop=True)"
   ]
  },
  {
   "cell_type": "markdown",
   "id": "a00de253-a429-43a9-8398-98ba0f477bc9",
   "metadata": {},
   "source": [
    "#### Preprocessing (categorical data; scaling)"
   ]
  },
  {
   "cell_type": "markdown",
   "id": "d10e6c61-a062-4ab7-b52c-b1ef802bf9cd",
   "metadata": {},
   "source": [
    "Visual assessment of data"
   ]
  },
  {
   "cell_type": "code",
   "execution_count": 3,
   "id": "7ee7dc8c-87f9-4321-8791-3bd96ca5a338",
   "metadata": {},
   "outputs": [],
   "source": [
    "#import seaborn as sns"
   ]
  },
  {
   "cell_type": "code",
   "execution_count": null,
   "id": "cc63accb-c129-4f66-9113-e46e14c04331",
   "metadata": {},
   "outputs": [],
   "source": [
    "# Pair-wise data plot\n",
    "# < TO DO >"
   ]
  },
  {
   "cell_type": "markdown",
   "id": "2ab0e202-fa61-4549-993e-bf7b530cf2cc",
   "metadata": {},
   "source": [
    "Categorical data"
   ]
  },
  {
   "cell_type": "code",
   "execution_count": 59,
   "id": "4f6f76af-18b2-4b8b-a4c5-8385806f6608",
   "metadata": {},
   "outputs": [],
   "source": [
    "# one-hot encoding of categorial variables\n",
    "cluster_data = pd.get_dummies(data, columns=['agriculture','land_class1','land_class2']) # automatically returns new dataframe"
   ]
  },
  {
   "cell_type": "markdown",
   "id": "dea8a8bf-eb41-47f7-aba1-6127b2d6cd5e",
   "metadata": {},
   "source": [
    "Scaling"
   ]
  },
  {
   "cell_type": "code",
   "execution_count": 60,
   "id": "7975798d-57fa-496b-b639-fdcb25e4f688",
   "metadata": {},
   "outputs": [],
   "source": [
    "scaler = preprocessing.StandardScaler().fit(cluster_data)"
   ]
  },
  {
   "cell_type": "code",
   "execution_count": 61,
   "id": "7da93579-aa4c-4240-ba3c-46af6171e598",
   "metadata": {},
   "outputs": [],
   "source": [
    "cluster_input = scaler.transform(cluster_data)"
   ]
  },
  {
   "cell_type": "markdown",
   "id": "e1286138-9323-41ca-827e-d5715fd5085a",
   "metadata": {},
   "source": [
    "#### Clustering\n",
    "Useful variables:\n",
    "- `kmeans.inertia_`: measure of within-cluster similarity. Use for elbow plot\n",
    "- `kmeans.labels_`: cluster assignment"
   ]
  },
  {
   "cell_type": "code",
   "execution_count": 21,
   "id": "544ee11f-ac19-45ea-ba41-91fd12d9eb19",
   "metadata": {},
   "outputs": [],
   "source": [
    "# Temporary data subset\n",
    "subset_n = 100000\n",
    "selection = np.random.randint(0,len(cluster_input), size=subset_n)\n",
    "cluster_input = cluster_input[selection,:]"
   ]
  },
  {
   "cell_type": "code",
   "execution_count": 62,
   "id": "403d7435-2906-49b2-af62-f937d3d69163",
   "metadata": {},
   "outputs": [],
   "source": [
    "n_clusters = 5\n",
    "n_reruns = 1"
   ]
  },
  {
   "cell_type": "code",
   "execution_count": 63,
   "id": "a8082947-d7ce-46a8-86da-f9b26156438d",
   "metadata": {},
   "outputs": [],
   "source": [
    "# Instantiate the clustering object\n",
    "kmeans =  KMeans(n_clusters = n_clusters, init='k-means++', n_init = n_reruns)"
   ]
  },
  {
   "cell_type": "code",
   "execution_count": 64,
   "id": "f0f8e4a7-46d6-429f-ad7f-5e0ee4144e41",
   "metadata": {},
   "outputs": [
    {
     "data": {
      "text/html": [
       "<style>#sk-container-id-3 {color: black;}#sk-container-id-3 pre{padding: 0;}#sk-container-id-3 div.sk-toggleable {background-color: white;}#sk-container-id-3 label.sk-toggleable__label {cursor: pointer;display: block;width: 100%;margin-bottom: 0;padding: 0.3em;box-sizing: border-box;text-align: center;}#sk-container-id-3 label.sk-toggleable__label-arrow:before {content: \"▸\";float: left;margin-right: 0.25em;color: #696969;}#sk-container-id-3 label.sk-toggleable__label-arrow:hover:before {color: black;}#sk-container-id-3 div.sk-estimator:hover label.sk-toggleable__label-arrow:before {color: black;}#sk-container-id-3 div.sk-toggleable__content {max-height: 0;max-width: 0;overflow: hidden;text-align: left;background-color: #f0f8ff;}#sk-container-id-3 div.sk-toggleable__content pre {margin: 0.2em;color: black;border-radius: 0.25em;background-color: #f0f8ff;}#sk-container-id-3 input.sk-toggleable__control:checked~div.sk-toggleable__content {max-height: 200px;max-width: 100%;overflow: auto;}#sk-container-id-3 input.sk-toggleable__control:checked~label.sk-toggleable__label-arrow:before {content: \"▾\";}#sk-container-id-3 div.sk-estimator input.sk-toggleable__control:checked~label.sk-toggleable__label {background-color: #d4ebff;}#sk-container-id-3 div.sk-label input.sk-toggleable__control:checked~label.sk-toggleable__label {background-color: #d4ebff;}#sk-container-id-3 input.sk-hidden--visually {border: 0;clip: rect(1px 1px 1px 1px);clip: rect(1px, 1px, 1px, 1px);height: 1px;margin: -1px;overflow: hidden;padding: 0;position: absolute;width: 1px;}#sk-container-id-3 div.sk-estimator {font-family: monospace;background-color: #f0f8ff;border: 1px dotted black;border-radius: 0.25em;box-sizing: border-box;margin-bottom: 0.5em;}#sk-container-id-3 div.sk-estimator:hover {background-color: #d4ebff;}#sk-container-id-3 div.sk-parallel-item::after {content: \"\";width: 100%;border-bottom: 1px solid gray;flex-grow: 1;}#sk-container-id-3 div.sk-label:hover label.sk-toggleable__label {background-color: #d4ebff;}#sk-container-id-3 div.sk-serial::before {content: \"\";position: absolute;border-left: 1px solid gray;box-sizing: border-box;top: 0;bottom: 0;left: 50%;z-index: 0;}#sk-container-id-3 div.sk-serial {display: flex;flex-direction: column;align-items: center;background-color: white;padding-right: 0.2em;padding-left: 0.2em;position: relative;}#sk-container-id-3 div.sk-item {position: relative;z-index: 1;}#sk-container-id-3 div.sk-parallel {display: flex;align-items: stretch;justify-content: center;background-color: white;position: relative;}#sk-container-id-3 div.sk-item::before, #sk-container-id-3 div.sk-parallel-item::before {content: \"\";position: absolute;border-left: 1px solid gray;box-sizing: border-box;top: 0;bottom: 0;left: 50%;z-index: -1;}#sk-container-id-3 div.sk-parallel-item {display: flex;flex-direction: column;z-index: 1;position: relative;background-color: white;}#sk-container-id-3 div.sk-parallel-item:first-child::after {align-self: flex-end;width: 50%;}#sk-container-id-3 div.sk-parallel-item:last-child::after {align-self: flex-start;width: 50%;}#sk-container-id-3 div.sk-parallel-item:only-child::after {width: 0;}#sk-container-id-3 div.sk-dashed-wrapped {border: 1px dashed gray;margin: 0 0.4em 0.5em 0.4em;box-sizing: border-box;padding-bottom: 0.4em;background-color: white;}#sk-container-id-3 div.sk-label label {font-family: monospace;font-weight: bold;display: inline-block;line-height: 1.2em;}#sk-container-id-3 div.sk-label-container {text-align: center;}#sk-container-id-3 div.sk-container {/* jupyter's `normalize.less` sets `[hidden] { display: none; }` but bootstrap.min.css set `[hidden] { display: none !important; }` so we also need the `!important` here to be able to override the default hidden behavior on the sphinx rendered scikit-learn.org. See: https://github.com/scikit-learn/scikit-learn/issues/21755 */display: inline-block !important;position: relative;}#sk-container-id-3 div.sk-text-repr-fallback {display: none;}</style><div id=\"sk-container-id-3\" class=\"sk-top-container\"><div class=\"sk-text-repr-fallback\"><pre>KMeans(n_clusters=5, n_init=1)</pre><b>In a Jupyter environment, please rerun this cell to show the HTML representation or trust the notebook. <br />On GitHub, the HTML representation is unable to render, please try loading this page with nbviewer.org.</b></div><div class=\"sk-container\" hidden><div class=\"sk-item\"><div class=\"sk-estimator sk-toggleable\"><input class=\"sk-toggleable__control sk-hidden--visually\" id=\"sk-estimator-id-3\" type=\"checkbox\" checked><label for=\"sk-estimator-id-3\" class=\"sk-toggleable__label sk-toggleable__label-arrow\">KMeans</label><div class=\"sk-toggleable__content\"><pre>KMeans(n_clusters=5, n_init=1)</pre></div></div></div></div></div>"
      ],
      "text/plain": [
       "KMeans(n_clusters=5, n_init=1)"
      ]
     },
     "execution_count": 64,
     "metadata": {},
     "output_type": "execute_result"
    }
   ],
   "source": [
    "# Do the clustering\n",
    "kmeans.fit(cluster_input)"
   ]
  },
  {
   "cell_type": "markdown",
   "id": "1c3c7fca-50b5-4a28-9959-c3d8c1002162",
   "metadata": {
    "jp-MarkdownHeadingCollapsed": true
   },
   "source": [
    "#### Investigate elbow/silhouettes\n",
    "Note: currently unused in the notebook, but ran clustering on HPC for 2-50 clusters."
   ]
  },
  {
   "cell_type": "code",
   "execution_count": null,
   "id": "3f132e4d-51db-4cb8-bf29-b5b2a1ae301e",
   "metadata": {
    "scrolled": true
   },
   "outputs": [],
   "source": [
    "# Elbow plot\n",
    "#clusters = []\n",
    "#inertia = []\n",
    "#for n_clusters in range(2,51):\n",
    "#    print(f'Running cluster = {n_clusters}')\n",
    "#    kmeans =  KMeans(n_clusters = n_clusters, init='k-means++', n_init = 10)\n",
    "#    kmeans.fit(cluster_input)\n",
    "#    \n",
    "#    clusters.append(n_clusters)\n",
    "#    inertia.append(kmeans.inertia_)\n",
    "#plt.plot(clusters,inertia)"
   ]
  },
  {
   "cell_type": "markdown",
   "id": "7e024b3c-b1b8-44f8-93b2-3938edd42121",
   "metadata": {},
   "source": [
    "Silhouette plots\n",
    "\n",
    "Note: currently unused because it takes forever to run. Clustering on HPC ~1hour, silhouettes do not complete for 12h."
   ]
  },
  {
   "cell_type": "code",
   "execution_count": 25,
   "id": "08b0fdd4-9605-4930-8eb5-a557d5f0f402",
   "metadata": {},
   "outputs": [],
   "source": [
    "import matplotlib.cm as cm\n",
    "import matplotlib.pyplot as plt\n",
    "from sklearn.metrics import silhouette_samples, silhouette_score"
   ]
  },
  {
   "cell_type": "code",
   "execution_count": 26,
   "id": "706162e3-3519-4a92-87d8-29d8b624ce97",
   "metadata": {},
   "outputs": [],
   "source": [
    "# Compute the silhouette scores for each sample\n",
    "sample_silhouette_values = silhouette_samples(cluster_input, kmeans.labels_)"
   ]
  },
  {
   "cell_type": "code",
   "execution_count": 29,
   "id": "929a1e7d-39c4-4b36-8485-fc23add9cc09",
   "metadata": {},
   "outputs": [],
   "source": [
    "silhouette_avg = silhouette_score(cluster_input, kmeans.labels_)"
   ]
  },
  {
   "cell_type": "code",
   "execution_count": 46,
   "id": "db0f0128-f898-4494-8f1b-038057b20ed6",
   "metadata": {},
   "outputs": [
    {
     "data": {
      "text/plain": [
       "[]"
      ]
     },
     "execution_count": 46,
     "metadata": {},
     "output_type": "execute_result"
    },
    {
     "data": {
      "image/png": "[encoded data removed]",
      "text/plain": [
       "<Figure size 640x480 with 1 Axes>"
      ]
     },
     "metadata": {},
     "output_type": "display_data"
    }
   ],
   "source": [
    "fig, ax = plt.subplots(1, 1)\n",
    "ax.set_ylim([0, len(cluster_input) + (n_clusters + 1) * 10])\n",
    "\n",
    "y_lower = 0\n",
    "for i in range(n_clusters):\n",
    "    # Aggregate the silhouette scores for samples belonging to cluster i, and sort them\n",
    "    ith_cluster_silhouette_values = sample_silhouette_values[kmeans.labels_ == i]\n",
    "    ith_cluster_silhouette_values.sort()\n",
    "\n",
    "    size_cluster_i = ith_cluster_silhouette_values.shape[0]\n",
    "    y_upper = y_lower + size_cluster_i\n",
    "\n",
    "    color = cm.nipy_spectral(float(i) / n_clusters)\n",
    "    ax.fill_betweenx(\n",
    "        np.arange(y_lower, y_upper),\n",
    "        0,\n",
    "        ith_cluster_silhouette_values,\n",
    "        facecolor=color,\n",
    "        edgecolor=color,\n",
    "        alpha=0.7,\n",
    "    )\n",
    "\n",
    "    # Label the silhouette plots with their cluster numbers at the middle\n",
    "    ax.text(-0.05, y_lower + 0.5 * size_cluster_i, str(i))\n",
    "\n",
    "    # Compute the new y_lower for next plot\n",
    "    y_lower = y_upper + 10  # 10 for the 0 samples\n",
    "\n",
    "ax.set_title(f\"Silhouette plot ({n_clusters} clusters)\")\n",
    "ax.set_xlabel(\"Silhouette coefficient values\")\n",
    "ax.set_ylabel(\"Cluster label\")\n",
    "\n",
    "# The vertical line for average silhouette score of all the values\n",
    "ax.axvline(x=silhouette_avg, color=\"red\", linestyle=\"--\")\n",
    "ax.set_yticks([])  # Clear the yaxis labels / ticks\n",
    "\n",
    "# save to file\n",
    "\n",
    "plt."
   ]
  },
  {
   "cell_type": "code",
   "execution_count": null,
   "id": "e3944290-7f93-493d-8e1f-5c8875f8f3d9",
   "metadata": {},
   "outputs": [],
   "source": []
  },
  {
   "cell_type": "markdown",
   "id": "825899b3-e2b1-436e-907f-c866437a42ec",
   "metadata": {},
   "source": [
    "#### Move data back onto map"
   ]
  },
  {
   "cell_type": "code",
   "execution_count": 75,
   "id": "3331a97f-1e26-4e29-9f30-338ae96b9962",
   "metadata": {},
   "outputs": [],
   "source": [
    "# generate some test data for mapping cluster labels back onto map\n",
    "#num_false = (mask_main.shape[0]*mask_main.shape[1])-mask_main.mask.sum()\n",
    "#cluster_labels = np.random.randint(1,21, size=num_false)"
   ]
  },
  {
   "cell_type": "markdown",
   "id": "2da4895d-d022-4237-9575-91c429f68eed",
   "metadata": {},
   "source": [
    "Create an output matrix"
   ]
  },
  {
   "cell_type": "code",
   "execution_count": 65,
   "id": "f8b73366-228f-4f04-98c2-bb350625eb54",
   "metadata": {},
   "outputs": [],
   "source": [
    "cluster_fill = 99"
   ]
  },
  {
   "cell_type": "code",
   "execution_count": 76,
   "id": "0467c569-e121-4d91-a913-6c704a918074",
   "metadata": {},
   "outputs": [],
   "source": [
    "#cluster_map = np.ma.masked_array(np.zeros(mask_main.shape), mask_main.mask, fill_value=cluster_fill)\n",
    "cluster_map = np.ma.masked_array(np.zeros(mask_main.shape), mask_main, fill_value=cluster_fill)"
   ]
  },
  {
   "cell_type": "code",
   "execution_count": 77,
   "id": "5fa3fd01-136b-4b21-a221-1acd1e2943d3",
   "metadata": {},
   "outputs": [],
   "source": [
    "cluster_map[~cluster_map.mask] = kmeans.labels_"
   ]
  },
  {
   "cell_type": "markdown",
   "id": "61626eea-14f1-40a5-8c53-b554d0fe72f2",
   "metadata": {},
   "source": [
    "#### Save data (dataframe, geotiff)"
   ]
  },
  {
   "cell_type": "code",
   "execution_count": 81,
   "id": "6d5c8e15-99ea-4970-9c07-94e4f5e7beb6",
   "metadata": {},
   "outputs": [],
   "source": [
    "cluster_desc = f'res_0-01_mask-MERIT-GLCLU2019_datasets-{len(file_paths)}_reruns-{n_reruns}'"
   ]
  },
  {
   "cell_type": "code",
   "execution_count": 82,
   "id": "5e9c4154-7eaf-41ac-841e-a74d463f95e7",
   "metadata": {},
   "outputs": [],
   "source": [
    "cluster_path = base_path / 'clustering' / cluster_desc\n",
    "cluster_path.mkdir(exist_ok=True, parents=True)"
   ]
  },
  {
   "cell_type": "code",
   "execution_count": 83,
   "id": "e50f0e16-c9f4-47be-8c1b-63e36dccb559",
   "metadata": {},
   "outputs": [],
   "source": [
    "cluster_file = f'{cluster_desc}_clusters-{n_clusters}.tif'\n",
    "cluster_full = str( cluster_path / cluster_file )"
   ]
  },
  {
   "cell_type": "code",
   "execution_count": 84,
   "id": "aa3bf376-ed8a-4e42-9678-ef0a40844899",
   "metadata": {},
   "outputs": [],
   "source": [
    "write_geotif_sameDomain(mask_file, cluster_full, cluster_map.filled(), no_data_value=cluster_fill)"
   ]
  },
  {
   "cell_type": "markdown",
   "id": "0c65a03b-4c35-4b08-8982-a580753c97f0",
   "metadata": {},
   "source": [
    "### Functions"
   ]
  },
  {
   "cell_type": "code",
   "execution_count": 4,
   "id": "36b93c1c-7129-4a34-88a0-fa5f1e899524",
   "metadata": {},
   "outputs": [],
   "source": [
    "def get_geotiff_properties(file):\n",
    "\n",
    "    with rasterio.open(file) as src:\n",
    "        geoTransform = src.transform\n",
    "        pixelSize = [geoTransform[0],geoTransform[4]]\n",
    "        rasterSize = [src.width,src.height]\n",
    "        boundingBox = src.bounds\n",
    "    \n",
    "    return pixelSize, rasterSize, boundingBox"
   ]
  },
  {
   "cell_type": "code",
   "execution_count": 5,
   "id": "98529713-f823-42dd-a385-77d13ca48f5c",
   "metadata": {},
   "outputs": [],
   "source": [
    "def get_geotif_data_as_array(file, band=1):\n",
    "    ds = gdal.Open(file) # open the file\n",
    "    band = ds.GetRasterBand(band) # get the data band\n",
    "    data = band.ReadAsArray() # convert to numpy array for further manipulation   \n",
    "    return data"
   ]
  },
  {
   "cell_type": "code",
   "execution_count": 6,
   "id": "4164aa46-ca38-480f-8c8a-d271e2a67600",
   "metadata": {},
   "outputs": [],
   "source": [
    "def get_geotif_noData(src_file, band=1):\n",
    "    src_ds = gdal.Open(src_file)\n",
    "    src_band = src_ds.GetRasterBand(band)\n",
    "    no_data_value = src_band.GetNoDataValue()\n",
    "    src_ds = None\n",
    "    return no_data_value"
   ]
  },
  {
   "cell_type": "code",
   "execution_count": 7,
   "id": "d918577d-5281-447a-8e0a-37cde6351e52",
   "metadata": {},
   "outputs": [],
   "source": [
    "def write_geotif_sameDomain(src_file, des_file, des_data, no_data_value=None, type=gdal.GDT_UInt16):\n",
    "    \n",
    "    # load the source file to get the appropriate attributes\n",
    "    src_ds = gdal.Open(src_file)\n",
    "    \n",
    "    # get the geotransform\n",
    "    des_transform = src_ds.GetGeoTransform()\n",
    "\n",
    "    # Get the scale factor from the source metadata\n",
    "    #scale_factor = src_ds.GetRasterBand(1).GetScale()\n",
    "    #offset = src_ds.GetRasterBand(1).GetOffset()\n",
    "    \n",
    "    # get the data dimensions\n",
    "    ncols = des_data.shape[1]\n",
    "    nrows = des_data.shape[0]\n",
    "    \n",
    "    # make the file\n",
    "    driver = gdal.GetDriverByName(\"GTiff\")\n",
    "    dst_ds = driver.Create(des_file,ncols,nrows,1, type, options = [ 'COMPRESS=DEFLATE' ])\n",
    "    \n",
    "    # Write the data\n",
    "    #dst_ds.GetRasterBand(1).WriteArray( des_data )\n",
    "    dst_band = dst_ds.GetRasterBand(1)\n",
    "    dst_band.WriteArray(des_data)\n",
    "    if no_data_value:\n",
    "        dst_band.SetNoDataValue(no_data_value)\n",
    "    \n",
    "    # Set the scale factor and offset in the destination band, if they were defined in the source\n",
    "    #if scale_factor: dst_ds.GetRasterBand(1).SetScale(scale_factor)\n",
    "    #if offset: dst_ds.GetRasterBand(1).SetOffset(offset)\n",
    "    \n",
    "    # Set the geotransform\n",
    "    dst_ds.SetGeoTransform(des_transform)\n",
    "\n",
    "    # Set the projection\n",
    "    wkt = src_ds.GetProjection()\n",
    "    srs = osr.SpatialReference()\n",
    "    srs.ImportFromWkt(wkt)\n",
    "    dst_ds.SetProjection( srs.ExportToWkt() )\n",
    "    \n",
    "    # close files\n",
    "    src_ds = None\n",
    "    des_ds = None\n",
    "\n",
    "    return"
   ]
  },
  {
   "cell_type": "code",
   "execution_count": null,
   "id": "e99a8636-aed8-4a52-9fcf-62999643fc55",
   "metadata": {},
   "outputs": [],
   "source": []
  }
 ],
 "metadata": {
  "kernelspec": {
   "display_name": "perc-model-env",
   "language": "python",
   "name": "perc-model-env"
  },
  "language_info": {
   "codemirror_mode": {
    "name": "ipython",
    "version": 3
   },
   "file_extension": ".py",
   "mimetype": "text/x-python",
   "name": "python",
   "nbconvert_exporter": "python",
   "pygments_lexer": "ipython3",
   "version": "3.11.5"
  }
 },
 "nbformat": 4,
 "nbformat_minor": 5
}
