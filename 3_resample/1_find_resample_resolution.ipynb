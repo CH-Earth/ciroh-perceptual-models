{
 "cells": [
  {
   "cell_type": "markdown",
   "id": "8d904113-d31d-46ff-b042-01155df2ef14",
   "metadata": {},
   "source": [
    "# 1. Find highest GeoTIFF resolution"
   ]
  },
  {
   "cell_type": "code",
   "execution_count": 1,
   "id": "ba298f20-e238-4634-92ce-cb9d2318e01d",
   "metadata": {},
   "outputs": [],
   "source": [
    "import sys\n",
    "from pathlib import Path\n",
    "sys.path.append(str(Path().absolute().parent))\n",
    "import _functions as pmf"
   ]
  },
  {
   "cell_type": "code",
   "execution_count": 2,
   "id": "5201d4d5-d731-462d-bab4-1941a889fd2d",
   "metadata": {},
   "outputs": [],
   "source": [
    "# Specify where the config file can be found\n",
    "config_file = '../0_config/config.txt'"
   ]
  },
  {
   "cell_type": "code",
   "execution_count": 3,
   "id": "e4db5cfc-aeab-43cc-84fb-2494bd41a538",
   "metadata": {},
   "outputs": [],
   "source": [
    "# Get the required info from the config file\n",
    "raw_path = pmf.read_from_config(config_file,'raw_path')"
   ]
  },
  {
   "cell_type": "markdown",
   "id": "04730d89-b853-4a6b-aa61-fdacef2e4ab5",
   "metadata": {},
   "source": [
    "## 1.1 Find all GeoTIFF file paths\n",
    "We only need 1 file per data set, because we know that resolutions are consistent within a given data set."
   ]
  },
  {
   "cell_type": "code",
   "execution_count": 4,
   "id": "e9405afe-3ead-4614-948c-8dcdb506e0aa",
   "metadata": {},
   "outputs": [],
   "source": [
    "import os"
   ]
  },
  {
   "cell_type": "code",
   "execution_count": 5,
   "id": "8e2610cc-2f22-4f24-85b0-ae6e63de192b",
   "metadata": {},
   "outputs": [],
   "source": [
    "# Find the geotiffs and pre-filter everything not WorldClim\n",
    "contents = []\n",
    "for root, dirs, files in os.walk(raw_path):\n",
    "    if files:\n",
    "        for file in files:\n",
    "            if file.lower().endswith('.tif'):\n",
    "                contents.append(os.path.join(root,file))\n",
    "                break"
   ]
  },
  {
   "cell_type": "code",
   "execution_count": 6,
   "id": "f630a86f-3a43-47b6-931a-a656f8254209",
   "metadata": {},
   "outputs": [],
   "source": [
    "# Remove the extra WorldClim entries\n",
    "worldclim_indices = [i for i, path in enumerate(contents) if 'worldclim' in path]\n",
    "file_paths = [content for i,content in enumerate(contents) if i not in worldclim_indices[1:]]"
   ]
  },
  {
   "cell_type": "markdown",
   "id": "9aa6e301-15a2-4e43-bb5c-2728dc840c66",
   "metadata": {},
   "source": [
    "## 1.2 Open geotiffs and find resolutions"
   ]
  },
  {
   "cell_type": "code",
   "execution_count": 7,
   "id": "8564ae39-0f0e-4f2c-bd6e-1b4bbdcac314",
   "metadata": {},
   "outputs": [],
   "source": [
    "import rasterio"
   ]
  },
  {
   "cell_type": "code",
   "execution_count": 8,
   "id": "54b215de-5a12-48f9-9f30-51231885e87c",
   "metadata": {},
   "outputs": [],
   "source": [
    "def get_geotiff_resolution(file_path):\n",
    "    with rasterio.open(file_path) as src:\n",
    "        # Get the transform object from the dataset\n",
    "        transform = src.transform\n",
    "\n",
    "        # Extract x and y resolutions from the transform\n",
    "        x_resolution = transform[0]\n",
    "        y_resolution = transform[4]\n",
    "\n",
    "    return x_resolution, y_resolution"
   ]
  },
  {
   "cell_type": "code",
   "execution_count": 9,
   "id": "108fef80-6b0a-466e-a907-c0c8788a9fff",
   "metadata": {},
   "outputs": [],
   "source": [
    "x_resolutions = []\n",
    "y_resolutions = []\n",
    "for file in file_paths:\n",
    "    x,y = get_geotiff_resolution(file)\n",
    "    x_resolutions.append(x)\n",
    "    y_resolutions.append(y)"
   ]
  },
  {
   "cell_type": "code",
   "execution_count": 22,
   "id": "50a8a35a-2f5c-4d58-a2cd-addfb27ada42",
   "metadata": {},
   "outputs": [],
   "source": [
    "x_res = min(x_resolutions) # smallest value == highest resolution\n",
    "y_res = max(y_resolutions) # largest value, because all y-resolutions are negative by default"
   ]
  },
  {
   "cell_type": "markdown",
   "id": "eb31f9d0-4429-4c66-a6e4-16b380ce7375",
   "metadata": {},
   "source": [
    "## 1.3 Add these to the config file\n",
    "Assumes we have a file that does not yet contain the `x_res` and `y_res` values."
   ]
  },
  {
   "cell_type": "code",
   "execution_count": 25,
   "id": "a52adc62-0ff4-42e7-84cc-95f76729ad8e",
   "metadata": {},
   "outputs": [],
   "source": [
    "with open(config_file, 'a') as f:\n",
    "    f.write(f'\\nx_res | {x_res} | float # highest resolution in source datasets in x direction')\n",
    "    f.write(f'\\ny_res | {y_res} | float # highest resolution in source datasets in y direction')"
   ]
  }
 ],
 "metadata": {
  "kernelspec": {
   "display_name": "perc-model-env",
   "language": "python",
   "name": "perc-model-env"
  },
  "language_info": {
   "codemirror_mode": {
    "name": "ipython",
    "version": 3
   },
   "file_extension": ".py",
   "mimetype": "text/x-python",
   "name": "python",
   "nbconvert_exporter": "python",
   "pygments_lexer": "ipython3",
   "version": "3.11.5"
  }
 },
 "nbformat": 4,
 "nbformat_minor": 5
}
