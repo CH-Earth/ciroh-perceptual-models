{
 "cells": [
  {
   "cell_type": "markdown",
   "id": "8d904113-d31d-46ff-b042-01155df2ef14",
   "metadata": {},
   "source": [
    "# 2. Resample\n",
    "We want all GeoTIFFs at the same resolution to ensure we can process everything easily."
   ]
  },
  {
   "cell_type": "code",
   "execution_count": 1,
   "id": "ba298f20-e238-4634-92ce-cb9d2318e01d",
   "metadata": {},
   "outputs": [],
   "source": [
    "import sys\n",
    "from pathlib import Path\n",
    "sys.path.append(str(Path().absolute().parent))\n",
    "import _functions as pmf"
   ]
  },
  {
   "cell_type": "code",
   "execution_count": 2,
   "id": "5201d4d5-d731-462d-bab4-1941a889fd2d",
   "metadata": {},
   "outputs": [],
   "source": [
    "# Specify where the config file can be found\n",
    "config_file = '../0_config/config.txt'"
   ]
  },
  {
   "cell_type": "code",
   "execution_count": 3,
   "id": "e4db5cfc-aeab-43cc-84fb-2494bd41a538",
   "metadata": {},
   "outputs": [],
   "source": [
    "# Get the required info from the config file\n",
    "raw_path = pmf.read_from_config(config_file,'raw_path')\n",
    "data_path = pmf.read_from_config(config_file,'data_path')\n",
    "x_res = pmf.read_from_config(config_file,'x_res')\n",
    "y_res = pmf.read_from_config(config_file,'y_res')\n",
    "domain = pmf.read_from_config(config_file,'domain')"
   ]
  },
  {
   "cell_type": "markdown",
   "id": "04730d89-b853-4a6b-aa61-fdacef2e4ab5",
   "metadata": {},
   "source": [
    "## 2.1 Find all GeoTIFF file paths\n",
    "These are in their native resolution."
   ]
  },
  {
   "cell_type": "code",
   "execution_count": 4,
   "id": "e9405afe-3ead-4614-948c-8dcdb506e0aa",
   "metadata": {},
   "outputs": [],
   "source": [
    "import os"
   ]
  },
  {
   "cell_type": "code",
   "execution_count": 5,
   "id": "8e2610cc-2f22-4f24-85b0-ae6e63de192b",
   "metadata": {},
   "outputs": [],
   "source": [
    "# Find the geotiffs and pre-filter everything not WorldClim\n",
    "contents = []\n",
    "for root, dirs, files in os.walk(raw_path):\n",
    "    if files:\n",
    "        for file in files:\n",
    "            if file.lower().endswith('.tif'):\n",
    "                contents.append(os.path.join(root,file))"
   ]
  },
  {
   "cell_type": "code",
   "execution_count": 6,
   "id": "f630a86f-3a43-47b6-931a-a656f8254209",
   "metadata": {},
   "outputs": [],
   "source": [
    "# Remove the extra LAI entries for the moment\n",
    "#  This is unfortunately necessary because we're rerunning those\n",
    "lai_indices = [i for i, path in enumerate(contents) if '/lai/raw/' in path]\n",
    "file_paths = [content for i,content in enumerate(contents) if i not in lai_indices]"
   ]
  },
  {
   "cell_type": "markdown",
   "id": "9aa6e301-15a2-4e43-bb5c-2728dc840c66",
   "metadata": {},
   "source": [
    "## 2.2 Resample GeoTIFFs to a single resolution"
   ]
  },
  {
   "cell_type": "code",
   "execution_count": 7,
   "id": "8564ae39-0f0e-4f2c-bd6e-1b4bbdcac314",
   "metadata": {},
   "outputs": [],
   "source": [
    "from osgeo import gdal, gdalconst"
   ]
  },
  {
   "cell_type": "code",
   "execution_count": 8,
   "id": "89933a2e-8f2b-4938-b9ec-c06a948d6f4d",
   "metadata": {},
   "outputs": [],
   "source": [
    "# Define the output location\n",
    "main_path = Path(data_path) / 'data' / 'geotiff_same_resolution'\n",
    "main_path.mkdir(exist_ok=True, parents=True)"
   ]
  },
  {
   "cell_type": "code",
   "execution_count": 9,
   "id": "519791cb-65e2-480c-8001-f563146f0431",
   "metadata": {},
   "outputs": [],
   "source": [
    "# Format the resampling window\n",
    "window = [domain.split(',')[0], # minX: -179.5\n",
    "          domain.split(',')[2], # minY:    5\n",
    "          domain.split(',')[1], # maxX: - 50\n",
    "          domain.split(',')[3]] # maxY:   85"
   ]
  },
  {
   "cell_type": "code",
   "execution_count": 10,
   "id": "ac53a390-5031-42a2-a87d-464996e89377",
   "metadata": {},
   "outputs": [],
   "source": [
    "# Define the resampling method dictionary: \n",
    "#  Distinguishes between continuous (average values) and discrete (nearest neighbor) data\n",
    "resample_method_dict = {'forest_height' : 'average',\n",
    "                        'glclu2019'     : 'nearest',\n",
    "                        'lai'           : 'average',\n",
    "                        'lgrip30'       : 'nearest',\n",
    "                        'merit'         : 'average',\n",
    "                        'pelletier'     : 'average', # 5/6 data sets are continuous but ...\n",
    "                        'pelletier_mask': 'nearest', # land mask is discrete\n",
    "                        'soilgrids'     : 'average',\n",
    "                        'worldclim'     : 'average'}"
   ]
  },
  {
   "cell_type": "code",
   "execution_count": 12,
   "id": "3450399d-30bf-4ec2-a306-ff751414f979",
   "metadata": {},
   "outputs": [],
   "source": [
    "def resample_geotiff(in_file, outfile, window=None, x_res=None, y_res=None, method=None):\n",
    "\n",
    "    # Set resampling algorithm\n",
    "    if method.lower() == 'average':\n",
    "        resample = gdal.GRA_Average\n",
    "    elif method.lower() == 'nearest':\n",
    "        resample = gdal.GRA_NearestNeighbour\n",
    "    else:\n",
    "        print(f'WARNING: resample_geotiff(): resampling method {method} not implemented. Defaulting to GRA_Average.')\n",
    "        resample = gdal.GRA_Average\n",
    "\n",
    "    # Define the options\n",
    "    options = gdal.WarpOptions(format = 'VRT',\n",
    "                               xRes = x_res, # same units as CRS\n",
    "                               yRes = y_res, # same units as CRS\n",
    "                               outputBounds = window, # same units as CRS [minX, minY, maxX, maxY]\n",
    "                               resampleAlg = resample)\n",
    "\n",
    "    # Load the input data\n",
    "    src_dataset = gdal.Open(in_file, gdalconst.GA_ReadOnly)\n",
    "    \n",
    "    # Do the resampling\n",
    "    vrt = gdal.Warp('', src_dataset, options=options)\n",
    "\n",
    "    # Write the VRT to file with translate, so we can use compression\n",
    "    tif_options = gdal.TranslateOptions(format='GTiff', creationOptions=['COMPRESS=DEFLATE','BIGTIFF=YES'])\n",
    "    gdal.Translate(outfile, vrt, options=tif_options).FlushCache()\n",
    "\n",
    "    # Flush cache\n",
    "    vrt = None\n",
    "    src_dataset = None\n",
    "\n",
    "    # Close the input data\n",
    "    src_dataset = None"
   ]
  },
  {
   "cell_type": "markdown",
   "id": "0495ec5d-b70b-4204-a57f-f216c3144e0f",
   "metadata": {},
   "source": [
    "### 2.2.1 Processing"
   ]
  },
  {
   "cell_type": "code",
   "execution_count": 13,
   "id": "0834c0b1-b322-48de-a3ef-e2a939368e4f",
   "metadata": {},
   "outputs": [],
   "source": [
    "gdal.UseExceptions() # Ensure we see it if something goes wrong"
   ]
  },
  {
   "cell_type": "code",
   "execution_count": null,
   "id": "34428deb-2e87-4186-aa37-0a0ba6794279",
   "metadata": {},
   "outputs": [
    {
     "name": "stdout",
     "output_type": "stream",
     "text": [
      "Resampling forest_height_2020.tif with method = average\n",
      "Resampling upland_hill-slope_soil_thickness.tif with method = average\n",
      "Resampling upland_hill-slope_regolith_thickness.tif with method = average\n",
      "Resampling average_soil_and_sedimentary-deposit_thickness.tif with method = average\n",
      "Resampling hill-slope_valley-bottom.tif with method = average\n",
      "Resampling land_cover_mask.tif with method = nearest\n",
      "Resampling upland_valley-bottom_and_lowland_sedimentary_deposit_thickness.tif with method = average\n",
      "Resampling wc2.1_30s_prec_09.tif with method = average\n",
      "Resampling wc2.1_30s_prec_08.tif with method = average\n"
     ]
    }
   ],
   "source": [
    "for file in file_paths[1:]:\n",
    "\n",
    "    # Find the main folder name - we need this to find the resampling method\n",
    "    path_segments = file.split('/')\n",
    "    data_name = path_segments[5] # Assumes '/Users/usr/data/NorthAmerica_geospatial/product/..'\n",
    "\n",
    "    # Define the output locations\n",
    "    out_path = main_path / data_name\n",
    "    out_path.mkdir(exist_ok=True, parents=True)\n",
    "    out_file = str( out_path / os.path.basename(file).replace('.tif','_resampled.tif') )\n",
    "\n",
    "    # Resume after interrupts\n",
    "    if os.path.isfile(out_file):\n",
    "        print(f'Resampling {os.path.basename(file)} already processed. Skipping to next.')\n",
    "        continue\n",
    "    \n",
    "    # Check for the Pelletier special case\n",
    "    if (data_name == 'pelletier') and ('land_cover_mask' in os.path.basename(file)):\n",
    "        data_name = 'pelletier_mask'\n",
    "\n",
    "    # Find the resampling method\n",
    "    method = resample_method_dict[data_name]\n",
    "\n",
    "    # Resample\n",
    "    print(f'Resampling {os.path.basename(file)} with method = {method}')\n",
    "    resample_geotiff(file, out_file, window=window, x_res=x_res, y_res=y_res, method=method)"
   ]
  },
  {
   "cell_type": "code",
   "execution_count": null,
   "id": "30f51c50-92ad-47a2-9ad7-a77e4fd28bdd",
   "metadata": {},
   "outputs": [],
   "source": []
  }
 ],
 "metadata": {
  "kernelspec": {
   "display_name": "perc-model-env",
   "language": "python",
   "name": "perc-model-env"
  },
  "language_info": {
   "codemirror_mode": {
    "name": "ipython",
    "version": 3
   },
   "file_extension": ".py",
   "mimetype": "text/x-python",
   "name": "python",
   "nbconvert_exporter": "python",
   "pygments_lexer": "ipython3",
   "version": "3.11.5"
  }
 },
 "nbformat": 4,
 "nbformat_minor": 5
}
