{
 "cells": [
  {
   "cell_type": "markdown",
   "id": "6a1f5878-9cf7-46db-b5b3-70e1173fd6f9",
   "metadata": {},
   "source": [
    "# Landscape clustering: topographic, climatic, soil and land use"
   ]
  },
  {
   "cell_type": "code",
   "execution_count": 1,
   "id": "6dd72442-7f8e-4ed9-8d6e-583b5acd3fcc",
   "metadata": {},
   "outputs": [],
   "source": [
    "import geopandas as gpd\n",
    "import matplotlib.pyplot as plt\n",
    "import numpy as np\n",
    "import pandas as pd\n",
    "from pathlib import Path\n",
    "from sklearn import preprocessing\n",
    "from sklearn.cluster import KMeans\n",
    "from sklearn.metrics import silhouette_score, silhouette_samples\n",
    "import time"
   ]
  },
  {
   "cell_type": "code",
   "execution_count": 2,
   "id": "02528bb3-8cb3-48a3-97cd-cad30389021e",
   "metadata": {},
   "outputs": [],
   "source": [
    "file_path = Path('/Users/wmk934/data/perceptual_models/data/zonal_stats/')\n",
    "dat_file_name = 'zonal_stats.csv'\n",
    "shp_file_name = 'merit_hydro_basins_MODIS_IGBP_counts.shp'"
   ]
  },
  {
   "cell_type": "code",
   "execution_count": 3,
   "id": "227fb0be-a137-4dd5-8166-2dd6163c1eee",
   "metadata": {},
   "outputs": [],
   "source": [
    "dat = pd.read_csv(file_path/dat_file_name)"
   ]
  },
  {
   "cell_type": "code",
   "execution_count": 4,
   "id": "3836bb19-9596-40a2-ade9-1aa5aeac5abb",
   "metadata": {},
   "outputs": [],
   "source": [
    "shp = gpd.read_file(file_path/shp_file_name)"
   ]
  },
  {
   "cell_type": "code",
   "execution_count": 5,
   "id": "d4bc2279-9949-4fff-964f-29b2bcbb4576",
   "metadata": {},
   "outputs": [],
   "source": [
    "# Merge the whole thing so we can look at geographical locations\n",
    "dat = dat.set_index('COMID')\n",
    "shp = shp.set_index('COMID')\n",
    "assert (dat.index == shp.index).all() # pops an error if index (COMID) order is not the same in both dataframes\n",
    "dat['geometry'] = shp['geometry']\n",
    "dat = gpd.GeoDataFrame(dat)"
   ]
  },
  {
   "cell_type": "markdown",
   "id": "bc80b160-44e0-40bd-a4c1-ac6f6c275f78",
   "metadata": {},
   "source": [
    "### Prepare dataframe for clustering"
   ]
  },
  {
   "cell_type": "code",
   "execution_count": 6,
   "id": "32bba8e7-8adc-444a-a221-5218a967e610",
   "metadata": {},
   "outputs": [
    {
     "data": {
      "text/plain": [
       "Index(['unitarea', 'elev_mean', 'elev_stdev', 'elev_min', 'elev_max',\n",
       "       'slope_mean', 'slope_stdev', 'slope_min', 'slope_max', 'im_mean',\n",
       "       'im_stdev', 'imr_mean', 'imr_stdev', 'fs_mean', 'fs_stdev', 'lg_water',\n",
       "       'lg_non-cro', 'lg_irrigat', 'lg_rainfed', 'igbp_1', 'igbp_2', 'igbp_3',\n",
       "       'igbp_4', 'igbp_5', 'igbp_6', 'igbp_7', 'igbp_8', 'igbp_9', 'igbp_10',\n",
       "       'igbp_11', 'igbp_12', 'igbp_13', 'igbp_14', 'igbp_15', 'igbp_16',\n",
       "       'igbp_17', 'igbp_255', 'depth_mean', 'depth_stde', 'depth_min',\n",
       "       'depth_max', 'pfaf', 'area_km2', 'igbp_mode', 'lgrip_mode', 'geometry'],\n",
       "      dtype='object')"
      ]
     },
     "execution_count": 6,
     "metadata": {},
     "output_type": "execute_result"
    }
   ],
   "source": [
    "dat.columns"
   ]
  },
  {
   "cell_type": "code",
   "execution_count": 7,
   "id": "b75c443b-19d1-420b-be41-fbeef25f10a2",
   "metadata": {},
   "outputs": [],
   "source": [
    "cluster_data = dat[['elev_mean','slope_mean','im_mean','imr_mean','fs_mean','depth_mean',\n",
    "                    'lg_water','lg_non-cro', 'lg_irrigat', 'lg_rainfed', \n",
    "                    'igbp_1', 'igbp_2', 'igbp_3','igbp_4', 'igbp_5', 'igbp_6', 'igbp_7', 'igbp_8','igbp_9',\n",
    "                    'igbp_10','igbp_11', 'igbp_12', 'igbp_13', 'igbp_14', 'igbp_15', 'igbp_16','igbp_17',\n",
    "                    'geometry']]"
   ]
  },
  {
   "cell_type": "code",
   "execution_count": 8,
   "id": "88d18c4f-37d3-4169-a547-9a9fa4d837c1",
   "metadata": {},
   "outputs": [
    {
     "name": "stdout",
     "output_type": "stream",
     "text": [
      "Dropped 57332 rows, with a total area of 5.8e+05 km^2 (0.027% of total land mass).\n"
     ]
    }
   ],
   "source": [
    "mask = cluster_data.isna()\n",
    "area = dat[dat.isna().any(axis=1)]['area_km2'].sum()\n",
    "apct = area / dat['area_km2'].sum()\n",
    "cluster_data = cluster_data.dropna()\n",
    "print(f'Dropped {len(dat)-len(cluster_data)} rows, with a total area of {area:0.2} km^2 ({apct:0.2}% of total land mass).')"
   ]
  },
  {
   "cell_type": "markdown",
   "id": "dfc91373-bbdb-4163-8ad4-7a65ce843f84",
   "metadata": {},
   "source": [
    "Inspection shows that these are mostly very small islands off the coasts. There's just a lot of them but in terms of land mass they are insignificant."
   ]
  },
  {
   "cell_type": "code",
   "execution_count": 9,
   "id": "d59a28f7-6eb6-4f1b-a2c9-e58e6b41e370",
   "metadata": {},
   "outputs": [],
   "source": [
    "cluster_temp = cluster_data.drop(columns=['geometry']) # Cluster without the geometries, but we need these later so we keep them in the GDF"
   ]
  },
  {
   "cell_type": "code",
   "execution_count": 10,
   "id": "0b12bc0c-a022-4a97-aa84-1f22b35ec368",
   "metadata": {},
   "outputs": [],
   "source": [
    "scaler = preprocessing.StandardScaler().fit(cluster_temp) "
   ]
  },
  {
   "cell_type": "code",
   "execution_count": 11,
   "id": "441f16b8-e8ca-4b5d-ab88-1bed2c8a3304",
   "metadata": {},
   "outputs": [],
   "source": [
    "cluster_input = scaler.transform(cluster_temp)"
   ]
  },
  {
   "cell_type": "markdown",
   "id": "761902ea-cc5c-4078-ac83-55b19a6eec60",
   "metadata": {},
   "source": [
    "### Cluster"
   ]
  },
  {
   "cell_type": "code",
   "execution_count": 85,
   "id": "5d568159-a452-4969-b9a5-b17d0d789bc8",
   "metadata": {},
   "outputs": [],
   "source": [
    "# Create the output folder for the clustering results\n",
    "cluster_path = Path('/Users/wmk934/data/perceptual_models/data/clustering')\n",
    "cluster_path.mkdir(parents=True,exist_ok=True)"
   ]
  },
  {
   "cell_type": "code",
   "execution_count": 15,
   "id": "84b38a1a-c7b3-4e5b-8567-5af1bcd56727",
   "metadata": {},
   "outputs": [],
   "source": [
    "# General settings\n",
    "n_reruns = 10\n",
    "n_clusters_range = range(2,50)"
   ]
  },
  {
   "cell_type": "code",
   "execution_count": 100,
   "id": "db3f6508-593e-4846-be79-328719734b72",
   "metadata": {},
   "outputs": [
    {
     "name": "stdout",
     "output_type": "stream",
     "text": [
      "Clustering 02 clusters with 10 re-runs took 3.676 s. Inertia = 1.2152824e+07\n",
      "Clustering 03 clusters with 10 re-runs took 3.929 s. Inertia = 1.1432078e+07\n",
      "Clustering 04 clusters with 10 re-runs took 4.263 s. Inertia = 1.0883845e+07\n",
      "Clustering 05 clusters with 10 re-runs took 5.024 s. Inertia = 1.0472462e+07\n",
      "Clustering 06 clusters with 10 re-runs took 5.493 s. Inertia = 1.0077888e+07\n",
      "Clustering 07 clusters with 10 re-runs took 6.263 s. Inertia = 9733225.2\n",
      "Clustering 08 clusters with 10 re-runs took 6.032 s. Inertia = 9432080.7\n",
      "Clustering 09 clusters with 10 re-runs took 6.732 s. Inertia = 9085631.6\n",
      "Clustering 10 clusters with 10 re-runs took 6.325 s. Inertia = 8818842.2\n",
      "Clustering 11 clusters with 10 re-runs took 7.04 s. Inertia = 8532133.8\n",
      "Clustering 12 clusters with 10 re-runs took 7.362 s. Inertia = 8201076.4\n",
      "Clustering 13 clusters with 10 re-runs took 7.106 s. Inertia = 7874627.0\n",
      "Clustering 14 clusters with 10 re-runs took 6.565 s. Inertia = 7660386.3\n",
      "Clustering 15 clusters with 10 re-runs took 7.468 s. Inertia = 7375967.3\n",
      "Clustering 16 clusters with 10 re-runs took 7.48 s. Inertia = 7093223.5\n",
      "Clustering 17 clusters with 10 re-runs took 7.683 s. Inertia = 6781899.7\n",
      "Clustering 18 clusters with 10 re-runs took 7.714 s. Inertia = 6634229.1\n",
      "Clustering 19 clusters with 10 re-runs took 7.955 s. Inertia = 6388178.9\n",
      "Clustering 20 clusters with 10 re-runs took 7.406 s. Inertia = 6126681.3\n",
      "Clustering 21 clusters with 10 re-runs took 7.965 s. Inertia = 5904395.9\n",
      "Clustering 22 clusters with 10 re-runs took 8.893 s. Inertia = 5621027.5\n",
      "Clustering 23 clusters with 10 re-runs took 8.365 s. Inertia = 5452233.8\n",
      "Clustering 24 clusters with 10 re-runs took 8.559 s. Inertia = 5377983.9\n",
      "Clustering 25 clusters with 10 re-runs took 9.322 s. Inertia = 5177869.7\n",
      "Clustering 26 clusters with 10 re-runs took 8.392 s. Inertia = 5101121.1\n",
      "Clustering 27 clusters with 10 re-runs took 8.752 s. Inertia = 4992737.5\n",
      "Clustering 28 clusters with 10 re-runs took 8.063 s. Inertia = 4937861.6\n",
      "Clustering 29 clusters with 10 re-runs took 8.776 s. Inertia = 4839491.1\n",
      "Clustering 30 clusters with 10 re-runs took 9.19 s. Inertia = 4747362.0\n",
      "Clustering 31 clusters with 10 re-runs took 8.851 s. Inertia = 4677359.3\n",
      "Clustering 32 clusters with 10 re-runs took 9.336 s. Inertia = 4621599.3\n",
      "Clustering 33 clusters with 10 re-runs took 10.08 s. Inertia = 4535675.4\n",
      "Clustering 34 clusters with 10 re-runs took 9.504 s. Inertia = 4481850.1\n",
      "Clustering 35 clusters with 10 re-runs took 10.6 s. Inertia = 4402170.1\n",
      "Clustering 36 clusters with 10 re-runs took 10.33 s. Inertia = 4353092.0\n",
      "Clustering 37 clusters with 10 re-runs took 10.92 s. Inertia = 4284862.6\n",
      "Clustering 38 clusters with 10 re-runs took 10.46 s. Inertia = 4202163.5\n",
      "Clustering 39 clusters with 10 re-runs took 11.59 s. Inertia = 4159646.0\n",
      "Clustering 40 clusters with 10 re-runs took 10.98 s. Inertia = 4073331.3\n",
      "Clustering 41 clusters with 10 re-runs took 12.27 s. Inertia = 4035768.2\n",
      "Clustering 42 clusters with 10 re-runs took 12.51 s. Inertia = 3977629.7\n",
      "Clustering 43 clusters with 10 re-runs took 13.01 s. Inertia = 3855502.4\n",
      "Clustering 44 clusters with 10 re-runs took 13.36 s. Inertia = 3840125.7\n",
      "Clustering 45 clusters with 10 re-runs took 13.97 s. Inertia = 3766979.7\n",
      "Clustering 46 clusters with 10 re-runs took 14.46 s. Inertia = 3737611.8\n",
      "Clustering 47 clusters with 10 re-runs took 14.43 s. Inertia = 3729862.0\n",
      "Clustering 48 clusters with 10 re-runs took 13.25 s. Inertia = 3635446.4\n",
      "Clustering 49 clusters with 10 re-runs took 15.44 s. Inertia = 3655890.3\n"
     ]
    }
   ],
   "source": [
    "# Loop over the n_clusters\n",
    "inertia = []\n",
    "for n_clusters in n_clusters_range:\n",
    "    start = time.time()\n",
    "    kmeans =  KMeans(n_clusters = n_clusters, init='k-means++', n_init = n_reruns)\n",
    "    kmeans.fit(cluster_input)\n",
    "    cluster_data[f'cluster_{n_clusters}'] = kmeans.labels_\n",
    "    inertia.append(kmeans.inertia_)\n",
    "    end = time.time()\n",
    "    print(f'Clustering {n_clusters:02} clusters with {n_reruns} re-runs took {end-start:0.4} s. Inertia = {kmeans.inertia_:0.8}')\n",
    "cluster_file = f'clustering_results_clusters_2_to_50.shp'\n",
    "cluster_data.to_file(cluster_path/cluster_file)"
   ]
  },
  {
   "cell_type": "code",
   "execution_count": 126,
   "id": "23c9e833-489b-4962-84f7-4a94ce4103e5",
   "metadata": {},
   "outputs": [
    {
     "data": {
      "image/png": "[encoded data removed]",
      "text/plain": [
       "<Figure size 640x480 with 1 Axes>"
      ]
     },
     "metadata": {},
     "output_type": "display_data"
    }
   ],
   "source": [
    "# Elbow plot\n",
    "plt.plot(n_clusters,inertia)\n",
    "plt.xlabel('Clusters')\n",
    "plt.ylabel('kmeans.inertia_')\n",
    "plt.title('Elbow plot');"
   ]
  },
  {
   "cell_type": "markdown",
   "id": "0b721169-f751-429a-a7b5-9c3ba3d83ced",
   "metadata": {},
   "source": [
    "## Silhouette plots\n",
    "Clearly the elbow plot doesn't tell us much: there is no clear elbow. Possibly better (but slwoer) are silhouette plots. These let us compare within-cluster and between-cluster differences."
   ]
  },
  {
   "cell_type": "code",
   "execution_count": 12,
   "id": "32ae5059-d5e7-478f-ad58-990499cf61ac",
   "metadata": {},
   "outputs": [],
   "source": [
    "def plot_silhouette(cluster_input, n_clusters, cluster_labels, sample_silhouette_values, silhouette_avg, inertia):\n",
    "    \n",
    "    '''Creates a silhouette plot'''\n",
    "\n",
    "    fig, ax1 = plt.subplots(1, 1)\n",
    "    fig.set_size_inches(8, 6)\n",
    "    \n",
    "    # The 1st subplot is the silhouette plot\n",
    "    # The silhouette coefficient can range from -1, 1\n",
    "    ax1.set_xlim([-0.1, 1])\n",
    "    # The (num_clusters+1)*10 is for inserting blank space between silhouette\n",
    "    # plots of individual clusters, to demarcate them clearly.\n",
    "    ax1.set_ylim([0, len(cluster_input) + (n_clusters + 1) * 10])\n",
    "    \n",
    "    y_lower = 10\n",
    "    for i in range(n_clusters):\n",
    "        # Aggregate the silhouette scores for samples belonging to\n",
    "        # cluster i, and sort them\n",
    "        ith_cluster_silhouette_values = \\\n",
    "            sample_silhouette_values[cluster_labels == i]\n",
    "    \n",
    "        ith_cluster_silhouette_values.sort()\n",
    "    \n",
    "        size_cluster_i = ith_cluster_silhouette_values.shape[0]\n",
    "        y_upper = y_lower + size_cluster_i\n",
    "    \n",
    "        color = plt.cm.nipy_spectral(float(i) / n_clusters)\n",
    "        ax1.fill_betweenx(np.arange(y_lower, y_upper),\n",
    "                          0, ith_cluster_silhouette_values,\n",
    "                          facecolor=color, edgecolor=color, alpha=0.7)\n",
    "    \n",
    "        # Label the silhouette plots with their cluster numbers at the middle\n",
    "        ax1.text(-0.05, y_lower + 0.5 * size_cluster_i, str(i))\n",
    "    \n",
    "        # Compute the new y_lower for next plot\n",
    "        y_lower = y_upper + 10  # 10 for the 0 samples\n",
    "    \n",
    "    ax1.set_title(f\"Silhouette plot for {n_clusters} clusters. Inertia = {inertia:.0f}\")\n",
    "    ax1.set_xlabel(\"Silhouette coefficient values\")\n",
    "    ax1.set_ylabel(\"Cluster label\")\n",
    "    \n",
    "    # The vertical line for average silhouette score of all the values\n",
    "    ax1.axvline(x=silhouette_avg, color=\"red\", linestyle=\"--\")\n",
    "    \n",
    "    ax1.set_yticks([])  # Clear the yaxis labels / ticks\n",
    "    ax1.set_xticks([-0.1, 0, 0.2, 0.4, 0.6, 0.8, 1]);\n",
    "    \n",
    "    return # nothing"
   ]
  },
  {
   "cell_type": "code",
   "execution_count": 13,
   "id": "41d833fe-8e8e-4763-9172-8adbed3963cd",
   "metadata": {},
   "outputs": [],
   "source": [
    "# Save location\n",
    "img_path = Path('/Users/wmk934/data/perceptual_models/img/cluster_silhouettes')\n",
    "img_path.mkdir(parents=True, exist_ok=True)"
   ]
  },
  {
   "cell_type": "code",
   "execution_count": 18,
   "id": "e581a2de-ca1b-495c-b960-d23c45477c95",
   "metadata": {},
   "outputs": [
    {
     "name": "stdout",
     "output_type": "stream",
     "text": [
      "Clustering 02 clusters with 10 re-runs took 3.415e+03 s. Inertia = 1.2152821e+07\n",
      "Clustering 03 clusters with 10 re-runs took 3.266e+03 s. Inertia = 1.1432077e+07\n",
      "Clustering 04 clusters with 10 re-runs took 3.118e+03 s. Inertia = 1.0883847e+07\n",
      "Clustering 05 clusters with 10 re-runs took 3.117e+03 s. Inertia = 1.0472461e+07\n",
      "Clustering 06 clusters with 10 re-runs took 3.106e+03 s. Inertia = 1.0099364e+07\n",
      "Clustering 07 clusters with 10 re-runs took 3.038e+03 s. Inertia = 9750535.8\n",
      "Clustering 08 clusters with 10 re-runs took 3.083e+03 s. Inertia = 9413470.9\n",
      "Clustering 09 clusters with 10 re-runs took 2.948e+03 s. Inertia = 9125869.8\n",
      "Clustering 10 clusters with 10 re-runs took 2.989e+03 s. Inertia = 8809073.1\n",
      "Clustering 11 clusters with 10 re-runs took 2.946e+03 s. Inertia = 8510917.9\n",
      "Clustering 12 clusters with 10 re-runs took 2.959e+03 s. Inertia = 8226746.9\n",
      "Clustering 13 clusters with 10 re-runs took 2.91e+03 s. Inertia = 7872885.2\n",
      "Clustering 14 clusters with 10 re-runs took 2.958e+03 s. Inertia = 7678313.6\n",
      "Clustering 15 clusters with 10 re-runs took 2.992e+03 s. Inertia = 7386687.9\n",
      "Clustering 16 clusters with 10 re-runs took 2.896e+03 s. Inertia = 7142977.1\n",
      "Clustering 17 clusters with 10 re-runs took 2.95e+03 s. Inertia = 6917595.5\n",
      "Clustering 18 clusters with 10 re-runs took 2.95e+03 s. Inertia = 6610515.4\n",
      "Clustering 19 clusters with 10 re-runs took 2.954e+03 s. Inertia = 6351871.7\n",
      "Clustering 20 clusters with 10 re-runs took 2.905e+03 s. Inertia = 6077507.6\n",
      "Clustering 21 clusters with 10 re-runs took 2.75e+03 s. Inertia = 5928961.4\n",
      "Clustering 22 clusters with 10 re-runs took 2.733e+03 s. Inertia = 5652700.8\n",
      "Clustering 23 clusters with 10 re-runs took 2.691e+03 s. Inertia = 5502304.8\n",
      "Clustering 24 clusters with 10 re-runs took 2.75e+03 s. Inertia = 5301560.3\n",
      "Clustering 25 clusters with 10 re-runs took 2.646e+03 s. Inertia = 5199151.5\n",
      "Clustering 26 clusters with 10 re-runs took 2.613e+03 s. Inertia = 5106926.7\n",
      "Clustering 27 clusters with 10 re-runs took 2.592e+03 s. Inertia = 4983068.5\n",
      "Clustering 28 clusters with 10 re-runs took 2.615e+03 s. Inertia = 4915889.0\n",
      "Clustering 29 clusters with 10 re-runs took 2.513e+03 s. Inertia = 4858465.0\n",
      "Clustering 30 clusters with 10 re-runs took 2.545e+03 s. Inertia = 4769668.0\n",
      "Clustering 31 clusters with 10 re-runs took 2.524e+03 s. Inertia = 4683793.8\n",
      "Clustering 32 clusters with 10 re-runs took 2.563e+03 s. Inertia = 4616815.7\n",
      "Clustering 33 clusters with 10 re-runs took 2.607e+03 s. Inertia = 4534831.6\n",
      "Clustering 34 clusters with 10 re-runs took 2.496e+03 s. Inertia = 4503595.0\n",
      "Clustering 35 clusters with 10 re-runs took 2.456e+03 s. Inertia = 4409486.3\n",
      "Clustering 36 clusters with 10 re-runs took 2.49e+03 s. Inertia = 4311142.8\n",
      "Clustering 37 clusters with 10 re-runs took 2.456e+03 s. Inertia = 4281766.2\n",
      "Clustering 38 clusters with 10 re-runs took 2.473e+03 s. Inertia = 4187663.9\n",
      "Clustering 39 clusters with 10 re-runs took 2.441e+03 s. Inertia = 4148870.7\n",
      "Clustering 40 clusters with 10 re-runs took 2.453e+03 s. Inertia = 4093110.4\n",
      "Clustering 41 clusters with 10 re-runs took 2.438e+03 s. Inertia = 4023597.5\n",
      "Clustering 42 clusters with 10 re-runs took 2.41e+03 s. Inertia = 3961322.7\n",
      "Clustering 43 clusters with 10 re-runs took 2.426e+03 s. Inertia = 3923085.7\n",
      "Clustering 44 clusters with 10 re-runs took 2.388e+03 s. Inertia = 3861529.7\n",
      "Clustering 45 clusters with 10 re-runs took 2.408e+03 s. Inertia = 3782657.5\n",
      "Clustering 46 clusters with 10 re-runs took 2.403e+03 s. Inertia = 3797764.8\n",
      "Clustering 47 clusters with 10 re-runs took 2.414e+03 s. Inertia = 3684439.7\n",
      "Clustering 48 clusters with 10 re-runs took 2.5e+03 s. Inertia = 3623045.2\n",
      "Clustering 49 clusters with 10 re-runs took 2.507e+03 s. Inertia = 3607484.6\n"
     ]
    }
   ],
   "source": [
    "# Loop over the n_clusters\n",
    "for n_clusters in n_clusters_range:\n",
    "    start = time.time()\n",
    "    \n",
    "    kmeans =  KMeans(n_clusters = n_clusters, init='k-means++', n_init = n_reruns)\n",
    "    kmeans.fit(cluster_input)\n",
    "    \n",
    "    silhouette_avg = silhouette_score(cluster_input, kmeans.labels_)\n",
    "    sample_silhouette_values = silhouette_samples(cluster_input, kmeans.labels_)\n",
    "    plot_silhouette(cluster_input, n_clusters, kmeans.labels_, sample_silhouette_values, silhouette_avg, kmeans.inertia_)\n",
    "    plt.savefig(img_path / f'clustering_silhouettes_{n_clusters:02}.png', dpi=300, bbox_inches='tight')\n",
    "    plt.close()\n",
    "\n",
    "    end = time.time()\n",
    "    print(f'Clustering {n_clusters:02} clusters with {n_reruns} re-runs took {end-start:0.4} s. Inertia = {kmeans.inertia_:0.8}')"
   ]
  },
  {
   "cell_type": "markdown",
   "id": "cfd2560e-a1ff-465a-9db5-955389e91c27",
   "metadata": {},
   "source": [
    "### Cluster by landform"
   ]
  },
  {
   "cell_type": "code",
   "execution_count": null,
   "id": "78db53d7-258f-4f3a-b7c8-e0239c36f9ee",
   "metadata": {},
   "outputs": [],
   "source": []
  }
 ],
 "metadata": {
  "kernelspec": {
   "display_name": "perc-model-env",
   "language": "python",
   "name": "perc-model-env"
  },
  "language_info": {
   "codemirror_mode": {
    "name": "ipython",
    "version": 3
   },
   "file_extension": ".py",
   "mimetype": "text/x-python",
   "name": "python",
   "nbconvert_exporter": "python",
   "pygments_lexer": "ipython3",
   "version": "3.11.5"
  }
 },
 "nbformat": 4,
 "nbformat_minor": 5
}
