{
 "cells": [
  {
   "cell_type": "code",
   "execution_count": 1,
   "id": "7cabe850-947f-4ea5-bb12-a5929432fca7",
   "metadata": {},
   "outputs": [],
   "source": [
    "## Trials for categorical parallel zonal stats"
   ]
  },
  {
   "cell_type": "code",
   "execution_count": 6,
   "id": "985a16ca-e348-4c54-8c65-79f1d9055ddc",
   "metadata": {},
   "outputs": [],
   "source": [
    "from functools import partial\n",
    "from multiprocessing import Pool\n",
    "from rasterstats import zonal_stats\n",
    "import geopandas\n",
    "import rasterio\n",
    "import time"
   ]
  },
  {
   "cell_type": "code",
   "execution_count": 3,
   "id": "ff64de96-5b46-4250-b020-a4bf1259a981",
   "metadata": {},
   "outputs": [],
   "source": [
    "# The task for one worker\n",
    "def calculate_n(n, zones, data_array, affine, stats, nodata, categorical=False, category_map=None):\n",
    "    if not categorical:\n",
    "        return zonal_stats(zones.at[n,'geometry'], data_array, affine=affine, stats=stats, nodata=nodata)[0] # [0] because we're only getting one polygon\n",
    "    else:\n",
    "        return zonal_stats(zones.at[n,'geometry'], data_array, affine=affine, nodata=nodata, categorical=True, category_map=category_map)[0]"
   ]
  },
  {
   "cell_type": "code",
   "execution_count": 4,
   "id": "084f45eb-27c3-4532-a9cc-2260973933e9",
   "metadata": {},
   "outputs": [],
   "source": [
    "def parallel_zonal_stats(raster, vector, zonal, n_cores, stats, categorical=False, category_map=None):\n",
    "\n",
    "    # Read data files\n",
    "    try:\n",
    "        zones = geopandas.read_file(vector) \n",
    "    except Exception as e:\n",
    "        print(f\"Error reading vector file: {e}\")\n",
    "        return\n",
    "    try:\n",
    "        raster = rasterio.open(raster)    \n",
    "    except Exception as e:\n",
    "        print(f\"Error reading raster file: {e}\")\n",
    "        return\n",
    "    zones = zones[0:20]\n",
    "    print('Debug: limited shapefile size')\n",
    "\n",
    "    # Get the data array and affine transformation matrix\n",
    "    affine = raster.transform\n",
    "    data_array = raster.read(1)\n",
    "    nodata = raster.nodata\n",
    "\n",
    "    # Create a sequence of numbers for each zone\n",
    "    num_poly = len(zones)\n",
    "    n = range(0, num_poly)\n",
    "    print(f'Number of polygons: {num_poly}')\n",
    "    \n",
    "    # Create a pool of workers and run the function calculate_n for each zone\n",
    "    # map() function creates in background batches\n",
    "    with Pool(n_cores) as pool:\n",
    "        partial_calculate_n = partial(calculate_n, zones=zones, data_array=data_array, affine=affine, stats=stats, nodata=nodata, categorical=categorical, category_map=category_map)\n",
    "        results = pool.map(partial_calculate_n, n)\n",
    "    print(results)\n",
    "    \n",
    "    # Join the results back to geopandas dataframe\n",
    "    if not categorical:\n",
    "        for stat in stats:\n",
    "            results_as_list = [d[stat] for d in results]\n",
    "            zones[stat] = results_as_list\n",
    "    else:\n",
    "        for cat in category_map.values(): # water, non-crop, irrigated, rainfed\n",
    "            results_as_list = [d[cat] if cat in d.keys() else 0 for d in results]\n",
    "            zones[f'lg_{cat}'] = results_as_list\n",
    "        \n",
    "    # Write the results to file\n",
    "    try:\n",
    "        zones.to_file(zonal)\n",
    "    except Exception as e:\n",
    "        print(f\"Error writing output file: {e}\")\n",
    "        return"
   ]
  },
  {
   "cell_type": "code",
   "execution_count": 38,
   "id": "73d46c30-4be3-45d7-afa4-0f76a532a44c",
   "metadata": {},
   "outputs": [],
   "source": [
    "def sequential_zonal_stats(raster, vector, zonal, stats, categorical=False, category_map=None, prefix=None):\n",
    "\n",
    "    # Read data files\n",
    "    try:\n",
    "        zones = geopandas.read_file(vector) \n",
    "    except Exception as e:\n",
    "        print(f\"Error reading vector file: {e}\")\n",
    "        return\n",
    "    try:\n",
    "        raster = rasterio.open(raster)    \n",
    "    except Exception as e:\n",
    "        print(f\"Error reading raster file: {e}\")\n",
    "        return\n",
    "\n",
    "    # Get the data array and affine transformation matrix\n",
    "    affine = raster.transform\n",
    "    data_array = raster.read(1)\n",
    "    nodata = raster.nodata\n",
    "\n",
    "    # Create a sequence of numbers for each zone\n",
    "    num_poly = len(zones)\n",
    "    n = range(0, num_poly)\n",
    "    print(f'Number of polygons: {num_poly}')\n",
    "    \n",
    "    # Run the zonal stats\n",
    "    start_time = time.time()\n",
    "    results = zonal_stats(zones, data_array, affine=affine, nodata=nodata, categorical=True, category_map=category_map)\n",
    "    #print(results)\n",
    "    elapsed_time = time.time() - start_time\n",
    "    print(f\"Elapsed zonal time: {elapsed_time} seconds\")\n",
    "    \n",
    "    # Join the results back to geopandas dataframe\n",
    "    for cat in category_map.values(): # water, non-crop, irrigated, rainfed\n",
    "        results_as_list = [d[cat] if cat in d.keys() else 0 for d in results]\n",
    "        zones[f'{prefix}_{cat}'] = results_as_list\n",
    "    \n",
    "    # Write the results to file\n",
    "    try:\n",
    "        zones.to_file(zonal)\n",
    "    except Exception as e:\n",
    "        print(f\"Error writing output file: {e}\")\n",
    "    return zones"
   ]
  },
  {
   "cell_type": "code",
   "execution_count": 36,
   "id": "fb160548-787f-450b-9ec5-602da6f3f444",
   "metadata": {},
   "outputs": [],
   "source": [
    "# Define the paths to your files and other parameters\n",
    "raster = \"/Users/wmk934/data/NorthAmerica_geospatial/modis_land/annual_mode_2001_2022/2001_2022_mode_MCD12Q1_LC_Type1.tif\"\n",
    "vector = \"/Users/wmk934/data/NorthAmerica_geospatial/merit_basins/MERIT_Hydro_modified_North_America_shapes/basins/cat_pfaf_7_8_MERIT_Hydro_v07_Basins_v01_bugfix1_hillslopes_pfaf_7_8_clean_fixed.shp\"\n",
    "zonal = \"/Users/wmk934/data/perceptual_models/data/zonal_stats/merit_hydro_basins_MODIS_IGBP_counts.shp\"\n",
    "\n",
    "n_cores = 2  # Number of cores to use\n",
    "stats = ['mean', 'max', 'min', 'std']  # Statistics to calculate - Not used here \n",
    "\n",
    "categorical = True\n",
    "lgrip30_categories = {0: 'water', 1: 'non-crop', 2: 'irrigated', 3: 'rainfed'}\n",
    "prefix = 'lg'\n",
    "\n",
    "categorical = True\n",
    "categories = {1:  '1', #'evergreen needleleaf forest',\n",
    "              2:  '2', #'evergreen broadleaf forest',\n",
    "              3:  '3', #'deciduous needleleaf forest',\n",
    "              4:  '4', #'deciduous broadleaf forest',\n",
    "              5:  '5', #'mixed forests',\n",
    "              6:  '6', #'closed shrublands',\n",
    "              7:  '7', #'open shrublands',\n",
    "              8:  '8', #'woody savannas',\n",
    "              9:  '9', #'savannas',\n",
    "              10: '10', # 'grasslands',\n",
    "              11: '11', # 'permanent wetlands',\n",
    "              12: '12', # 'croplands',\n",
    "              13: '13', # 'urban and built-up',\n",
    "              14: '14', # 'cropland/natural vegetation mosaic',\n",
    "              15: '15', # 'snow and ice',\n",
    "              16: '16', # 'barren or sparsely vegetated',\n",
    "              17: '17', # 'water bodies',\n",
    "              255:'255'} # 'unclassified'}\n",
    "prefix = 'igbp'"
   ]
  },
  {
   "cell_type": "code",
   "execution_count": 39,
   "id": "0fe961cd-c50b-4580-96b2-55ab01f7d4a1",
   "metadata": {},
   "outputs": [
    {
     "name": "stdout",
     "output_type": "stream",
     "text": [
      "Number of polygons: 541832\n",
      "Elapsed zonal time: 442.4088342189789 seconds\n",
      "Elapsed total time: 667.3052051067352 seconds\n"
     ]
    }
   ],
   "source": [
    "start_time = time.time()\n",
    "zones2 = sequential_zonal_stats(raster, vector, zonal, stats, categorical=categorical, category_map=categories, prefix=prefix)\n",
    "elapsed_time = time.time() - start_time\n",
    "print(f\"Elapsed total time: {elapsed_time} seconds\")"
   ]
  },
  {
   "cell_type": "code",
   "execution_count": null,
   "id": "5a87f5ee-54c3-450f-8fde-8378eed89620",
   "metadata": {},
   "outputs": [],
   "source": [
    "# 20     -    0.09079694747924805 seconds\n",
    "# 2000   -    5.26400089263916 sec\n",
    "# 541832 - 1203.5353882312775 seconds"
   ]
  },
  {
   "cell_type": "code",
   "execution_count": null,
   "id": "e5bf4384-dacb-4407-993b-928b3e0aa006",
   "metadata": {},
   "outputs": [],
   "source": []
  }
 ],
 "metadata": {
  "kernelspec": {
   "display_name": "perc-model-env",
   "language": "python",
   "name": "perc-model-env"
  },
  "language_info": {
   "codemirror_mode": {
    "name": "ipython",
    "version": 3
   },
   "file_extension": ".py",
   "mimetype": "text/x-python",
   "name": "python",
   "nbconvert_exporter": "python",
   "pygments_lexer": "ipython3",
   "version": "3.11.5"
  }
 },
 "nbformat": 4,
 "nbformat_minor": 5
}
