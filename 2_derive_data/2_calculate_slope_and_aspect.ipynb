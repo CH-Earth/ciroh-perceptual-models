{
 "cells": [
  {
   "cell_type": "markdown",
   "id": "e9d3eeb9-91d1-4913-bce6-27df6c7f6839",
   "metadata": {},
   "source": [
    "# Slope and aspect\n",
    "We have the MERIT DEM showing elevation. From this we calculate slope and aspect on the pixel level."
   ]
  },
  {
   "cell_type": "code",
   "execution_count": 1,
   "id": "8299fefe-35de-44ef-a064-e8d9d597fd83",
   "metadata": {},
   "outputs": [],
   "source": [
    "import sys\n",
    "from pathlib import Path\n",
    "sys.path.append(str(Path().absolute().parent))\n",
    "import _functions as pmf"
   ]
  },
  {
   "cell_type": "code",
   "execution_count": 2,
   "id": "6afe47c9-e5bc-4a4b-b35c-e8cb9711c143",
   "metadata": {},
   "outputs": [],
   "source": [
    "# Specify where the config file can be found\n",
    "config_file = '../0_config/config.txt'"
   ]
  },
  {
   "cell_type": "code",
   "execution_count": 3,
   "id": "3f45310b-91c7-4adb-b500-99066712c3ff",
   "metadata": {},
   "outputs": [],
   "source": [
    "# Get the required info from the config file\n",
    "raw_path = pmf.read_from_config(config_file,'raw_path')\n",
    "temp_path = pmf.read_from_config(config_file,'temp_path')\n",
    "tar_crs =  pmf.read_from_config(config_file,'topo_crs')"
   ]
  },
  {
   "cell_type": "markdown",
   "id": "148911e2-d056-4df8-9590-1cf36ab22657",
   "metadata": {},
   "source": [
    "### 1. File location"
   ]
  },
  {
   "cell_type": "code",
   "execution_count": 4,
   "id": "c07fc768-7f64-4b5b-b06f-d6dc963aa2e8",
   "metadata": {},
   "outputs": [],
   "source": [
    "import glob"
   ]
  },
  {
   "cell_type": "code",
   "execution_count": 5,
   "id": "0515ad5d-265b-4e1f-a9a8-3cf5b5f1ef57",
   "metadata": {},
   "outputs": [],
   "source": [
    "src_path = Path(raw_path) / 'merit' / 'raw'"
   ]
  },
  {
   "cell_type": "code",
   "execution_count": 6,
   "id": "91101390-942f-40b9-996d-325e2c4838d6",
   "metadata": {},
   "outputs": [],
   "source": [
    "dem_path = sorted( glob.glob(str(src_path / '*.tif')) )"
   ]
  },
  {
   "cell_type": "code",
   "execution_count": 7,
   "id": "91994065-0e22-47aa-878b-bfde7b252101",
   "metadata": {},
   "outputs": [],
   "source": [
    "dem_path = str(dem_path[0]) # Get out of list, convert to string for GDAL"
   ]
  },
  {
   "cell_type": "code",
   "execution_count": 8,
   "id": "23b4cb6b-19cb-4b7f-8799-482cab841a29",
   "metadata": {},
   "outputs": [
    {
     "data": {
      "text/plain": [
       "'/Users/wmk934/data/NorthAmerica_geospatial/merit/raw/merit_hydro_elv.tif'"
      ]
     },
     "execution_count": 8,
     "metadata": {},
     "output_type": "execute_result"
    }
   ],
   "source": [
    "dem_path"
   ]
  },
  {
   "cell_type": "markdown",
   "id": "15afad0b-094d-4169-a593-647809dba8c6",
   "metadata": {},
   "source": [
    "### 2. Create the output directory"
   ]
  },
  {
   "cell_type": "code",
   "execution_count": 9,
   "id": "4dd3083a-8079-4dfc-be54-27278e0352a7",
   "metadata": {},
   "outputs": [],
   "source": [
    "temp_path = Path(temp_path) / 'merit'"
   ]
  },
  {
   "cell_type": "code",
   "execution_count": 10,
   "id": "be171b4e-a547-4860-a1ea-773985ec6bf1",
   "metadata": {},
   "outputs": [],
   "source": [
    "slope_path = Path(raw_path) / 'merit' / 'slope'\n",
    "aspect_path = Path(raw_path) / 'merit' / 'aspect'"
   ]
  },
  {
   "cell_type": "code",
   "execution_count": 11,
   "id": "1dc1d17d-2d66-42bc-b798-b0689534a9f1",
   "metadata": {},
   "outputs": [],
   "source": [
    "slope_path.mkdir(exist_ok=True, parents=True)\n",
    "aspect_path.mkdir(exist_ok=True, parents=True)\n",
    "temp_path.mkdir(exist_ok=True, parents=True)"
   ]
  },
  {
   "cell_type": "markdown",
   "id": "0ea3c299-2a7e-462f-9d78-1d9b754bb044",
   "metadata": {},
   "source": [
    "### 3. Convert the DEM into a projection in meters\n",
    "We need this because calcualting a slope on in EPSG:4326 returns wonky results."
   ]
  },
  {
   "cell_type": "code",
   "execution_count": 11,
   "id": "2027ce84-cd9f-4bf5-ac57-fcdca4841a40",
   "metadata": {},
   "outputs": [],
   "source": [
    "from osgeo import gdal"
   ]
  },
  {
   "cell_type": "code",
   "execution_count": 12,
   "id": "48ef5902-6472-442d-9a77-1b0e4c0ff624",
   "metadata": {},
   "outputs": [],
   "source": [
    "gdal.UseExceptions()"
   ]
  },
  {
   "cell_type": "code",
   "execution_count": 14,
   "id": "3d69b607-42cd-41b7-9350-5fedad0309f8",
   "metadata": {},
   "outputs": [],
   "source": [
    "tmp = tar_crs.replace(':','-') # because f-strings choke on this\n",
    "lcc_elev = str(temp_path / f'merit_hydro_elv_{tmp}.tif')"
   ]
  },
  {
   "cell_type": "code",
   "execution_count": 15,
   "id": "29f9351f-8c53-4bba-93e5-b9982e5d6b63",
   "metadata": {},
   "outputs": [],
   "source": [
    "options = gdal.WarpOptions(format='GTiff',\n",
    "                           srcSRS='epsg:4326', dstSRS=tar_crs)#,\n",
    "                           #creationOptions=['COMPRESS=DEFLATE', 'BIGTIFF=YES'])"
   ]
  },
  {
   "cell_type": "code",
   "execution_count": 16,
   "id": "47e7724f-8847-4332-b6ff-29b6b89232d2",
   "metadata": {},
   "outputs": [
    {
     "data": {
      "text/plain": [
       "<osgeo.gdal.Dataset; proxy of <Swig Object of type 'GDALDatasetShadow *' at 0x1043221f0> >"
      ]
     },
     "execution_count": 16,
     "metadata": {},
     "output_type": "execute_result"
    }
   ],
   "source": [
    "gdal.Warp(lcc_elev, dem_path, options=options)"
   ]
  },
  {
   "cell_type": "markdown",
   "id": "ee313be7-6ba6-4cd0-aee2-014d687ac765",
   "metadata": {},
   "source": [
    "### 4. Create slope and aspect files\n",
    "We'll run this through subprocess because for some reason I can't get `gdal.DEMProcessing` to work as expected."
   ]
  },
  {
   "cell_type": "code",
   "execution_count": 17,
   "id": "83ae8980-9855-461b-aa65-7b0f3784632a",
   "metadata": {},
   "outputs": [],
   "source": [
    "import subprocess"
   ]
  },
  {
   "cell_type": "markdown",
   "id": "5328abf8-520a-4a6a-ae4b-935a62c1274f",
   "metadata": {},
   "source": [
    "### 4.1 Slope"
   ]
  },
  {
   "cell_type": "code",
   "execution_count": 18,
   "id": "247a1834-6492-4232-8391-8168841e050e",
   "metadata": {},
   "outputs": [],
   "source": [
    "lcc_slope = str(temp_path / 'merit_hydro_slope.tif') # Still in ESRI:102009"
   ]
  },
  {
   "cell_type": "code",
   "execution_count": 19,
   "id": "a79507b1-501b-4c19-9d78-05e8b0aab2b9",
   "metadata": {},
   "outputs": [],
   "source": [
    "gdal_command = ['gdaldem', 'slope', lcc_elev, lcc_slope, \n",
    "                '-alg', 'Horn', '-compute_edges']#,\n",
    "                #'-co', 'COMPRESS=DEFLATE', '-co', 'BIGTIFF=YES']"
   ]
  },
  {
   "cell_type": "code",
   "execution_count": 20,
   "id": "c761433c-2bd8-4695-8f2a-d4fbe74b0cdb",
   "metadata": {},
   "outputs": [
    {
     "name": "stdout",
     "output_type": "stream",
     "text": [
      "0...10...20...30...40...50...60...70...80...90...100 - done.\n"
     ]
    },
    {
     "data": {
      "text/plain": [
       "CompletedProcess(args=['gdaldem', 'slope', '/Users/wmk934/data/perceptual_models/tmp/merit/merit_hydro_elv_ESRI-102009.tif', '/Users/wmk934/data/perceptual_models/tmp/merit/merit_hydro_slope.tif', '-alg', 'Horn', '-compute_edges'], returncode=0)"
      ]
     },
     "execution_count": 20,
     "metadata": {},
     "output_type": "execute_result"
    }
   ],
   "source": [
    "subprocess.run(gdal_command)"
   ]
  },
  {
   "cell_type": "markdown",
   "id": "16568e22-4c36-4d6c-bd2c-b6e104b30b45",
   "metadata": {},
   "source": [
    "### 4.2 Aspect"
   ]
  },
  {
   "cell_type": "code",
   "execution_count": 113,
   "id": "2393b3a6-4f8e-45e4-a9f6-dc302a1d5ded",
   "metadata": {},
   "outputs": [],
   "source": [
    "lcc_aspect = str(temp_path / 'merit_hydro_aspect.tif') # Still in ESRI:102009"
   ]
  },
  {
   "cell_type": "code",
   "execution_count": 111,
   "id": "6ce4bc85-9bcf-4ad0-9c4d-ec759e76324b",
   "metadata": {},
   "outputs": [],
   "source": [
    "gdal_command = ['gdaldem', 'aspect', lcc_elev, lcc_aspect, \n",
    "                '-alg', 'Horn', '-compute_edges']#,\n",
    "                #'-co', 'COMPRESS=DEFLATE', '-co', 'BIGTIFF=YES']"
   ]
  },
  {
   "cell_type": "code",
   "execution_count": 112,
   "id": "fc7558fd-74f9-485f-9b5e-c51e56db0904",
   "metadata": {},
   "outputs": [
    {
     "name": "stdout",
     "output_type": "stream",
     "text": [
      "0...10...20...30...40...50...60...70...80...90...100 - done.\n"
     ]
    },
    {
     "data": {
      "text/plain": [
       "CompletedProcess(args=['gdaldem', 'aspect', '/Users/wmk934/data/perceptual_models/tmp/merit/merit_hydro_elv_ESRI-102009.tif', '/Users/wmk934/data/perceptual_models/tmp/merit/merit_hydro_slope_sub.tif', '-alg', 'Horn', '-compute_edges'], returncode=0)"
      ]
     },
     "execution_count": 112,
     "metadata": {},
     "output_type": "execute_result"
    }
   ],
   "source": [
    "subprocess.run(gdal_command)"
   ]
  },
  {
   "cell_type": "markdown",
   "id": "012e002f-d879-4e39-8176-f8e1f1c82012",
   "metadata": {},
   "source": [
    "## 5. Transform back to EPSG:4326 and compress"
   ]
  },
  {
   "cell_type": "code",
   "execution_count": 13,
   "id": "98bd189c-50e6-4fb4-be7a-b7d9c0c28f1f",
   "metadata": {},
   "outputs": [],
   "source": [
    "warp_options = gdal.WarpOptions(format='GTiff',srcSRS=tar_crs, dstSRS='epsg:4326')\n",
    "tran_options = ['COMPRESS=DEFLATE', 'BIGTIFF=YES']"
   ]
  },
  {
   "cell_type": "code",
   "execution_count": 14,
   "id": "4a6bdcc8-2cca-4e6d-8582-266b344b5bfd",
   "metadata": {},
   "outputs": [],
   "source": [
    "tmp_file = str(temp_path / 'transfer.tif')"
   ]
  },
  {
   "cell_type": "markdown",
   "id": "f6f8cd34-dd4b-4d49-80c6-bc78a060ed42",
   "metadata": {},
   "source": [
    "### 5.1 Slope"
   ]
  },
  {
   "cell_type": "code",
   "execution_count": 16,
   "id": "d99071d5-8326-471d-b854-8112d1012620",
   "metadata": {},
   "outputs": [],
   "source": [
    "slope_out = str(slope_path / 'merit_hydro_slope.tif')"
   ]
  },
  {
   "cell_type": "code",
   "execution_count": 24,
   "id": "31f2b409-97ad-415e-a3a4-942e0578e2b5",
   "metadata": {},
   "outputs": [
    {
     "data": {
      "text/plain": [
       "<osgeo.gdal.Dataset; proxy of <Swig Object of type 'GDALDatasetShadow *' at 0x1042abc90> >"
      ]
     },
     "execution_count": 24,
     "metadata": {},
     "output_type": "execute_result"
    }
   ],
   "source": [
    "gdal.Warp(tmp_file, lcc_slope, options=warp_options).FlushCache() # Reproject"
   ]
  },
  {
   "cell_type": "code",
   "execution_count": 19,
   "id": "088d3b38-39b7-4946-85f1-891d3cef3ba4",
   "metadata": {},
   "outputs": [
    {
     "data": {
      "text/plain": [
       "0"
      ]
     },
     "execution_count": 19,
     "metadata": {},
     "output_type": "execute_result"
    }
   ],
   "source": [
    "gdal.Translate(slope_out, tmp_file, creationOptions=tran_options).FlushCache()"
   ]
  },
  {
   "cell_type": "markdown",
   "id": "b1b8533c-a709-4ae6-a615-c8e3106d5463",
   "metadata": {},
   "source": [
    "### 5.2 Aspect"
   ]
  },
  {
   "cell_type": "code",
   "execution_count": 120,
   "id": "3f3ea12e-b15a-4abf-baed-4f89cb05ed54",
   "metadata": {},
   "outputs": [],
   "source": [
    "aspect_out = str(aspect_path / 'merit_hydro_aspect.tif')"
   ]
  },
  {
   "cell_type": "code",
   "execution_count": 121,
   "id": "e2f69f9e-7cc2-4cff-a664-84461c72a53d",
   "metadata": {},
   "outputs": [
    {
     "data": {
      "text/plain": [
       "<osgeo.gdal.Dataset; proxy of <Swig Object of type 'GDALDatasetShadow *' at 0x103c91ce0> >"
      ]
     },
     "execution_count": 121,
     "metadata": {},
     "output_type": "execute_result"
    }
   ],
   "source": [
    "gdal.Warp(tmp_file, lcc_aspect, options=warp_options).FlushCache() # Reproject"
   ]
  },
  {
   "cell_type": "code",
   "execution_count": 122,
   "id": "c1010b0a-0eb2-4840-94ef-7e7b18c332c8",
   "metadata": {},
   "outputs": [
    {
     "data": {
      "text/plain": [
       "<osgeo.gdal.Dataset; proxy of <Swig Object of type 'GDALDatasetShadow *' at 0x103c91200> >"
      ]
     },
     "execution_count": 122,
     "metadata": {},
     "output_type": "execute_result"
    }
   ],
   "source": [
    "gdal.Translate(aspect_out, tmp_file, creationOptions=tran_options).FlushCache()"
   ]
  },
  {
   "cell_type": "markdown",
   "id": "eefa4660-5dc2-45ff-9463-19103e88a364",
   "metadata": {},
   "source": [
    "## 6. Remove the temp folder"
   ]
  },
  {
   "cell_type": "code",
   "execution_count": 20,
   "id": "a985e0a8-8372-44ca-a0b7-aedd8c312135",
   "metadata": {},
   "outputs": [],
   "source": [
    "import shutil"
   ]
  },
  {
   "cell_type": "code",
   "execution_count": 21,
   "id": "9f65d179-c892-4147-a74d-87d32f0bfe1b",
   "metadata": {},
   "outputs": [],
   "source": [
    "shutil.rmtree(temp_path)"
   ]
  },
  {
   "cell_type": "code",
   "execution_count": null,
   "id": "3809b7bc-2e04-4a09-bbcc-684357577f70",
   "metadata": {},
   "outputs": [],
   "source": []
  }
 ],
 "metadata": {
  "kernelspec": {
   "display_name": "perc-model-env",
   "language": "python",
   "name": "perc-model-env"
  },
  "language_info": {
   "codemirror_mode": {
    "name": "ipython",
    "version": 3
   },
   "file_extension": ".py",
   "mimetype": "text/x-python",
   "name": "python",
   "nbconvert_exporter": "python",
   "pygments_lexer": "ipython3",
   "version": "3.11.5"
  }
 },
 "nbformat": 4,
 "nbformat_minor": 5
}
