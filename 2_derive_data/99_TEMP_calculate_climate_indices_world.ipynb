{
 "cells": [
  {
   "cell_type": "markdown",
   "id": "e9d3eeb9-91d1-4913-bce6-27df6c7f6839",
   "metadata": {},
   "source": [
    "# Climate indices\n",
    "We'll convert the monthly WorldClim data into monthly climate index maps, and use these to calculate further index values.\n",
    "\n",
    "Of the WorldClim variables, temperature and humidity are most accurate (correlation > 0.99), followed by precipitation (0.86) and wind speed (0.76)."
   ]
  },
  {
   "cell_type": "code",
   "execution_count": 1,
   "id": "8299fefe-35de-44ef-a064-e8d9d597fd83",
   "metadata": {},
   "outputs": [],
   "source": [
    "import sys\n",
    "from pathlib import Path\n",
    "sys.path.append(str(Path().absolute().parent))\n",
    "import _functions as pmf"
   ]
  },
  {
   "cell_type": "markdown",
   "id": "148911e2-d056-4df8-9590-1cf36ab22657",
   "metadata": {},
   "source": [
    "### 1. Find files"
   ]
  },
  {
   "cell_type": "code",
   "execution_count": 2,
   "id": "c07fc768-7f64-4b5b-b06f-d6dc963aa2e8",
   "metadata": {},
   "outputs": [],
   "source": [
    "import glob"
   ]
  },
  {
   "cell_type": "code",
   "execution_count": 3,
   "id": "0515ad5d-265b-4e1f-a9a8-3cf5b5f1ef57",
   "metadata": {},
   "outputs": [],
   "source": [
    "src_path = Path('/Users/wmk934/data/Global_geospatial/worldclim/')"
   ]
  },
  {
   "cell_type": "code",
   "execution_count": 4,
   "id": "91101390-942f-40b9-996d-325e2c4838d6",
   "metadata": {},
   "outputs": [],
   "source": [
    "# Units: https://worldclim.org/data/worldclim21.html\n",
    "prec_files = sorted( glob.glob(str(src_path / 'wc2.1_30s_prec' / '*.tif')) ) # precipitation, mm\n",
    "srad_files = sorted( glob.glob(str(src_path / 'wc2.1_30s_srad' / '*.tif')) ) # solar radiation, kJ m-2 day-1\n",
    "tavg_files = sorted( glob.glob(str(src_path / 'wc2.1_30s_tavg' / '*.tif')) ) # temperature, degree C"
   ]
  },
  {
   "cell_type": "markdown",
   "id": "15afad0b-094d-4169-a593-647809dba8c6",
   "metadata": {},
   "source": [
    "### 2. Create the output directory"
   ]
  },
  {
   "cell_type": "code",
   "execution_count": 5,
   "id": "be171b4e-a547-4860-a1ea-773985ec6bf1",
   "metadata": {},
   "outputs": [],
   "source": [
    "climate_path = Path(src_path) / 'derived' / 'climate_indices'\n",
    "pet_path = Path(src_path) / 'derived' / 'pet'"
   ]
  },
  {
   "cell_type": "code",
   "execution_count": 6,
   "id": "1dc1d17d-2d66-42bc-b798-b0689534a9f1",
   "metadata": {},
   "outputs": [],
   "source": [
    "climate_path.mkdir(exist_ok=True, parents=True)\n",
    "pet_path.mkdir(exist_ok=True, parents=True)"
   ]
  },
  {
   "cell_type": "markdown",
   "id": "ee313be7-6ba6-4cd0-aee2-014d687ac765",
   "metadata": {},
   "source": [
    "### 3. Calculate PET and climate indices"
   ]
  },
  {
   "cell_type": "markdown",
   "id": "a615d042-a49b-4ffb-ad50-46da7c7597cb",
   "metadata": {},
   "source": [
    "#### 3.1 Functions"
   ]
  },
  {
   "cell_type": "code",
   "execution_count": 7,
   "id": "56b8b362-9c69-4ed4-93eb-8c5d05b5bda6",
   "metadata": {},
   "outputs": [],
   "source": [
    "import numpy as np\n",
    "import numpy.ma as ma\n",
    "from osgeo import gdal, osr\n",
    "import os"
   ]
  },
  {
   "cell_type": "code",
   "execution_count": 8,
   "id": "87f7a8a1-6b59-430b-8a0e-695e2e51181d",
   "metadata": {},
   "outputs": [],
   "source": [
    "gdal.UseExceptions()"
   ]
  },
  {
   "cell_type": "code",
   "execution_count": 9,
   "id": "d53c5c43-4702-4e69-b07a-45d4933847b5",
   "metadata": {},
   "outputs": [],
   "source": [
    "def calculate_pet_oudin(Re,Ta):\n",
    "\n",
    "    # PE = Re / (lambda * rho) * (Ta + 5) / 100, if Ta+5 > 0\n",
    "    # PE = 0, otherwise\n",
    "    #\n",
    "    # PE:     rate of potential evapotranspiration (mm day-1)\n",
    "    # Re:     extraterrestrial radiation (MJ m-2 day-1)\n",
    "    # lambda: latent heat flux (MJ kg-1)\n",
    "    # rho:    density of water (kg m-3)\n",
    "    # Ta:     mean daily air temperature (degree C)\n",
    "    #\n",
    "    # PE = Re / (lambda * rho) * (Ta + 5) / 100\n",
    "    #    = (MJ m-2 day-1) / ((MJ kg-1) * (kg m-3)) * ((degree C) + (-)) / (-)\n",
    "    #    = (MJ m-2 day-1) * 1 / (MJ m-3) * (degree C)\n",
    "    #    = (MJ m-2 day-1) * (m3 MJ-1) # (degree C)\n",
    "    #    = (m day-1 C-1)\n",
    "    #\n",
    "    # Oudin, L., Hervieu, F., Michel, C., Perrin, C., \n",
    "    # Andréassian, V., Anctil, F., & Loumagne, C. (2005). \n",
    "    # Which potential evapotranspiration input for a lumped \n",
    "    # rainfall–runoff model? Journal of Hydrology, 303(1-4), \n",
    "    # 290–306. doi:10.1016/j.jhydrol.2004.08.026\n",
    "\n",
    "    # Assume WorldClim's 'srad' can be used in place of 'Re'\n",
    "    rho = 1000 # (kg m-3)\n",
    "    l = 2.45 # (MJ kg-1), lambda\n",
    "\n",
    "    # Calculate PET\n",
    "    pet = Re / (l*rho) * (Ta+5)/100\n",
    "    pet[Ta+5 <= 0] = 0\n",
    "    \n",
    "    return pet"
   ]
  },
  {
   "cell_type": "code",
   "execution_count": 10,
   "id": "0589d551-1422-4963-ad8d-5e18eff76f6f",
   "metadata": {},
   "outputs": [],
   "source": [
    "def get_geotif_data_as_array(file, band=1):\n",
    "    ds = gdal.Open(file) # open the file\n",
    "    band = ds.GetRasterBand(band) # get the data band\n",
    "    data = band.ReadAsArray() # convert to numpy array for further manipulation   \n",
    "    return data"
   ]
  },
  {
   "cell_type": "code",
   "execution_count": 11,
   "id": "0356e330-6aaa-4e0b-a351-b425c893038d",
   "metadata": {},
   "outputs": [],
   "source": [
    "def get_geotif_noData(src_file, band=1):\n",
    "    src_ds = gdal.Open(src_file)\n",
    "    src_band = src_ds.GetRasterBand(band)\n",
    "    no_data_value = src_band.GetNoDataValue()\n",
    "    src_ds = None\n",
    "    return no_data_value"
   ]
  },
  {
   "cell_type": "code",
   "execution_count": 12,
   "id": "9d5ae4ec-bf27-4f3d-b983-4a70dcd27b4f",
   "metadata": {},
   "outputs": [],
   "source": [
    "def write_geotif_sameDomain(src_file, des_file, des_data, no_data_value=None):\n",
    "    \n",
    "    # load the source file to get the appropriate attributes\n",
    "    src_ds = gdal.Open(src_file)\n",
    "    \n",
    "    # get the geotransform\n",
    "    des_transform = src_ds.GetGeoTransform()\n",
    "\n",
    "    # Get the scale factor from the source metadata\n",
    "    scale_factor = src_ds.GetRasterBand(1).GetScale()\n",
    "    offset = src_ds.GetRasterBand(1).GetOffset()\n",
    "    \n",
    "    # get the data dimensions\n",
    "    ncols = des_data.shape[1]\n",
    "    nrows = des_data.shape[0]\n",
    "    \n",
    "    # make the file\n",
    "    driver = gdal.GetDriverByName(\"GTiff\")\n",
    "    dst_ds = driver.Create(des_file,ncols,nrows,1,gdal.GDT_Float32, options = [ 'COMPRESS=DEFLATE' ])\n",
    "    \n",
    "    # Write the data\n",
    "    #dst_ds.GetRasterBand(1).WriteArray( des_data )\n",
    "    dst_band = dst_ds.GetRasterBand(1)\n",
    "    dst_band.WriteArray(des_data)\n",
    "    if no_data_value:\n",
    "        dst_band.SetNoDataValue(no_data_value)\n",
    "    \n",
    "    # Set the scale factor and offset in the destination band, if they were defined in the source\n",
    "    if scale_factor: dst_ds.GetRasterBand(1).SetScale(scale_factor)\n",
    "    if offset: dst_ds.GetRasterBand(1).SetOffset(offset)\n",
    "    \n",
    "    # Set the geotransform\n",
    "    dst_ds.SetGeoTransform(des_transform)\n",
    "\n",
    "    # Set the projection\n",
    "    wkt = src_ds.GetProjection()\n",
    "    srs = osr.SpatialReference()\n",
    "    srs.ImportFromWkt(wkt)\n",
    "    dst_ds.SetProjection( srs.ExportToWkt() )\n",
    "    \n",
    "    # close files\n",
    "    src_ds = None\n",
    "    des_ds = None\n",
    "\n",
    "    return"
   ]
  },
  {
   "cell_type": "markdown",
   "id": "4e3f40af-e3ea-41ff-aa47-0f338e2d1788",
   "metadata": {},
   "source": [
    "#### 3.2 Calculate PET"
   ]
  },
  {
   "cell_type": "code",
   "execution_count": 13,
   "id": "9975bf83-bb01-4c31-83c1-48b94d852a17",
   "metadata": {},
   "outputs": [],
   "source": [
    "for month in range(1,13):\n",
    "\n",
    "    # Easy access to files\n",
    "    srad_file = srad_files[month-1] # [month-1] to account for 0-based indexing\n",
    "    tavg_file = tavg_files[month-1]\n",
    "    \n",
    "    # Get the srad and tavg data\n",
    "    srad = get_geotif_data_as_array(srad_file) \n",
    "    tavg = get_geotif_data_as_array(tavg_file)\n",
    "    \n",
    "    # Get the noData values\n",
    "    srad_noData = get_geotif_noData(srad_file)\n",
    "    tavg_noData = get_geotif_noData(tavg_file)\n",
    "    \n",
    "    # Mask the arrays to skip the noData cells\n",
    "    srad_masked = ma.masked_equal(srad, srad_noData)\n",
    "    tavg_masked = ma.masked_equal(tavg, tavg_noData)\n",
    "    \n",
    "    # Calculate PET\n",
    "    pet = calculate_pet_oudin(srad_masked,tavg_masked)\n",
    "    \n",
    "    # Prep data for writing with known attributes\n",
    "    pet_to_file = pet.filled()\n",
    "    pet_noData = pet.fill_value.astype(pet.dtype) # noData value type must match array type for GDAL\n",
    "    \n",
    "    # Create output\n",
    "    file_name = os.path.basename(srad_files[month-1]).replace('srad','pet_mm_per_day')\n",
    "    pet_file = str(pet_path / file_name)\n",
    "    write_geotif_sameDomain(tavg_files[month-1], pet_file, pet_to_file, no_data_value=pet_noData)"
   ]
  },
  {
   "cell_type": "markdown",
   "id": "d523e48a-0e09-4312-95c4-4f38bc59c669",
   "metadata": {},
   "source": [
    "### 3.3 Calculate monthly snow and moisture index values"
   ]
  },
  {
   "cell_type": "code",
   "execution_count": 14,
   "id": "4eef3abf-696b-42c4-ab3b-b1a194efcc79",
   "metadata": {},
   "outputs": [],
   "source": [
    "import calendar"
   ]
  },
  {
   "cell_type": "code",
   "execution_count": 15,
   "id": "d5ca5f9c-ed80-4d46-a98c-b4498db77864",
   "metadata": {},
   "outputs": [],
   "source": [
    "# Get a list of the PET files\n",
    "pet_files = sorted( glob.glob(str(pet_path / '*.tif')) ) # pet, mm day-1"
   ]
  },
  {
   "cell_type": "code",
   "execution_count": 17,
   "id": "898b501f-086b-4740-8389-a6d6c58ec22f",
   "metadata": {},
   "outputs": [],
   "source": [
    "# Prepare the output folders\n",
    "snow_path = src_path / 'derived' / 'snow'\n",
    "mois_path = src_path / 'derived' / 'moisture_index'"
   ]
  },
  {
   "cell_type": "code",
   "execution_count": 18,
   "id": "99de7244-ecb0-48e2-ac34-9bdd16e42c30",
   "metadata": {},
   "outputs": [],
   "source": [
    "snow_path.mkdir(exist_ok=True, parents=True)\n",
    "mois_path.mkdir(exist_ok=True, parents=True)"
   ]
  },
  {
   "cell_type": "code",
   "execution_count": 19,
   "id": "3ecd68b2-c31f-4ebc-89d8-9302ac7a778b",
   "metadata": {},
   "outputs": [
    {
     "name": "stdout",
     "output_type": "stream",
     "text": [
      "Processing month 1\n",
      "Processing month 2\n",
      "Processing month 3\n",
      "Processing month 4\n",
      "Processing month 5\n",
      "Processing month 6\n",
      "Processing month 7\n",
      "Processing month 8\n",
      "Processing month 9\n",
      "Processing month 10\n",
      "Processing month 11\n",
      "Processing month 12\n"
     ]
    }
   ],
   "source": [
    "for month in range(1,13):\n",
    "    print(f'Processing month {month}')\n",
    "\n",
    "    # Easy access to files\n",
    "    prec_file = prec_files[month-1] # [month-1] to account for 0-based indexing\n",
    "    tavg_file = tavg_files[month-1]\n",
    "    pet_file  = pet_files[month-1]\n",
    "    \n",
    "    # Get the datadata\n",
    "    prec = get_geotif_data_as_array(prec_file) \n",
    "    tavg = get_geotif_data_as_array(tavg_file)\n",
    "    pet  = get_geotif_data_as_array(pet_file)\n",
    "    \n",
    "    # Get the noData values\n",
    "    prec_noData = get_geotif_noData(prec_file)\n",
    "    tavg_noData = get_geotif_noData(tavg_file)\n",
    "    pet_noData  = get_geotif_noData(pet_file)\n",
    "    \n",
    "    # Mask the arrays to skip the noData cells\n",
    "    prec_masked = ma.masked_equal(prec, prec_noData)\n",
    "    tavg_masked = ma.masked_equal(tavg, tavg_noData)\n",
    "    pet_masked  = ma.masked_equal(pet,  pet_noData)\n",
    "    \n",
    "    # Convert pet [mm day-1] to [mm month-1] to match prec\n",
    "    _,days_this_month = calendar.monthrange(2023,month) # year 2023 is as good a choice as any\n",
    "    pet_masked = pet_masked * days_this_month\n",
    "    \n",
    "    # Compute the snow values\n",
    "    snow = np.zeros_like(prec)\n",
    "    snow = np.where(tavg<0, prec, 0)\n",
    "    \n",
    "    # Compute the aridity values\n",
    "    mois = np.zeros_like(prec)\n",
    "    mois = np.where(prec_masked > pet_masked, 1 - pet_masked/prec_masked, prec_masked/pet_masked-1)\n",
    "    \n",
    "    # Create masked arrays for saving\n",
    "    snow_noData = float(-999)\n",
    "    snow_to_file = ma.masked_array(snow, mask=snow<0, fill_value=snow_noData).filled()\n",
    "    mois_noData = float(-999)\n",
    "    mois_to_file = ma.masked_array(mois, mask=mois<-1, fill_value=mois_noData).filled()\n",
    "    \n",
    "    # Save to file\n",
    "    snow_name = os.path.basename(prec_file).replace('prec','snow_mm_per_month')\n",
    "    mois_name = os.path.basename(prec_file).replace('prec','moisture_index')\n",
    "    snow_file = str(snow_path / snow_name)\n",
    "    mois_file = str(mois_path / mois_name)\n",
    "    \n",
    "    write_geotif_sameDomain(prec_file, snow_file, snow_to_file, no_data_value=snow_noData)\n",
    "    write_geotif_sameDomain(prec_file, mois_file, mois_to_file, no_data_value=mois_noData)"
   ]
  },
  {
   "cell_type": "markdown",
   "id": "e28829e7-3109-46c1-9ede-003f6c25d4ab",
   "metadata": {},
   "source": [
    "### 3.4 Calculate climate indices\n",
    "See: https://agupubs.onlinelibrary.wiley.com/doi/full/10.1029/2018WR022913"
   ]
  },
  {
   "cell_type": "code",
   "execution_count": 20,
   "id": "8f11eebe-b1de-4d99-be19-eb65baef3ef2",
   "metadata": {},
   "outputs": [],
   "source": [
    "# Get a list of the snow and moisture index files\n",
    "snow_files = sorted( glob.glob(str(snow_path / '*.tif')) ) # snow, mm month-1\n",
    "mois_files = sorted( glob.glob(str(mois_path / '*.tif')) ) # moisture index, (-)"
   ]
  },
  {
   "cell_type": "code",
   "execution_count": 21,
   "id": "48fb30e2-08ce-4424-9cf5-70ed8a803745",
   "metadata": {},
   "outputs": [],
   "source": [
    "# Get the noData values\n",
    "prec_noData = get_geotif_noData(prec_files[0])\n",
    "snow_noData = get_geotif_noData(snow_files[0])\n",
    "mois_noData = get_geotif_noData(mois_files[0])"
   ]
  },
  {
   "cell_type": "code",
   "execution_count": 22,
   "id": "13bd7366-4304-49a7-b987-3b9c31aa1d42",
   "metadata": {},
   "outputs": [],
   "source": [
    "# Get the data files we need as numpy stacks\n",
    "prec_data = np.dstack( [get_geotif_data_as_array(file) for file in prec_files] )\n",
    "snow_data = np.dstack( [get_geotif_data_as_array(file) for file in snow_files] )\n",
    "mois_data = np.dstack( [get_geotif_data_as_array(file) for file in mois_files] )"
   ]
  },
  {
   "cell_type": "code",
   "execution_count": 23,
   "id": "67fcfb4a-a6b0-4fb5-acfd-8b32a35486c2",
   "metadata": {},
   "outputs": [],
   "source": [
    "# Convert into masked arrays\n",
    "prec_data_masked = ma.masked_equal(prec_data, prec_noData)\n",
    "snow_data_masked = ma.masked_equal(snow_data, snow_noData)\n",
    "mois_data_masked = ma.masked_equal(mois_data, mois_noData)"
   ]
  },
  {
   "cell_type": "code",
   "execution_count": 24,
   "id": "967eefd3-ac37-4acf-ae9c-bf8c82cba5a4",
   "metadata": {},
   "outputs": [],
   "source": [
    "# Compute the indices we want\n",
    "fs = np.sum(snow_data_masked, axis=2) / np.sum(prec_data_masked, axis=2)"
   ]
  },
  {
   "cell_type": "code",
   "execution_count": 25,
   "id": "a6ed7b83-9ef2-4819-a654-0a2fead9b57b",
   "metadata": {},
   "outputs": [],
   "source": [
    "im = np.mean(mois_data_masked, axis=2)"
   ]
  },
  {
   "cell_type": "code",
   "execution_count": 26,
   "id": "2c39c2e5-6295-4e9f-b70d-21813b991d5e",
   "metadata": {},
   "outputs": [],
   "source": [
    "imr = np.max(mois_data_masked, axis=2) - np.min(mois_data_masked, axis=2)"
   ]
  },
  {
   "cell_type": "code",
   "execution_count": 36,
   "id": "1060bc5d-b985-4287-b796-a076ebf1990d",
   "metadata": {},
   "outputs": [],
   "source": [
    "# Set the fill values to known values\n",
    "fill_with = float(-999)\n",
    "fs_to_file  = ma.masked_array(fs.filled(fill_value=fill_with),  mask=fs.mask,  fill_value=fill_with)\n",
    "im_to_file  = ma.masked_array(im.filled(fill_value=fill_with),  mask=im.mask,  fill_value=fill_with)\n",
    "imr_to_file = ma.masked_array(imr.filled(fill_value=fill_with), mask=imr.mask, fill_value=fill_with)"
   ]
  },
  {
   "cell_type": "code",
   "execution_count": 37,
   "id": "d3186c18-a5bf-46f4-a9d4-762e57ba49d0",
   "metadata": {},
   "outputs": [],
   "source": [
    "# Save to file\n",
    "base_name = os.path.basename(prec_files[0])\n",
    "fs_file = str(climate_path / base_name.replace('prec_01','climate_index_fs'))\n",
    "im_file = str(climate_path / base_name.replace('prec_01','climate_index_im'))\n",
    "imr_file= str(climate_path / base_name.replace('prec_01','climate_index_imr'))"
   ]
  },
  {
   "cell_type": "code",
   "execution_count": 38,
   "id": "e7bb21ce-64d4-4326-8d0c-3bc7f37aec21",
   "metadata": {},
   "outputs": [],
   "source": [
    "write_geotif_sameDomain(prec_files[0], fs_file, fs_to_file, no_data_value=fill_with)\n",
    "write_geotif_sameDomain(prec_files[0], im_file, im_to_file, no_data_value=fill_with)\n",
    "write_geotif_sameDomain(prec_files[0], imr_file,imr_to_file,no_data_value=fill_with)"
   ]
  },
  {
   "cell_type": "code",
   "execution_count": null,
   "id": "1e7b5071-8d8b-4cf2-b4ee-39ec48e48f54",
   "metadata": {},
   "outputs": [],
   "source": []
  }
 ],
 "metadata": {
  "kernelspec": {
   "display_name": "perc-model-env",
   "language": "python",
   "name": "perc-model-env"
  },
  "language_info": {
   "codemirror_mode": {
    "name": "ipython",
    "version": 3
   },
   "file_extension": ".py",
   "mimetype": "text/x-python",
   "name": "python",
   "nbconvert_exporter": "python",
   "pygments_lexer": "ipython3",
   "version": "3.11.5"
  }
 },
 "nbformat": 4,
 "nbformat_minor": 5
}
