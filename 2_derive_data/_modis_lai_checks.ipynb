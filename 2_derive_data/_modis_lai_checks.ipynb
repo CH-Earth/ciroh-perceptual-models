{
 "cells": [
  {
   "cell_type": "markdown",
   "id": "9844a49a-c01e-49bd-9d16-361cba6fdf92",
   "metadata": {},
   "source": [
    "# Check LAI resolutions\n",
    "For averaging to monthly, we need to know that the resolution and GeoTIFF dimensions are the same for all 7-day files.\n",
    "\n",
    "Findings:\n",
    "- MODIS LAI does not have spatially consistent data fields\n",
    "- Any day in December as well as Jan-01 cover less ground in the latitude direction\n",
    "- There are 2 further discrepencies we haven't looked into yet\n",
    "\n",
    "Procedure:\n",
    "- Move processing tasks to Windows machine, because on macos we run into problems with HDF4 & GDAL - compiling GDAL with HDF4 support is tricky\n",
    "\n",
    "Solution:\n",
    "- Doubling up on domain specification in both `gdal.Warp` and `gdal.Translate` seems to lead to spatially consistent data fields\n",
    "- See function `process_daily_modis_hdf_to_tif` in `geospatial.py` that's part of the CAMELS-SPAT code\n",
    "\n",
    "Re-run:\n",
    "- LAI download code to get daily files covering North America\n",
    "- Move these files to Copernicus, as well as mac\n",
    "- Re-do the CAMELS-SPAT processing of LAI data\n"
   ]
  },
  {
   "cell_type": "code",
   "execution_count": 1,
   "id": "b063e1d5-dd7f-403c-ae4b-991a4bc79d83",
   "metadata": {},
   "outputs": [],
   "source": [
    "import sys\n",
    "from pathlib import Path\n",
    "sys.path.append(str(Path().absolute().parent))\n",
    "import _functions as pmf"
   ]
  },
  {
   "cell_type": "code",
   "execution_count": 2,
   "id": "326023c2-5a57-47bc-b5b2-e29104255183",
   "metadata": {},
   "outputs": [],
   "source": [
    "# Specify where the config file can be found\n",
    "config_file = '../0_config/config.txt'"
   ]
  },
  {
   "cell_type": "code",
   "execution_count": 3,
   "id": "d6f2fc2b-0e7f-4abb-a9b7-4d538863e140",
   "metadata": {},
   "outputs": [],
   "source": [
    "# Get the required info from the config file\n",
    "raw_path = pmf.read_from_config(config_file,'raw_path')"
   ]
  },
  {
   "cell_type": "markdown",
   "id": "e5c69e44-5127-4b42-bc8a-bf09f2d3d3ff",
   "metadata": {},
   "source": [
    "### 1. Find LAI files"
   ]
  },
  {
   "cell_type": "code",
   "execution_count": 4,
   "id": "64e0043d-d964-4c19-8192-4f07b5119a41",
   "metadata": {},
   "outputs": [],
   "source": [
    "import glob"
   ]
  },
  {
   "cell_type": "code",
   "execution_count": 5,
   "id": "7ca82088-c2f7-433b-a5c2-3b0e4746dfc5",
   "metadata": {},
   "outputs": [],
   "source": [
    "src_path = Path(raw_path) / 'lai' / 'raw'"
   ]
  },
  {
   "cell_type": "code",
   "execution_count": 10,
   "id": "dfe0330a-97f1-4ddc-b724-c3441cdb3355",
   "metadata": {},
   "outputs": [],
   "source": [
    "lai_files = sorted( glob.glob(str(src_path / '*.tif')) )"
   ]
  },
  {
   "cell_type": "code",
   "execution_count": 11,
   "id": "a9e9ccff-06cd-4b75-9619-a5b6de63286d",
   "metadata": {},
   "outputs": [
    {
     "data": {
      "text/plain": [
       "982"
      ]
     },
     "execution_count": 11,
     "metadata": {},
     "output_type": "execute_result"
    }
   ],
   "source": [
    "len(lai_files)"
   ]
  },
  {
   "cell_type": "markdown",
   "id": "a6270a69-9548-434d-97f7-1fec467f325f",
   "metadata": {},
   "source": [
    "### 2. Extract file properties"
   ]
  },
  {
   "cell_type": "code",
   "execution_count": 12,
   "id": "9221c3ed-8c4b-495b-8d92-b9ab57d58e8b",
   "metadata": {},
   "outputs": [],
   "source": [
    "import os\n",
    "import rasterio"
   ]
  },
  {
   "cell_type": "code",
   "execution_count": 13,
   "id": "7f0ad66e-c130-4437-a0c1-289aedf33ff3",
   "metadata": {},
   "outputs": [],
   "source": [
    "def get_geotiff_properties(file):\n",
    "\n",
    "    with rasterio.open(file) as src:\n",
    "        geoTransform = src.transform\n",
    "        pixelSize = [geoTransform[0],geoTransform[4]]\n",
    "        rasterSize = [src.width,src.height]\n",
    "        boundingBox = src.bounds\n",
    "    \n",
    "    return pixelSize, rasterSize, boundingBox"
   ]
  },
  {
   "cell_type": "code",
   "execution_count": 14,
   "id": "6939c8ab-5711-4823-9841-e8de73228aee",
   "metadata": {},
   "outputs": [],
   "source": [
    "def get_date_from_filename(file):\n",
    "    file_name = os.path.basename(file)\n",
    "    yyyymmdd = file_name[0:8]\n",
    "    return yyyymmdd"
   ]
  },
  {
   "cell_type": "code",
   "execution_count": 15,
   "id": "ad65daf7-be9e-4e59-9c14-bc729f8da1e6",
   "metadata": {},
   "outputs": [],
   "source": [
    "x_res = []\n",
    "y_res = []\n",
    "x_size= []\n",
    "y_size= []\n",
    "b_box = []\n",
    "dates = []"
   ]
  },
  {
   "cell_type": "code",
   "execution_count": 16,
   "id": "f0453ea8-4306-43be-9250-20323fb286e2",
   "metadata": {},
   "outputs": [],
   "source": [
    "for file in lai_files:\n",
    "    px,rs,bb = get_geotiff_properties(file)\n",
    "    date = get_date_from_filename(file)\n",
    "    x_res.append(px[0])\n",
    "    y_res.append(px[1])\n",
    "    x_size.append(rs[0])\n",
    "    y_size.append(rs[1])\n",
    "    b_box.append(bb)\n",
    "    dates.append(date)"
   ]
  },
  {
   "cell_type": "markdown",
   "id": "32a2dd73-c07c-4d2d-b0d3-3a5fec82b88d",
   "metadata": {},
   "source": [
    "### 3. Analysis"
   ]
  },
  {
   "cell_type": "code",
   "execution_count": 17,
   "id": "38265287-df51-4712-9262-b6840b1047cd",
   "metadata": {},
   "outputs": [],
   "source": [
    "import matplotlib.pyplot as plt\n",
    "import pandas as pd"
   ]
  },
  {
   "cell_type": "code",
   "execution_count": 18,
   "id": "116df18e-b17e-4987-b804-c3df8d489694",
   "metadata": {},
   "outputs": [],
   "source": [
    "data_dict = {'x_resolution': x_res, 'y_resolution': y_res, \n",
    "             'x_raster_size': x_size, 'y_raster_size': y_size, 'bounding_box': b_box}"
   ]
  },
  {
   "cell_type": "code",
   "execution_count": 19,
   "id": "e799578c-37ad-4c7e-9499-568da8305e67",
   "metadata": {},
   "outputs": [],
   "source": [
    "data = pd.DataFrame(data_dict)"
   ]
  },
  {
   "cell_type": "code",
   "execution_count": 20,
   "id": "2815d427-6ac8-4be0-a41f-423b6f73212f",
   "metadata": {},
   "outputs": [],
   "source": [
    "dti = pd.to_datetime(dates,format='%Y%m%d') # index\n",
    "data = data.set_index(dti)"
   ]
  },
  {
   "cell_type": "code",
   "execution_count": 21,
   "id": "2e24775a-cff2-47ef-bd10-de66e6c4e014",
   "metadata": {},
   "outputs": [
    {
     "name": "stdout",
     "output_type": "stream",
     "text": [
      "Checking 982 MODIS LAI files:\n",
      "\n",
      "Value counts in x_resolution:\n",
      "x_resolution\n",
      "0.003836    981\n",
      "0.004700      1\n",
      "Name: count, dtype: int64\n",
      "\n",
      "Value counts in y_resolution:\n",
      "y_resolution\n",
      "-0.003836    981\n",
      "-0.004700      1\n",
      "Name: count, dtype: int64\n",
      "\n",
      "Value counts in x_raster_size:\n",
      "x_raster_size\n",
      "33757    981\n",
      "27555      1\n",
      "Name: count, dtype: int64\n",
      "\n",
      "Value counts in y_raster_size:\n",
      "y_raster_size\n",
      "20854    981\n",
      "17022      1\n",
      "Name: count, dtype: int64\n",
      "\n",
      "Value counts in bounding_box:\n",
      "bounding_box\n",
      "(-179.5, 5.0, -50.0, 85.0)    982\n",
      "Name: count, dtype: int64\n",
      "\n"
     ]
    }
   ],
   "source": [
    "# Count occurrences of each unique value in each column\n",
    "print(f'Checking {len(lai_files)} MODIS LAI files:\\n')\n",
    "for column in data.columns:\n",
    "    value_counts = data[column].value_counts()\n",
    "    print(f\"Value counts in {column}:\\n{value_counts}\\n\")"
   ]
  },
  {
   "cell_type": "code",
   "execution_count": 23,
   "id": "616fcee4-181b-4a42-8a9d-436ca8fa8edc",
   "metadata": {},
   "outputs": [
    {
     "data": {
      "text/plain": [
       "Text(0, 0.5, 'resolution in x direction [degrees]')"
      ]
     },
     "execution_count": 23,
     "metadata": {},
     "output_type": "execute_result"
    },
    {
     "data": {
      "image/png": "[encoded data removed]",
      "text/plain": [
       "<Figure size 640x480 with 1 Axes>"
      ]
     },
     "metadata": {},
     "output_type": "display_data"
    }
   ],
   "source": [
    "data['x_resolution'].plot()\n",
    "plt.xlabel('file (sorted in time)')\n",
    "plt.ylabel('resolution in x direction [degrees]')"
   ]
  },
  {
   "cell_type": "code",
   "execution_count": 24,
   "id": "c8c9a394-d319-4d50-b475-d4084a2441c2",
   "metadata": {},
   "outputs": [
    {
     "name": "stdout",
     "output_type": "stream",
     "text": [
      "2022-10-16 00:00:00\n"
     ]
    }
   ],
   "source": [
    "for ix,row in data[data['x_raster_size'] == 27555].iterrows():\n",
    "    print(ix)"
   ]
  },
  {
   "cell_type": "markdown",
   "id": "6591dd7e-d27b-419b-9b6b-54f80f77ccb9",
   "metadata": {},
   "source": [
    "### 4. Download some raw data to see if the error originates there"
   ]
  },
  {
   "cell_type": "code",
   "execution_count": 94,
   "id": "45b81535-d691-4a0e-9296-e39a366915a9",
   "metadata": {},
   "outputs": [],
   "source": [
    "from bs4 import BeautifulSoup\n",
    "import os\n",
    "from osgeo import gdal\n",
    "import shutil\n",
    "import re\n",
    "import requests\n",
    "from urllib.parse import urljoin"
   ]
  },
  {
   "cell_type": "code",
   "execution_count": 65,
   "id": "439ccd15-577d-4594-9f5a-cfbd7bde657b",
   "metadata": {},
   "outputs": [],
   "source": [
    "def find_files_in_webpage_folder(url, extension='.tif'):\n",
    "    \n",
    "    # Send an HTTP GET request to the URL and get the HTML content.\n",
    "    response = requests.get(url)\n",
    "    \n",
    "    # Check if the request was successful (status code 200).\n",
    "    if response.status_code == 200:\n",
    "        # Parse the HTML content using BeautifulSoup.\n",
    "        soup = BeautifulSoup(response.text, 'html.parser')\n",
    "        \n",
    "        # Grab any hrefs that have the correct extension\n",
    "        #files = [a['href'] for a in soup.find_all('a', href=True) if extension in a['href']]\n",
    "        files = [a['href'] for a in soup.find_all('a', href=True) if a['href'].endswith(extension)]\n",
    "        \n",
    "        # Convert relative URLs to absolute URLs.\n",
    "        file_links = [urljoin(url, file) for file in files]\n",
    "        \n",
    "    else:\n",
    "        print(\"Failed to retrieve the webpage. Status code:\", response.status_code)        \n",
    "    \n",
    "    return file_links"
   ]
  },
  {
   "cell_type": "code",
   "execution_count": 60,
   "id": "16a2b0ce-d11f-4f38-adb6-c70a0aebb70d",
   "metadata": {},
   "outputs": [],
   "source": [
    "def hdf_tile_in_north_america(url):\n",
    "\n",
    "    '''Checks if a HDF URL falls within the North America domain (sort of).\n",
    "       See Fig. 2 here: https://lpdaac.usgs.gov/documents/926/MOD15_User_Guide_V61.pdf'''\n",
    "\n",
    "    # Separate parts\n",
    "    file_name = os.path.basename(url)\n",
    "    file_parts = file_name.split('.')\n",
    "\n",
    "    # Check if this matches expectations\n",
    "    pattern = r'h\\d{2}v\\d{2}'\n",
    "    if not re.match(pattern,file_parts[2]):\n",
    "        print('WARNING: hdf_tile_in_north_america(): URL {url} does not match expected pattern')\n",
    "        return False\n",
    "\n",
    "    # Check h and v values against what we want\n",
    "    h = int(file_parts[2][1:3])\n",
    "    v = int(file_parts[2][4:6])\n",
    "\n",
    "    flag = True\n",
    "    if h > 15: flag = False\n",
    "    if v > 8:  flag = False\n",
    "    if h < 7:  flag = False\n",
    "\n",
    "    return flag"
   ]
  },
  {
   "cell_type": "code",
   "execution_count": 62,
   "id": "9fd20dad-a94b-4c0b-ad9d-5cd18a0db9ee",
   "metadata": {},
   "outputs": [],
   "source": [
    "def download_modis_into_day_folder(download_folder, url):\n",
    "\n",
    "    # Make the names and paths\n",
    "    folder_name = os.path.basename(os.path.dirname(url))\n",
    "    folder = download_folder/folder_name\n",
    "    folder.mkdir(parents=True, exist_ok=True)\n",
    "    \n",
    "    # Check if this file is in the domain we want\n",
    "    if hdf_tile_in_north_america(url):\n",
    "        download_url_into_folder(url,folder)\n",
    "    \n",
    "    return folder"
   ]
  },
  {
   "cell_type": "code",
   "execution_count": 63,
   "id": "d6111bd0-bca1-402e-96a2-43d64b82784e",
   "metadata": {},
   "outputs": [],
   "source": [
    "def download_url_into_folder(url,folder, retries_max=10, requests_kwargs={}, overwrite=False):\n",
    "    \n",
    "    # Extract the filename from the URL\n",
    "    file_name = url.split('/')[-1].strip() # Get the last part of the url, strip whitespace and characters\n",
    "    \n",
    "    # Early exit\n",
    "    if Path(folder/file_name).is_file():\n",
    "        if not overwrite:\n",
    "            print(f'File {folder/file_name} exists and download_url_into_folder() argument overwrite is False. Skipping file.')\n",
    "            return\n",
    "    \n",
    "    # Make sure the connection is re-tried if it fails\n",
    "    retries_cur = 1\n",
    "    while retries_cur <= retries_max:\n",
    "        try: \n",
    "\n",
    "            # Send a HTTP request to the server and save the HTTP response in a response object called response\n",
    "            # kwargs:\n",
    "            # - stream: (True/False) ensures that only response headers are downloaded initially \n",
    "            # - header: (dict)       specifies details about the request, such as User-Agent\n",
    "            # - auth  : (tuple)      user name, password\n",
    "            with requests.get(url.strip(), stream=True, **requests_kwargs) as response:\n",
    "\n",
    "                # Decode the response\n",
    "                response.raw.decode_content = True\n",
    "                content = response.raw\n",
    "\n",
    "                # Write to file\n",
    "                with open(folder / file_name, 'wb') as data:\n",
    "                    shutil.copyfileobj(content, data)\n",
    "                    \n",
    "                # print a completion message\n",
    "                print('Successfully downloaded ' + url)\n",
    "                    \n",
    "        except Exception as e:\n",
    "            print('Error downloading ' + url + ' on try ' + str(retries_cur) + ' with error: ' + str(e))\n",
    "            retries_cur += 1\n",
    "            continue\n",
    "        else:\n",
    "            break           \n",
    "    \n",
    "    return"
   ]
  },
  {
   "cell_type": "code",
   "execution_count": 89,
   "id": "d4df0c14-67fc-4e5a-9cad-ac8a6e17da5d",
   "metadata": {},
   "outputs": [],
   "source": [
    "def find_files_in_folder(folder,extension=''):\n",
    "\n",
    "    '''Searches folder for files, optionally only those with specified extension'''\n",
    "\n",
    "    files = glob.glob(f'{folder}/*{extension}')\n",
    "\n",
    "    return files"
   ]
  },
  {
   "cell_type": "code",
   "execution_count": 98,
   "id": "82e986c2-66e6-4a84-898f-8f94b7e49d71",
   "metadata": {},
   "outputs": [],
   "source": [
    "def process_daily_modis_hdf_to_tif(in_folder, out_folder,\n",
    "                                   subdataset_front='HDF4_EOS:EOS_GRID',\n",
    "                                   subdataset_back='MOD_Grid_MOD15A2H:Lai_500m',\n",
    "                                   to_CRS='EPSG:4326',\n",
    "                                   subset_window=[]):\n",
    "\n",
    "    # Find files\n",
    "    files = find_files_in_folder(in_folder)\n",
    "\n",
    "    # Transform to gdal.BuildVrt inputs, by specifying the subdataset we want\n",
    "    hdf_inlist = [f'{subdataset_front}:\"{file}\":{subdataset_back}' for file in files if file.endswith('.hdf')]\n",
    "\n",
    "    # Create a virtual dataset (VRT) of all individual GeoTIFF files that's not written to disk (argument '')\n",
    "    vrt_options = gdal.BuildVRTOptions(resolution='highest')\n",
    "    vrt = gdal.BuildVRT('', hdf_inlist, options=vrt_options)\n",
    "\n",
    "    # Reproject the VRT\n",
    "    warp_options = gdal.WarpOptions(format='VRT', dstSRS=to_CRS)\n",
    "    vrt_4326 = gdal.Warp('', vrt, options=warp_options)\n",
    "\n",
    "    # Subset and convert to geotiff\n",
    "    if subset_window:\n",
    "        tif_options = gdal.TranslateOptions(format='GTiff', projWin=subset_window, creationOptions=['COMPRESS=DEFLATE','BIGTIFF=YES'])\n",
    "    else:\n",
    "        tif_options = gdal.TranslateOptions(format='GTiff', creationOptions=['COMPRESS=DEFLATE','BIGTIFF=YES'])\n",
    "    \n",
    "    output_name = os.path.basename(in_folder).replace('.','') + '_' + subdataset_back.replace(':','_') + '.tif'\n",
    "    gdal.Translate(str(out_folder/output_name), vrt_4326, options=tif_options).FlushCache()\n",
    "\n",
    "    # Flush cache\n",
    "    vrt = None\n",
    "    vrt_4326 = None"
   ]
  },
  {
   "cell_type": "markdown",
   "id": "04ee9af5-87a6-439f-bce0-b4e6ccd35ba0",
   "metadata": {},
   "source": [
    "#### Dev"
   ]
  },
  {
   "cell_type": "code",
   "execution_count": 101,
   "id": "54d3eb17-bea8-42fa-ab27-db690d87dd87",
   "metadata": {},
   "outputs": [],
   "source": [
    "files = find_files_in_folder(folder_dec)"
   ]
  },
  {
   "cell_type": "code",
   "execution_count": 104,
   "id": "6aad44c3-5098-4714-aa8d-62a807826c24",
   "metadata": {},
   "outputs": [],
   "source": [
    "hdf_inlist = files"
   ]
  },
  {
   "cell_type": "code",
   "execution_count": 105,
   "id": "6f6ecc1d-3016-432a-96fd-71d8dc38c993",
   "metadata": {},
   "outputs": [
    {
     "name": "stderr",
     "output_type": "stream",
     "text": [
      "Warning 1: Can't open /Users/wmk934/data/perceptual_models/tmp/2002.12.03/MCD15A2H.A2002337.h09v05.061.2020084014805.hdf. Skipping it\n",
      "Warning 1: Can't open /Users/wmk934/data/perceptual_models/tmp/2002.12.03/MCD15A2H.A2002337.h12v04.061.2020084012930.hdf. Skipping it\n",
      "Warning 1: Can't open /Users/wmk934/data/perceptual_models/tmp/2002.12.03/MCD15A2H.A2002337.h12v03.061.2020084014803.hdf. Skipping it\n",
      "Warning 1: Can't open /Users/wmk934/data/perceptual_models/tmp/2002.12.03/MCD15A2H.A2002337.h15v02.061.2020084014810.hdf. Skipping it\n",
      "Warning 1: Can't open /Users/wmk934/data/perceptual_models/tmp/2002.12.03/MCD15A2H.A2002337.h09v08.061.2020084012926.hdf. Skipping it\n",
      "Warning 1: Can't open /Users/wmk934/data/perceptual_models/tmp/2002.12.03/MCD15A2H.A2002337.h09v02.061.2020084012923.hdf. Skipping it\n",
      "Warning 1: Can't open /Users/wmk934/data/perceptual_models/tmp/2002.12.03/MCD15A2H.A2002337.h11v07.061.2020084012930.hdf. Skipping it\n",
      "Warning 1: Can't open /Users/wmk934/data/perceptual_models/tmp/2002.12.03/MCD15A2H.A2002337.h10v04.061.2020084014757.hdf. Skipping it\n",
      "Warning 1: Can't open /Users/wmk934/data/perceptual_models/tmp/2002.12.03/MCD15A2H.A2002337.h10v03.061.2020084012927.hdf. Skipping it\n",
      "Warning 1: Can't open /Users/wmk934/data/perceptual_models/tmp/2002.12.03/MCD15A2H.A2002337.h07v07.061.2020084012919.hdf. Skipping it\n",
      "Warning 1: Can't open /Users/wmk934/data/perceptual_models/tmp/2002.12.03/MCD15A2H.A2002337.h11v02.061.2020084014747.hdf. Skipping it\n",
      "Warning 1: Can't open /Users/wmk934/data/perceptual_models/tmp/2002.12.03/MCD15A2H.A2002337.h11v03.061.2020084012941.hdf. Skipping it\n",
      "Warning 1: Can't open /Users/wmk934/data/perceptual_models/tmp/2002.12.03/MCD15A2H.A2002337.h11v04.061.2020084013106.hdf. Skipping it\n",
      "Warning 1: Can't open /Users/wmk934/data/perceptual_models/tmp/2002.12.03/MCD15A2H.A2002337.h10v07.061.2020084012922.hdf. Skipping it\n",
      "Warning 1: Can't open /Users/wmk934/data/perceptual_models/tmp/2002.12.03/MCD15A2H.A2002337.h14v02.061.2020084014750.hdf. Skipping it\n",
      "Warning 1: Can't open /Users/wmk934/data/perceptual_models/tmp/2002.12.03/MCD15A2H.A2002337.h12v05.061.2020084014743.hdf. Skipping it\n",
      "Warning 1: Can't open /Users/wmk934/data/perceptual_models/tmp/2002.12.03/MCD15A2H.A2002337.h08v08.061.2020084012922.hdf. Skipping it\n",
      "Warning 1: Can't open /Users/wmk934/data/perceptual_models/tmp/2002.12.03/MCD15A2H.A2002337.h09v04.061.2020084012931.hdf. Skipping it\n",
      "Warning 1: Can't open /Users/wmk934/data/perceptual_models/tmp/2002.12.03/MCD15A2H.A2002337.h11v08.061.2020084012948.hdf. Skipping it\n",
      "Warning 1: Can't open /Users/wmk934/data/perceptual_models/tmp/2002.12.03/MCD15A2H.A2002337.h10v08.061.2020084014804.hdf. Skipping it\n",
      "Warning 1: Can't open /Users/wmk934/data/perceptual_models/tmp/2002.12.03/MCD15A2H.A2002337.h10v02.061.2020084014743.hdf. Skipping it\n",
      "Warning 1: Can't open /Users/wmk934/data/perceptual_models/tmp/2002.12.03/MCD15A2H.A2002337.h11v05.061.2020084013052.hdf. Skipping it\n",
      "Warning 1: Can't open /Users/wmk934/data/perceptual_models/tmp/2002.12.03/MCD15A2H.A2002337.h08v06.061.2020084014909.hdf. Skipping it\n",
      "Warning 1: Can't open /Users/wmk934/data/perceptual_models/tmp/2002.12.03/MCD15A2H.A2002337.h12v07.061.2020084014743.hdf. Skipping it\n",
      "Warning 1: Can't open /Users/wmk934/data/perceptual_models/tmp/2002.12.03/MCD15A2H.A2002337.h09v03.061.2020084014742.hdf. Skipping it\n",
      "Warning 1: Can't open /Users/wmk934/data/perceptual_models/tmp/2002.12.03/MCD15A2H.A2002337.h07v03.061.2020084012919.hdf. Skipping it\n",
      "Warning 1: Can't open /Users/wmk934/data/perceptual_models/tmp/2002.12.03/MCD15A2H.A2002337.h09v06.061.2020084012928.hdf. Skipping it\n",
      "Warning 1: Can't open /Users/wmk934/data/perceptual_models/tmp/2002.12.03/MCD15A2H.A2002337.h10v05.061.2020084014805.hdf. Skipping it\n",
      "Warning 1: Can't open /Users/wmk934/data/perceptual_models/tmp/2002.12.03/MCD15A2H.A2002337.h13v04.061.2020084014747.hdf. Skipping it\n",
      "Warning 1: Can't open /Users/wmk934/data/perceptual_models/tmp/2002.12.03/MCD15A2H.A2002337.h07v06.061.2020084012922.hdf. Skipping it\n",
      "Warning 1: Can't open /Users/wmk934/data/perceptual_models/tmp/2002.12.03/MCD15A2H.A2002337.h15v05.061.2020084020641.hdf. Skipping it\n",
      "Warning 1: Can't open /Users/wmk934/data/perceptual_models/tmp/2002.12.03/MCD15A2H.A2002337.h08v07.061.2020084012927.hdf. Skipping it\n",
      "Warning 1: Can't open /Users/wmk934/data/perceptual_models/tmp/2002.12.03/MCD15A2H.A2002337.h08v05.061.2020084012934.hdf. Skipping it\n",
      "Warning 1: Can't open /Users/wmk934/data/perceptual_models/tmp/2002.12.03/MCD15A2H.A2002337.h13v03.061.2020084014759.hdf. Skipping it\n",
      "Warning 1: Can't open /Users/wmk934/data/perceptual_models/tmp/2002.12.03/MCD15A2H.A2002337.h14v04.061.2020084014739.hdf. Skipping it\n",
      "Warning 1: Can't open /Users/wmk934/data/perceptual_models/tmp/2002.12.03/MCD15A2H.A2002337.h12v02.061.2020084014756.hdf. Skipping it\n",
      "Warning 1: Can't open /Users/wmk934/data/perceptual_models/tmp/2002.12.03/MCD15A2H.A2002337.h15v03.061.2020084014745.hdf. Skipping it\n",
      "Warning 1: Can't open /Users/wmk934/data/perceptual_models/tmp/2002.12.03/MCD15A2H.A2002337.h15v07.061.2020084020641.hdf. Skipping it\n",
      "Warning 1: Can't open /Users/wmk934/data/perceptual_models/tmp/2002.12.03/MCD15A2H.A2002337.h12v08.061.2020084014829.hdf. Skipping it\n",
      "Warning 1: Can't open /Users/wmk934/data/perceptual_models/tmp/2002.12.03/MCD15A2H.A2002337.h11v06.061.2020084012922.hdf. Skipping it\n",
      "Warning 1: Can't open /Users/wmk934/data/perceptual_models/tmp/2002.12.03/MCD15A2H.A2002337.h13v08.061.2020084014737.hdf. Skipping it\n",
      "Warning 1: Can't open /Users/wmk934/data/perceptual_models/tmp/2002.12.03/MCD15A2H.A2002337.h14v03.061.2020084014753.hdf. Skipping it\n",
      "Warning 1: Can't open /Users/wmk934/data/perceptual_models/tmp/2002.12.03/MCD15A2H.A2002337.h08v04.061.2020084012915.hdf. Skipping it\n",
      "Warning 1: Can't open /Users/wmk934/data/perceptual_models/tmp/2002.12.03/MCD15A2H.A2002337.h07v05.061.2020084014743.hdf. Skipping it\n",
      "Warning 1: Can't open /Users/wmk934/data/perceptual_models/tmp/2002.12.03/MCD15A2H.A2002337.h13v02.061.2020084014755.hdf. Skipping it\n",
      "Warning 1: Can't open /Users/wmk934/data/perceptual_models/tmp/2002.12.03/MCD15A2H.A2002337.h08v03.061.2020084012918.hdf. Skipping it\n",
      "Warning 1: Can't open /Users/wmk934/data/perceptual_models/tmp/2002.12.03/MCD15A2H.A2002337.h09v07.061.2020084012931.hdf. Skipping it\n",
      "Warning 1: Can't open /Users/wmk934/data/perceptual_models/tmp/2002.12.03/MCD15A2H.A2002337.h10v06.061.2020084012930.hdf. Skipping it\n"
     ]
    }
   ],
   "source": [
    "vrt_options = gdal.BuildVRTOptions(resolution='highest')\n",
    "vrt = gdal.BuildVRT('', hdf_inlist, options=vrt_options)"
   ]
  },
  {
   "cell_type": "markdown",
   "id": "f1682cd2-c68d-4785-8ecf-57f0a33085d5",
   "metadata": {},
   "source": [
    "#### Processing"
   ]
  },
  {
   "cell_type": "code",
   "execution_count": 66,
   "id": "fe56edc3-af31-4287-9ff1-fbae5f99a6ca",
   "metadata": {},
   "outputs": [],
   "source": [
    "folder_dec = 'https://e4ftl01.cr.usgs.gov/MOTA/MCD15A2H.061/2002.12.03/'\n",
    "folder_jul = 'https://e4ftl01.cr.usgs.gov/MOTA/MCD15A2H.061/2002.07.04/'"
   ]
  },
  {
   "cell_type": "code",
   "execution_count": 80,
   "id": "3c84e333-fa8d-4408-8a49-613355e82276",
   "metadata": {},
   "outputs": [],
   "source": [
    "tmp_path = Path( pmf.read_from_config(config_file,'temp_path') )"
   ]
  },
  {
   "cell_type": "code",
   "execution_count": 78,
   "id": "4a9e50a4-af58-4829-bd55-236652b1c021",
   "metadata": {},
   "outputs": [],
   "source": [
    "# December files\n",
    "files_dec = find_files_in_webpage_folder(folder_dec, extension='.hdf')"
   ]
  },
  {
   "cell_type": "code",
   "execution_count": 91,
   "id": "f34bd056-1479-4ada-8a75-873b35bb1b28",
   "metadata": {
    "scrolled": true
   },
   "outputs": [
    {
     "name": "stdout",
     "output_type": "stream",
     "text": [
      "File /Users/wmk934/data/perceptual_models/tmp/2002.12.03/MCD15A2H.A2002337.h07v03.061.2020084012919.hdf exists and download_url_into_folder() argument overwrite is False. Skipping file.\n",
      "File /Users/wmk934/data/perceptual_models/tmp/2002.12.03/MCD15A2H.A2002337.h07v05.061.2020084014743.hdf exists and download_url_into_folder() argument overwrite is False. Skipping file.\n",
      "File /Users/wmk934/data/perceptual_models/tmp/2002.12.03/MCD15A2H.A2002337.h07v06.061.2020084012922.hdf exists and download_url_into_folder() argument overwrite is False. Skipping file.\n",
      "File /Users/wmk934/data/perceptual_models/tmp/2002.12.03/MCD15A2H.A2002337.h07v07.061.2020084012919.hdf exists and download_url_into_folder() argument overwrite is False. Skipping file.\n",
      "File /Users/wmk934/data/perceptual_models/tmp/2002.12.03/MCD15A2H.A2002337.h08v03.061.2020084012918.hdf exists and download_url_into_folder() argument overwrite is False. Skipping file.\n",
      "File /Users/wmk934/data/perceptual_models/tmp/2002.12.03/MCD15A2H.A2002337.h08v04.061.2020084012915.hdf exists and download_url_into_folder() argument overwrite is False. Skipping file.\n",
      "File /Users/wmk934/data/perceptual_models/tmp/2002.12.03/MCD15A2H.A2002337.h08v05.061.2020084012934.hdf exists and download_url_into_folder() argument overwrite is False. Skipping file.\n",
      "File /Users/wmk934/data/perceptual_models/tmp/2002.12.03/MCD15A2H.A2002337.h08v06.061.2020084014909.hdf exists and download_url_into_folder() argument overwrite is False. Skipping file.\n",
      "File /Users/wmk934/data/perceptual_models/tmp/2002.12.03/MCD15A2H.A2002337.h08v07.061.2020084012927.hdf exists and download_url_into_folder() argument overwrite is False. Skipping file.\n",
      "File /Users/wmk934/data/perceptual_models/tmp/2002.12.03/MCD15A2H.A2002337.h08v08.061.2020084012922.hdf exists and download_url_into_folder() argument overwrite is False. Skipping file.\n",
      "File /Users/wmk934/data/perceptual_models/tmp/2002.12.03/MCD15A2H.A2002337.h09v02.061.2020084012923.hdf exists and download_url_into_folder() argument overwrite is False. Skipping file.\n",
      "File /Users/wmk934/data/perceptual_models/tmp/2002.12.03/MCD15A2H.A2002337.h09v03.061.2020084014742.hdf exists and download_url_into_folder() argument overwrite is False. Skipping file.\n",
      "File /Users/wmk934/data/perceptual_models/tmp/2002.12.03/MCD15A2H.A2002337.h09v04.061.2020084012931.hdf exists and download_url_into_folder() argument overwrite is False. Skipping file.\n",
      "File /Users/wmk934/data/perceptual_models/tmp/2002.12.03/MCD15A2H.A2002337.h09v05.061.2020084014805.hdf exists and download_url_into_folder() argument overwrite is False. Skipping file.\n",
      "File /Users/wmk934/data/perceptual_models/tmp/2002.12.03/MCD15A2H.A2002337.h09v06.061.2020084012928.hdf exists and download_url_into_folder() argument overwrite is False. Skipping file.\n",
      "File /Users/wmk934/data/perceptual_models/tmp/2002.12.03/MCD15A2H.A2002337.h09v07.061.2020084012931.hdf exists and download_url_into_folder() argument overwrite is False. Skipping file.\n",
      "File /Users/wmk934/data/perceptual_models/tmp/2002.12.03/MCD15A2H.A2002337.h09v08.061.2020084012926.hdf exists and download_url_into_folder() argument overwrite is False. Skipping file.\n",
      "File /Users/wmk934/data/perceptual_models/tmp/2002.12.03/MCD15A2H.A2002337.h10v02.061.2020084014743.hdf exists and download_url_into_folder() argument overwrite is False. Skipping file.\n",
      "File /Users/wmk934/data/perceptual_models/tmp/2002.12.03/MCD15A2H.A2002337.h10v03.061.2020084012927.hdf exists and download_url_into_folder() argument overwrite is False. Skipping file.\n",
      "File /Users/wmk934/data/perceptual_models/tmp/2002.12.03/MCD15A2H.A2002337.h10v04.061.2020084014757.hdf exists and download_url_into_folder() argument overwrite is False. Skipping file.\n",
      "File /Users/wmk934/data/perceptual_models/tmp/2002.12.03/MCD15A2H.A2002337.h10v05.061.2020084014805.hdf exists and download_url_into_folder() argument overwrite is False. Skipping file.\n",
      "File /Users/wmk934/data/perceptual_models/tmp/2002.12.03/MCD15A2H.A2002337.h10v06.061.2020084012930.hdf exists and download_url_into_folder() argument overwrite is False. Skipping file.\n",
      "File /Users/wmk934/data/perceptual_models/tmp/2002.12.03/MCD15A2H.A2002337.h10v07.061.2020084012922.hdf exists and download_url_into_folder() argument overwrite is False. Skipping file.\n",
      "File /Users/wmk934/data/perceptual_models/tmp/2002.12.03/MCD15A2H.A2002337.h10v08.061.2020084014804.hdf exists and download_url_into_folder() argument overwrite is False. Skipping file.\n",
      "File /Users/wmk934/data/perceptual_models/tmp/2002.12.03/MCD15A2H.A2002337.h11v02.061.2020084014747.hdf exists and download_url_into_folder() argument overwrite is False. Skipping file.\n",
      "File /Users/wmk934/data/perceptual_models/tmp/2002.12.03/MCD15A2H.A2002337.h11v03.061.2020084012941.hdf exists and download_url_into_folder() argument overwrite is False. Skipping file.\n",
      "File /Users/wmk934/data/perceptual_models/tmp/2002.12.03/MCD15A2H.A2002337.h11v04.061.2020084013106.hdf exists and download_url_into_folder() argument overwrite is False. Skipping file.\n",
      "File /Users/wmk934/data/perceptual_models/tmp/2002.12.03/MCD15A2H.A2002337.h11v05.061.2020084013052.hdf exists and download_url_into_folder() argument overwrite is False. Skipping file.\n",
      "File /Users/wmk934/data/perceptual_models/tmp/2002.12.03/MCD15A2H.A2002337.h11v06.061.2020084012922.hdf exists and download_url_into_folder() argument overwrite is False. Skipping file.\n",
      "File /Users/wmk934/data/perceptual_models/tmp/2002.12.03/MCD15A2H.A2002337.h11v07.061.2020084012930.hdf exists and download_url_into_folder() argument overwrite is False. Skipping file.\n",
      "File /Users/wmk934/data/perceptual_models/tmp/2002.12.03/MCD15A2H.A2002337.h11v08.061.2020084012948.hdf exists and download_url_into_folder() argument overwrite is False. Skipping file.\n",
      "File /Users/wmk934/data/perceptual_models/tmp/2002.12.03/MCD15A2H.A2002337.h12v02.061.2020084014756.hdf exists and download_url_into_folder() argument overwrite is False. Skipping file.\n",
      "File /Users/wmk934/data/perceptual_models/tmp/2002.12.03/MCD15A2H.A2002337.h12v03.061.2020084014803.hdf exists and download_url_into_folder() argument overwrite is False. Skipping file.\n",
      "File /Users/wmk934/data/perceptual_models/tmp/2002.12.03/MCD15A2H.A2002337.h12v04.061.2020084012930.hdf exists and download_url_into_folder() argument overwrite is False. Skipping file.\n",
      "File /Users/wmk934/data/perceptual_models/tmp/2002.12.03/MCD15A2H.A2002337.h12v05.061.2020084014743.hdf exists and download_url_into_folder() argument overwrite is False. Skipping file.\n",
      "File /Users/wmk934/data/perceptual_models/tmp/2002.12.03/MCD15A2H.A2002337.h12v07.061.2020084014743.hdf exists and download_url_into_folder() argument overwrite is False. Skipping file.\n",
      "File /Users/wmk934/data/perceptual_models/tmp/2002.12.03/MCD15A2H.A2002337.h12v08.061.2020084014829.hdf exists and download_url_into_folder() argument overwrite is False. Skipping file.\n",
      "File /Users/wmk934/data/perceptual_models/tmp/2002.12.03/MCD15A2H.A2002337.h13v02.061.2020084014755.hdf exists and download_url_into_folder() argument overwrite is False. Skipping file.\n",
      "File /Users/wmk934/data/perceptual_models/tmp/2002.12.03/MCD15A2H.A2002337.h13v03.061.2020084014759.hdf exists and download_url_into_folder() argument overwrite is False. Skipping file.\n",
      "File /Users/wmk934/data/perceptual_models/tmp/2002.12.03/MCD15A2H.A2002337.h13v04.061.2020084014747.hdf exists and download_url_into_folder() argument overwrite is False. Skipping file.\n",
      "File /Users/wmk934/data/perceptual_models/tmp/2002.12.03/MCD15A2H.A2002337.h13v08.061.2020084014737.hdf exists and download_url_into_folder() argument overwrite is False. Skipping file.\n",
      "File /Users/wmk934/data/perceptual_models/tmp/2002.12.03/MCD15A2H.A2002337.h14v02.061.2020084014750.hdf exists and download_url_into_folder() argument overwrite is False. Skipping file.\n",
      "File /Users/wmk934/data/perceptual_models/tmp/2002.12.03/MCD15A2H.A2002337.h14v03.061.2020084014753.hdf exists and download_url_into_folder() argument overwrite is False. Skipping file.\n",
      "File /Users/wmk934/data/perceptual_models/tmp/2002.12.03/MCD15A2H.A2002337.h14v04.061.2020084014739.hdf exists and download_url_into_folder() argument overwrite is False. Skipping file.\n",
      "File /Users/wmk934/data/perceptual_models/tmp/2002.12.03/MCD15A2H.A2002337.h15v02.061.2020084014810.hdf exists and download_url_into_folder() argument overwrite is False. Skipping file.\n",
      "File /Users/wmk934/data/perceptual_models/tmp/2002.12.03/MCD15A2H.A2002337.h15v03.061.2020084014745.hdf exists and download_url_into_folder() argument overwrite is False. Skipping file.\n",
      "File /Users/wmk934/data/perceptual_models/tmp/2002.12.03/MCD15A2H.A2002337.h15v05.061.2020084020641.hdf exists and download_url_into_folder() argument overwrite is False. Skipping file.\n",
      "File /Users/wmk934/data/perceptual_models/tmp/2002.12.03/MCD15A2H.A2002337.h15v07.061.2020084020641.hdf exists and download_url_into_folder() argument overwrite is False. Skipping file.\n"
     ]
    }
   ],
   "source": [
    "for url in files_dec:\n",
    "    folder_dec = download_modis_into_day_folder(tmp_path, url)"
   ]
  },
  {
   "cell_type": "code",
   "execution_count": 97,
   "id": "39a680e5-d853-4b99-8800-c0c41cf4c15b",
   "metadata": {},
   "outputs": [
    {
     "name": "stderr",
     "output_type": "stream",
     "text": [
      "Warning 1: Can't open HDF4_EOS:EOS_GRID:\"/Users/wmk934/data/perceptual_models/tmp/2002.12.03/MCD15A2H.A2002337.h09v05.061.2020084014805.hdf\":MCD_Grid_MCD15A2H:Lai_500m. Skipping it\n",
      "Warning 1: Can't open HDF4_EOS:EOS_GRID:\"/Users/wmk934/data/perceptual_models/tmp/2002.12.03/MCD15A2H.A2002337.h12v04.061.2020084012930.hdf\":MCD_Grid_MCD15A2H:Lai_500m. Skipping it\n",
      "Warning 1: Can't open HDF4_EOS:EOS_GRID:\"/Users/wmk934/data/perceptual_models/tmp/2002.12.03/MCD15A2H.A2002337.h12v03.061.2020084014803.hdf\":MCD_Grid_MCD15A2H:Lai_500m. Skipping it\n",
      "Warning 1: Can't open HDF4_EOS:EOS_GRID:\"/Users/wmk934/data/perceptual_models/tmp/2002.12.03/MCD15A2H.A2002337.h15v02.061.2020084014810.hdf\":MCD_Grid_MCD15A2H:Lai_500m. Skipping it\n",
      "Warning 1: Can't open HDF4_EOS:EOS_GRID:\"/Users/wmk934/data/perceptual_models/tmp/2002.12.03/MCD15A2H.A2002337.h09v08.061.2020084012926.hdf\":MCD_Grid_MCD15A2H:Lai_500m. Skipping it\n",
      "Warning 1: Can't open HDF4_EOS:EOS_GRID:\"/Users/wmk934/data/perceptual_models/tmp/2002.12.03/MCD15A2H.A2002337.h09v02.061.2020084012923.hdf\":MCD_Grid_MCD15A2H:Lai_500m. Skipping it\n",
      "Warning 1: Can't open HDF4_EOS:EOS_GRID:\"/Users/wmk934/data/perceptual_models/tmp/2002.12.03/MCD15A2H.A2002337.h11v07.061.2020084012930.hdf\":MCD_Grid_MCD15A2H:Lai_500m. Skipping it\n",
      "Warning 1: Can't open HDF4_EOS:EOS_GRID:\"/Users/wmk934/data/perceptual_models/tmp/2002.12.03/MCD15A2H.A2002337.h10v04.061.2020084014757.hdf\":MCD_Grid_MCD15A2H:Lai_500m. Skipping it\n",
      "Warning 1: Can't open HDF4_EOS:EOS_GRID:\"/Users/wmk934/data/perceptual_models/tmp/2002.12.03/MCD15A2H.A2002337.h10v03.061.2020084012927.hdf\":MCD_Grid_MCD15A2H:Lai_500m. Skipping it\n",
      "Warning 1: Can't open HDF4_EOS:EOS_GRID:\"/Users/wmk934/data/perceptual_models/tmp/2002.12.03/MCD15A2H.A2002337.h07v07.061.2020084012919.hdf\":MCD_Grid_MCD15A2H:Lai_500m. Skipping it\n",
      "Warning 1: Can't open HDF4_EOS:EOS_GRID:\"/Users/wmk934/data/perceptual_models/tmp/2002.12.03/MCD15A2H.A2002337.h11v02.061.2020084014747.hdf\":MCD_Grid_MCD15A2H:Lai_500m. Skipping it\n",
      "Warning 1: Can't open HDF4_EOS:EOS_GRID:\"/Users/wmk934/data/perceptual_models/tmp/2002.12.03/MCD15A2H.A2002337.h11v03.061.2020084012941.hdf\":MCD_Grid_MCD15A2H:Lai_500m. Skipping it\n",
      "Warning 1: Can't open HDF4_EOS:EOS_GRID:\"/Users/wmk934/data/perceptual_models/tmp/2002.12.03/MCD15A2H.A2002337.h11v04.061.2020084013106.hdf\":MCD_Grid_MCD15A2H:Lai_500m. Skipping it\n",
      "Warning 1: Can't open HDF4_EOS:EOS_GRID:\"/Users/wmk934/data/perceptual_models/tmp/2002.12.03/MCD15A2H.A2002337.h10v07.061.2020084012922.hdf\":MCD_Grid_MCD15A2H:Lai_500m. Skipping it\n",
      "Warning 1: Can't open HDF4_EOS:EOS_GRID:\"/Users/wmk934/data/perceptual_models/tmp/2002.12.03/MCD15A2H.A2002337.h14v02.061.2020084014750.hdf\":MCD_Grid_MCD15A2H:Lai_500m. Skipping it\n",
      "Warning 1: Can't open HDF4_EOS:EOS_GRID:\"/Users/wmk934/data/perceptual_models/tmp/2002.12.03/MCD15A2H.A2002337.h12v05.061.2020084014743.hdf\":MCD_Grid_MCD15A2H:Lai_500m. Skipping it\n",
      "Warning 1: Can't open HDF4_EOS:EOS_GRID:\"/Users/wmk934/data/perceptual_models/tmp/2002.12.03/MCD15A2H.A2002337.h08v08.061.2020084012922.hdf\":MCD_Grid_MCD15A2H:Lai_500m. Skipping it\n",
      "Warning 1: Can't open HDF4_EOS:EOS_GRID:\"/Users/wmk934/data/perceptual_models/tmp/2002.12.03/MCD15A2H.A2002337.h09v04.061.2020084012931.hdf\":MCD_Grid_MCD15A2H:Lai_500m. Skipping it\n",
      "Warning 1: Can't open HDF4_EOS:EOS_GRID:\"/Users/wmk934/data/perceptual_models/tmp/2002.12.03/MCD15A2H.A2002337.h11v08.061.2020084012948.hdf\":MCD_Grid_MCD15A2H:Lai_500m. Skipping it\n",
      "Warning 1: Can't open HDF4_EOS:EOS_GRID:\"/Users/wmk934/data/perceptual_models/tmp/2002.12.03/MCD15A2H.A2002337.h10v08.061.2020084014804.hdf\":MCD_Grid_MCD15A2H:Lai_500m. Skipping it\n",
      "Warning 1: Can't open HDF4_EOS:EOS_GRID:\"/Users/wmk934/data/perceptual_models/tmp/2002.12.03/MCD15A2H.A2002337.h10v02.061.2020084014743.hdf\":MCD_Grid_MCD15A2H:Lai_500m. Skipping it\n",
      "Warning 1: Can't open HDF4_EOS:EOS_GRID:\"/Users/wmk934/data/perceptual_models/tmp/2002.12.03/MCD15A2H.A2002337.h11v05.061.2020084013052.hdf\":MCD_Grid_MCD15A2H:Lai_500m. Skipping it\n",
      "Warning 1: Can't open HDF4_EOS:EOS_GRID:\"/Users/wmk934/data/perceptual_models/tmp/2002.12.03/MCD15A2H.A2002337.h08v06.061.2020084014909.hdf\":MCD_Grid_MCD15A2H:Lai_500m. Skipping it\n",
      "Warning 1: Can't open HDF4_EOS:EOS_GRID:\"/Users/wmk934/data/perceptual_models/tmp/2002.12.03/MCD15A2H.A2002337.h12v07.061.2020084014743.hdf\":MCD_Grid_MCD15A2H:Lai_500m. Skipping it\n",
      "Warning 1: Can't open HDF4_EOS:EOS_GRID:\"/Users/wmk934/data/perceptual_models/tmp/2002.12.03/MCD15A2H.A2002337.h09v03.061.2020084014742.hdf\":MCD_Grid_MCD15A2H:Lai_500m. Skipping it\n",
      "Warning 1: Can't open HDF4_EOS:EOS_GRID:\"/Users/wmk934/data/perceptual_models/tmp/2002.12.03/MCD15A2H.A2002337.h07v03.061.2020084012919.hdf\":MCD_Grid_MCD15A2H:Lai_500m. Skipping it\n",
      "Warning 1: Can't open HDF4_EOS:EOS_GRID:\"/Users/wmk934/data/perceptual_models/tmp/2002.12.03/MCD15A2H.A2002337.h09v06.061.2020084012928.hdf\":MCD_Grid_MCD15A2H:Lai_500m. Skipping it\n",
      "Warning 1: Can't open HDF4_EOS:EOS_GRID:\"/Users/wmk934/data/perceptual_models/tmp/2002.12.03/MCD15A2H.A2002337.h10v05.061.2020084014805.hdf\":MCD_Grid_MCD15A2H:Lai_500m. Skipping it\n",
      "Warning 1: Can't open HDF4_EOS:EOS_GRID:\"/Users/wmk934/data/perceptual_models/tmp/2002.12.03/MCD15A2H.A2002337.h13v04.061.2020084014747.hdf\":MCD_Grid_MCD15A2H:Lai_500m. Skipping it\n",
      "Warning 1: Can't open HDF4_EOS:EOS_GRID:\"/Users/wmk934/data/perceptual_models/tmp/2002.12.03/MCD15A2H.A2002337.h07v06.061.2020084012922.hdf\":MCD_Grid_MCD15A2H:Lai_500m. Skipping it\n",
      "Warning 1: Can't open HDF4_EOS:EOS_GRID:\"/Users/wmk934/data/perceptual_models/tmp/2002.12.03/MCD15A2H.A2002337.h15v05.061.2020084020641.hdf\":MCD_Grid_MCD15A2H:Lai_500m. Skipping it\n",
      "Warning 1: Can't open HDF4_EOS:EOS_GRID:\"/Users/wmk934/data/perceptual_models/tmp/2002.12.03/MCD15A2H.A2002337.h08v07.061.2020084012927.hdf\":MCD_Grid_MCD15A2H:Lai_500m. Skipping it\n",
      "Warning 1: Can't open HDF4_EOS:EOS_GRID:\"/Users/wmk934/data/perceptual_models/tmp/2002.12.03/MCD15A2H.A2002337.h08v05.061.2020084012934.hdf\":MCD_Grid_MCD15A2H:Lai_500m. Skipping it\n",
      "Warning 1: Can't open HDF4_EOS:EOS_GRID:\"/Users/wmk934/data/perceptual_models/tmp/2002.12.03/MCD15A2H.A2002337.h13v03.061.2020084014759.hdf\":MCD_Grid_MCD15A2H:Lai_500m. Skipping it\n",
      "Warning 1: Can't open HDF4_EOS:EOS_GRID:\"/Users/wmk934/data/perceptual_models/tmp/2002.12.03/MCD15A2H.A2002337.h14v04.061.2020084014739.hdf\":MCD_Grid_MCD15A2H:Lai_500m. Skipping it\n",
      "Warning 1: Can't open HDF4_EOS:EOS_GRID:\"/Users/wmk934/data/perceptual_models/tmp/2002.12.03/MCD15A2H.A2002337.h12v02.061.2020084014756.hdf\":MCD_Grid_MCD15A2H:Lai_500m. Skipping it\n",
      "Warning 1: Can't open HDF4_EOS:EOS_GRID:\"/Users/wmk934/data/perceptual_models/tmp/2002.12.03/MCD15A2H.A2002337.h15v03.061.2020084014745.hdf\":MCD_Grid_MCD15A2H:Lai_500m. Skipping it\n",
      "Warning 1: Can't open HDF4_EOS:EOS_GRID:\"/Users/wmk934/data/perceptual_models/tmp/2002.12.03/MCD15A2H.A2002337.h15v07.061.2020084020641.hdf\":MCD_Grid_MCD15A2H:Lai_500m. Skipping it\n",
      "Warning 1: Can't open HDF4_EOS:EOS_GRID:\"/Users/wmk934/data/perceptual_models/tmp/2002.12.03/MCD15A2H.A2002337.h12v08.061.2020084014829.hdf\":MCD_Grid_MCD15A2H:Lai_500m. Skipping it\n",
      "Warning 1: Can't open HDF4_EOS:EOS_GRID:\"/Users/wmk934/data/perceptual_models/tmp/2002.12.03/MCD15A2H.A2002337.h11v06.061.2020084012922.hdf\":MCD_Grid_MCD15A2H:Lai_500m. Skipping it\n",
      "Warning 1: Can't open HDF4_EOS:EOS_GRID:\"/Users/wmk934/data/perceptual_models/tmp/2002.12.03/MCD15A2H.A2002337.h13v08.061.2020084014737.hdf\":MCD_Grid_MCD15A2H:Lai_500m. Skipping it\n",
      "Warning 1: Can't open HDF4_EOS:EOS_GRID:\"/Users/wmk934/data/perceptual_models/tmp/2002.12.03/MCD15A2H.A2002337.h14v03.061.2020084014753.hdf\":MCD_Grid_MCD15A2H:Lai_500m. Skipping it\n",
      "Warning 1: Can't open HDF4_EOS:EOS_GRID:\"/Users/wmk934/data/perceptual_models/tmp/2002.12.03/MCD15A2H.A2002337.h08v04.061.2020084012915.hdf\":MCD_Grid_MCD15A2H:Lai_500m. Skipping it\n",
      "Warning 1: Can't open HDF4_EOS:EOS_GRID:\"/Users/wmk934/data/perceptual_models/tmp/2002.12.03/MCD15A2H.A2002337.h07v05.061.2020084014743.hdf\":MCD_Grid_MCD15A2H:Lai_500m. Skipping it\n",
      "Warning 1: Can't open HDF4_EOS:EOS_GRID:\"/Users/wmk934/data/perceptual_models/tmp/2002.12.03/MCD15A2H.A2002337.h13v02.061.2020084014755.hdf\":MCD_Grid_MCD15A2H:Lai_500m. Skipping it\n",
      "Warning 1: Can't open HDF4_EOS:EOS_GRID:\"/Users/wmk934/data/perceptual_models/tmp/2002.12.03/MCD15A2H.A2002337.h08v03.061.2020084012918.hdf\":MCD_Grid_MCD15A2H:Lai_500m. Skipping it\n",
      "Warning 1: Can't open HDF4_EOS:EOS_GRID:\"/Users/wmk934/data/perceptual_models/tmp/2002.12.03/MCD15A2H.A2002337.h09v07.061.2020084012931.hdf\":MCD_Grid_MCD15A2H:Lai_500m. Skipping it\n",
      "Warning 1: Can't open HDF4_EOS:EOS_GRID:\"/Users/wmk934/data/perceptual_models/tmp/2002.12.03/MCD15A2H.A2002337.h10v06.061.2020084012930.hdf\":MCD_Grid_MCD15A2H:Lai_500m. Skipping it\n"
     ]
    },
    {
     "ename": "TypeError",
     "evalue": "object of wrong GDALDatasetShadow",
     "output_type": "error",
     "traceback": [
      "\u001b[0;31m---------------------------------------------------------------------------\u001b[0m",
      "\u001b[0;31mTypeError\u001b[0m                                 Traceback (most recent call last)",
      "Cell \u001b[0;32mIn[97], line 1\u001b[0m\n\u001b[0;32m----> 1\u001b[0m \u001b[43mprocess_daily_modis_hdf_to_tif\u001b[49m\u001b[43m(\u001b[49m\u001b[43mfolder_dec\u001b[49m\u001b[43m,\u001b[49m\u001b[43m \u001b[49m\u001b[43mtmp_path\u001b[49m\u001b[43m)\u001b[49m\n",
      "Cell \u001b[0;32mIn[96], line 19\u001b[0m, in \u001b[0;36mprocess_daily_modis_hdf_to_tif\u001b[0;34m(in_folder, out_folder, subdataset_front, subdataset_back, to_CRS, subset_window)\u001b[0m\n\u001b[1;32m     17\u001b[0m \u001b[38;5;66;03m# Reproject the VRT\u001b[39;00m\n\u001b[1;32m     18\u001b[0m warp_options \u001b[38;5;241m=\u001b[39m gdal\u001b[38;5;241m.\u001b[39mWarpOptions(\u001b[38;5;28mformat\u001b[39m\u001b[38;5;241m=\u001b[39m\u001b[38;5;124m'\u001b[39m\u001b[38;5;124mVRT\u001b[39m\u001b[38;5;124m'\u001b[39m, dstSRS\u001b[38;5;241m=\u001b[39mto_CRS)\n\u001b[0;32m---> 19\u001b[0m vrt_4326 \u001b[38;5;241m=\u001b[39m \u001b[43mgdal\u001b[49m\u001b[38;5;241;43m.\u001b[39;49m\u001b[43mWarp\u001b[49m\u001b[43m(\u001b[49m\u001b[38;5;124;43m'\u001b[39;49m\u001b[38;5;124;43m'\u001b[39;49m\u001b[43m,\u001b[49m\u001b[43m \u001b[49m\u001b[43mvrt\u001b[49m\u001b[43m,\u001b[49m\u001b[43m \u001b[49m\u001b[43moptions\u001b[49m\u001b[38;5;241;43m=\u001b[39;49m\u001b[43mwarp_options\u001b[49m\u001b[43m)\u001b[49m\n\u001b[1;32m     21\u001b[0m \u001b[38;5;66;03m# Subset and convert to geotiff\u001b[39;00m\n\u001b[1;32m     22\u001b[0m \u001b[38;5;28;01mif\u001b[39;00m subset_window:\n",
      "File \u001b[0;32m~/data/perceptual_models/perc-model-env/lib/python3.11/site-packages/osgeo/gdal.py:1051\u001b[0m, in \u001b[0;36mWarp\u001b[0;34m(destNameOrDestDS, srcDSOrSrcDSTab, **kwargs)\u001b[0m\n\u001b[1;32m   1048\u001b[0m     srcDSTab \u001b[38;5;241m=\u001b[39m [srcDSOrSrcDSTab]\n\u001b[1;32m   1050\u001b[0m \u001b[38;5;28;01mif\u001b[39;00m \u001b[38;5;28misinstance\u001b[39m(destNameOrDestDS, \u001b[38;5;28mstr\u001b[39m):\n\u001b[0;32m-> 1051\u001b[0m     \u001b[38;5;28;01mreturn\u001b[39;00m \u001b[43mwrapper_GDALWarpDestName\u001b[49m\u001b[43m(\u001b[49m\u001b[43mdestNameOrDestDS\u001b[49m\u001b[43m,\u001b[49m\u001b[43m \u001b[49m\u001b[43msrcDSTab\u001b[49m\u001b[43m,\u001b[49m\u001b[43m \u001b[49m\u001b[43mopts\u001b[49m\u001b[43m,\u001b[49m\u001b[43m \u001b[49m\u001b[43mcallback\u001b[49m\u001b[43m,\u001b[49m\u001b[43m \u001b[49m\u001b[43mcallback_data\u001b[49m\u001b[43m)\u001b[49m\n\u001b[1;32m   1052\u001b[0m \u001b[38;5;28;01melse\u001b[39;00m:\n\u001b[1;32m   1053\u001b[0m     \u001b[38;5;28;01mreturn\u001b[39;00m wrapper_GDALWarpDestDS(destNameOrDestDS, srcDSTab, opts, callback, callback_data)\n",
      "File \u001b[0;32m~/data/perceptual_models/perc-model-env/lib/python3.11/site-packages/osgeo/gdal.py:5476\u001b[0m, in \u001b[0;36mwrapper_GDALWarpDestName\u001b[0;34m(*args)\u001b[0m\n\u001b[1;32m   5474\u001b[0m \u001b[38;5;28;01mdef\u001b[39;00m \u001b[38;5;21mwrapper_GDALWarpDestName\u001b[39m(\u001b[38;5;241m*\u001b[39margs) \u001b[38;5;241m-\u001b[39m\u001b[38;5;241m>\u001b[39m \u001b[38;5;124m\"\u001b[39m\u001b[38;5;124mGDALDatasetShadow *\u001b[39m\u001b[38;5;124m\"\u001b[39m:\n\u001b[1;32m   5475\u001b[0m \u001b[38;5;250m    \u001b[39m\u001b[38;5;124mr\u001b[39m\u001b[38;5;124;03m\"\"\"wrapper_GDALWarpDestName(char const * dest, int object_list_count, GDALWarpAppOptions warpAppOptions, GDALProgressFunc callback=0, void * callback_data=None) -> Dataset\"\"\"\u001b[39;00m\n\u001b[0;32m-> 5476\u001b[0m     \u001b[38;5;28;01mreturn\u001b[39;00m \u001b[43m_gdal\u001b[49m\u001b[38;5;241;43m.\u001b[39;49m\u001b[43mwrapper_GDALWarpDestName\u001b[49m\u001b[43m(\u001b[49m\u001b[38;5;241;43m*\u001b[39;49m\u001b[43margs\u001b[49m\u001b[43m)\u001b[49m\n",
      "\u001b[0;31mTypeError\u001b[0m: object of wrong GDALDatasetShadow"
     ]
    }
   ],
   "source": [
    "process_daily_modis_hdf_to_tif(folder_dec, tmp_path)"
   ]
  },
  {
   "cell_type": "code",
   "execution_count": 87,
   "id": "597f0259-d113-4a3b-b847-70ea7a57efae",
   "metadata": {},
   "outputs": [
    {
     "name": "stdout",
     "output_type": "stream",
     "text": [
      "Successfully downloaded https://e4ftl01.cr.usgs.gov/MOTA/MCD15A2H.061/2002.07.04/MCD15A2H.A2002185.h07v03.061.2020079150836.hdf\n",
      "Successfully downloaded https://e4ftl01.cr.usgs.gov/MOTA/MCD15A2H.061/2002.07.04/MCD15A2H.A2002185.h07v05.061.2020079151404.hdf\n",
      "Successfully downloaded https://e4ftl01.cr.usgs.gov/MOTA/MCD15A2H.061/2002.07.04/MCD15A2H.A2002185.h07v06.061.2020079151509.hdf\n",
      "Successfully downloaded https://e4ftl01.cr.usgs.gov/MOTA/MCD15A2H.061/2002.07.04/MCD15A2H.A2002185.h07v07.061.2020079150859.hdf\n",
      "Successfully downloaded https://e4ftl01.cr.usgs.gov/MOTA/MCD15A2H.061/2002.07.04/MCD15A2H.A2002185.h08v03.061.2020079152934.hdf\n",
      "Successfully downloaded https://e4ftl01.cr.usgs.gov/MOTA/MCD15A2H.061/2002.07.04/MCD15A2H.A2002185.h08v04.061.2020079150215.hdf\n",
      "Successfully downloaded https://e4ftl01.cr.usgs.gov/MOTA/MCD15A2H.061/2002.07.04/MCD15A2H.A2002185.h08v05.061.2020079150240.hdf\n",
      "Successfully downloaded https://e4ftl01.cr.usgs.gov/MOTA/MCD15A2H.061/2002.07.04/MCD15A2H.A2002185.h08v06.061.2020079151013.hdf\n",
      "Successfully downloaded https://e4ftl01.cr.usgs.gov/MOTA/MCD15A2H.061/2002.07.04/MCD15A2H.A2002185.h08v07.061.2020079150702.hdf\n",
      "Successfully downloaded https://e4ftl01.cr.usgs.gov/MOTA/MCD15A2H.061/2002.07.04/MCD15A2H.A2002185.h08v08.061.2020079151339.hdf\n",
      "Successfully downloaded https://e4ftl01.cr.usgs.gov/MOTA/MCD15A2H.061/2002.07.04/MCD15A2H.A2002185.h09v02.061.2020079151116.hdf\n",
      "Successfully downloaded https://e4ftl01.cr.usgs.gov/MOTA/MCD15A2H.061/2002.07.04/MCD15A2H.A2002185.h09v03.061.2020079150504.hdf\n",
      "Successfully downloaded https://e4ftl01.cr.usgs.gov/MOTA/MCD15A2H.061/2002.07.04/MCD15A2H.A2002185.h09v04.061.2020079150818.hdf\n",
      "Successfully downloaded https://e4ftl01.cr.usgs.gov/MOTA/MCD15A2H.061/2002.07.04/MCD15A2H.A2002185.h09v05.061.2020079150242.hdf\n",
      "Successfully downloaded https://e4ftl01.cr.usgs.gov/MOTA/MCD15A2H.061/2002.07.04/MCD15A2H.A2002185.h09v06.061.2020079150219.hdf\n",
      "Successfully downloaded https://e4ftl01.cr.usgs.gov/MOTA/MCD15A2H.061/2002.07.04/MCD15A2H.A2002185.h09v07.061.2020079151819.hdf\n",
      "Successfully downloaded https://e4ftl01.cr.usgs.gov/MOTA/MCD15A2H.061/2002.07.04/MCD15A2H.A2002185.h09v08.061.2020079151142.hdf\n",
      "Successfully downloaded https://e4ftl01.cr.usgs.gov/MOTA/MCD15A2H.061/2002.07.04/MCD15A2H.A2002185.h10v02.061.2020079150441.hdf\n",
      "Successfully downloaded https://e4ftl01.cr.usgs.gov/MOTA/MCD15A2H.061/2002.07.04/MCD15A2H.A2002185.h10v03.061.2020079151623.hdf\n",
      "Successfully downloaded https://e4ftl01.cr.usgs.gov/MOTA/MCD15A2H.061/2002.07.04/MCD15A2H.A2002185.h10v04.061.2020079151429.hdf\n",
      "Successfully downloaded https://e4ftl01.cr.usgs.gov/MOTA/MCD15A2H.061/2002.07.04/MCD15A2H.A2002185.h10v05.061.2020079151206.hdf\n",
      "Successfully downloaded https://e4ftl01.cr.usgs.gov/MOTA/MCD15A2H.061/2002.07.04/MCD15A2H.A2002185.h10v06.061.2020079150142.hdf\n",
      "Successfully downloaded https://e4ftl01.cr.usgs.gov/MOTA/MCD15A2H.061/2002.07.04/MCD15A2H.A2002185.h10v07.061.2020079150244.hdf\n",
      "Successfully downloaded https://e4ftl01.cr.usgs.gov/MOTA/MCD15A2H.061/2002.07.04/MCD15A2H.A2002185.h10v08.061.2020079151311.hdf\n",
      "Successfully downloaded https://e4ftl01.cr.usgs.gov/MOTA/MCD15A2H.061/2002.07.04/MCD15A2H.A2002185.h11v02.061.2020079150220.hdf\n",
      "Successfully downloaded https://e4ftl01.cr.usgs.gov/MOTA/MCD15A2H.061/2002.07.04/MCD15A2H.A2002185.h11v03.061.2020079151344.hdf\n",
      "Successfully downloaded https://e4ftl01.cr.usgs.gov/MOTA/MCD15A2H.061/2002.07.04/MCD15A2H.A2002185.h11v04.061.2020079151349.hdf\n",
      "Successfully downloaded https://e4ftl01.cr.usgs.gov/MOTA/MCD15A2H.061/2002.07.04/MCD15A2H.A2002185.h11v05.061.2020079151910.hdf\n",
      "Successfully downloaded https://e4ftl01.cr.usgs.gov/MOTA/MCD15A2H.061/2002.07.04/MCD15A2H.A2002185.h11v06.061.2020079151348.hdf\n",
      "Successfully downloaded https://e4ftl01.cr.usgs.gov/MOTA/MCD15A2H.061/2002.07.04/MCD15A2H.A2002185.h11v07.061.2020079151418.hdf\n",
      "Successfully downloaded https://e4ftl01.cr.usgs.gov/MOTA/MCD15A2H.061/2002.07.04/MCD15A2H.A2002185.h11v08.061.2020079151440.hdf\n",
      "Successfully downloaded https://e4ftl01.cr.usgs.gov/MOTA/MCD15A2H.061/2002.07.04/MCD15A2H.A2002185.h12v01.061.2020079151559.hdf\n",
      "Successfully downloaded https://e4ftl01.cr.usgs.gov/MOTA/MCD15A2H.061/2002.07.04/MCD15A2H.A2002185.h12v02.061.2020079151552.hdf\n",
      "Successfully downloaded https://e4ftl01.cr.usgs.gov/MOTA/MCD15A2H.061/2002.07.04/MCD15A2H.A2002185.h12v03.061.2020079151336.hdf\n",
      "Successfully downloaded https://e4ftl01.cr.usgs.gov/MOTA/MCD15A2H.061/2002.07.04/MCD15A2H.A2002185.h12v04.061.2020079151354.hdf\n",
      "Successfully downloaded https://e4ftl01.cr.usgs.gov/MOTA/MCD15A2H.061/2002.07.04/MCD15A2H.A2002185.h12v05.061.2020079152134.hdf\n",
      "Successfully downloaded https://e4ftl01.cr.usgs.gov/MOTA/MCD15A2H.061/2002.07.04/MCD15A2H.A2002185.h12v07.061.2020079151447.hdf\n",
      "Successfully downloaded https://e4ftl01.cr.usgs.gov/MOTA/MCD15A2H.061/2002.07.04/MCD15A2H.A2002185.h12v08.061.2020079152942.hdf\n",
      "Successfully downloaded https://e4ftl01.cr.usgs.gov/MOTA/MCD15A2H.061/2002.07.04/MCD15A2H.A2002185.h13v01.061.2020079152402.hdf\n",
      "Successfully downloaded https://e4ftl01.cr.usgs.gov/MOTA/MCD15A2H.061/2002.07.04/MCD15A2H.A2002185.h13v02.061.2020079151357.hdf\n",
      "Successfully downloaded https://e4ftl01.cr.usgs.gov/MOTA/MCD15A2H.061/2002.07.04/MCD15A2H.A2002185.h13v03.061.2020079150811.hdf\n",
      "Successfully downloaded https://e4ftl01.cr.usgs.gov/MOTA/MCD15A2H.061/2002.07.04/MCD15A2H.A2002185.h13v04.061.2020079151304.hdf\n",
      "Successfully downloaded https://e4ftl01.cr.usgs.gov/MOTA/MCD15A2H.061/2002.07.04/MCD15A2H.A2002185.h13v08.061.2020079151401.hdf\n",
      "Successfully downloaded https://e4ftl01.cr.usgs.gov/MOTA/MCD15A2H.061/2002.07.04/MCD15A2H.A2002185.h14v01.061.2020079150722.hdf\n",
      "Successfully downloaded https://e4ftl01.cr.usgs.gov/MOTA/MCD15A2H.061/2002.07.04/MCD15A2H.A2002185.h14v02.061.2020079150753.hdf\n",
      "Successfully downloaded https://e4ftl01.cr.usgs.gov/MOTA/MCD15A2H.061/2002.07.04/MCD15A2H.A2002185.h14v03.061.2020079151149.hdf\n",
      "Successfully downloaded https://e4ftl01.cr.usgs.gov/MOTA/MCD15A2H.061/2002.07.04/MCD15A2H.A2002185.h14v04.061.2020079151115.hdf\n",
      "Successfully downloaded https://e4ftl01.cr.usgs.gov/MOTA/MCD15A2H.061/2002.07.04/MCD15A2H.A2002185.h15v01.061.2020079150858.hdf\n",
      "Successfully downloaded https://e4ftl01.cr.usgs.gov/MOTA/MCD15A2H.061/2002.07.04/MCD15A2H.A2002185.h15v02.061.2020079150519.hdf\n",
      "Successfully downloaded https://e4ftl01.cr.usgs.gov/MOTA/MCD15A2H.061/2002.07.04/MCD15A2H.A2002185.h15v03.061.2020079151028.hdf\n",
      "Successfully downloaded https://e4ftl01.cr.usgs.gov/MOTA/MCD15A2H.061/2002.07.04/MCD15A2H.A2002185.h15v05.061.2020079150434.hdf\n",
      "Successfully downloaded https://e4ftl01.cr.usgs.gov/MOTA/MCD15A2H.061/2002.07.04/MCD15A2H.A2002185.h15v07.061.2020079151009.hdf\n"
     ]
    }
   ],
   "source": [
    "# July files\n",
    "files_jul = find_files_in_webpage_folder(folder_jul, extension='.hdf')\n",
    "for url in files_jul:\n",
    "    sub_folder = download_modis_into_day_folder(tmp_path, url)"
   ]
  },
  {
   "cell_type": "code",
   "execution_count": null,
   "id": "8d030528-d901-457e-a448-c513f452d855",
   "metadata": {},
   "outputs": [],
   "source": []
  }
 ],
 "metadata": {
  "kernelspec": {
   "display_name": "perc-model-env",
   "language": "python",
   "name": "perc-model-env"
  },
  "language_info": {
   "codemirror_mode": {
    "name": "ipython",
    "version": 3
   },
   "file_extension": ".py",
   "mimetype": "text/x-python",
   "name": "python",
   "nbconvert_exporter": "python",
   "pygments_lexer": "ipython3",
   "version": "3.11.5"
  }
 },
 "nbformat": 4,
 "nbformat_minor": 5
}
