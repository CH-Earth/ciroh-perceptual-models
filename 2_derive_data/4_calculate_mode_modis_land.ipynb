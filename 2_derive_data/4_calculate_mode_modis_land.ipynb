{
 "cells": [
  {
   "cell_type": "markdown",
   "id": "e9d3eeb9-91d1-4913-bce6-27df6c7f6839",
   "metadata": {},
   "source": [
    "# Mode MODIS Land Class\n",
    "We'll use the last `n` years of MODIS land data to find the mode land class per pixel. This follows the document, which says that the uncertainty per year per pixel is too high to trust any individual year overly much.\n",
    "\n",
    "```\n",
    "Despite improving the stability to the product, we urge users not to use the product to determine post-classification land cover change. The amount of uncertainty in the land cover labels for any one year remains too high to distinguish real change from changes between classes that are spectrally indistinguishable at the coarse 500-m MODIS resolution. For more detailed information about the development and accuracy of the C6 MCD12Q1 product see Sulla-Menashe et al. (2018).\n",
    "```\n",
    "\n",
    "Source (accessed 2023-11-30): https://lpdaac.usgs.gov/documents/1409/MCD12_User_Guide_V61.pdf"
   ]
  },
  {
   "cell_type": "code",
   "execution_count": 1,
   "id": "8299fefe-35de-44ef-a064-e8d9d597fd83",
   "metadata": {},
   "outputs": [],
   "source": [
    "import sys\n",
    "from pathlib import Path\n",
    "sys.path.append(str(Path().absolute().parent))\n",
    "import _functions as pmf"
   ]
  },
  {
   "cell_type": "code",
   "execution_count": 2,
   "id": "6afe47c9-e5bc-4a4b-b35c-e8cb9711c143",
   "metadata": {},
   "outputs": [],
   "source": [
    "# Specify where the config file can be found\n",
    "config_file = '../0_config/config.txt'"
   ]
  },
  {
   "cell_type": "code",
   "execution_count": 4,
   "id": "3f45310b-91c7-4adb-b500-99066712c3ff",
   "metadata": {},
   "outputs": [],
   "source": [
    "# Get the required info from the config file\n",
    "raw_path = pmf.read_from_config(config_file,'raw_path')\n",
    "last_n_years = pmf.read_from_config(config_file,'last_n_years')"
   ]
  },
  {
   "cell_type": "markdown",
   "id": "148911e2-d056-4df8-9590-1cf36ab22657",
   "metadata": {},
   "source": [
    "### 1. Find files"
   ]
  },
  {
   "cell_type": "code",
   "execution_count": 5,
   "id": "c07fc768-7f64-4b5b-b06f-d6dc963aa2e8",
   "metadata": {},
   "outputs": [],
   "source": [
    "import glob"
   ]
  },
  {
   "cell_type": "code",
   "execution_count": 7,
   "id": "0515ad5d-265b-4e1f-a9a8-3cf5b5f1ef57",
   "metadata": {},
   "outputs": [],
   "source": [
    "src_path = Path(raw_path) / 'modis_land' / 'raw'"
   ]
  },
  {
   "cell_type": "code",
   "execution_count": 20,
   "id": "91101390-942f-40b9-996d-325e2c4838d6",
   "metadata": {},
   "outputs": [],
   "source": [
    "modis_files = sorted( glob.glob(str(src_path / '*.tif')) )"
   ]
  },
  {
   "cell_type": "markdown",
   "id": "15afad0b-094d-4169-a593-647809dba8c6",
   "metadata": {},
   "source": [
    "### 2. Create the output directory"
   ]
  },
  {
   "cell_type": "code",
   "execution_count": 12,
   "id": "be171b4e-a547-4860-a1ea-773985ec6bf1",
   "metadata": {},
   "outputs": [],
   "source": [
    "des_path = Path(raw_path) / 'modis_land' / 'annual_mode_2013_2022'"
   ]
  },
  {
   "cell_type": "code",
   "execution_count": 13,
   "id": "1dc1d17d-2d66-42bc-b798-b0689534a9f1",
   "metadata": {},
   "outputs": [],
   "source": [
    "des_path.mkdir(exist_ok=True, parents=True)"
   ]
  },
  {
   "cell_type": "markdown",
   "id": "ee313be7-6ba6-4cd0-aee2-014d687ac765",
   "metadata": {},
   "source": [
    "### 3. Calculate mode land class"
   ]
  },
  {
   "cell_type": "code",
   "execution_count": 60,
   "id": "741a4580-7fd3-4136-9a16-f63d8a04a30d",
   "metadata": {},
   "outputs": [],
   "source": [
    "import numpy as np\n",
    "import numpy.ma as ma\n",
    "import os\n",
    "from osgeo import gdal, osr\n",
    "import scipy.stats as sc"
   ]
  },
  {
   "cell_type": "code",
   "execution_count": 24,
   "id": "87f7a8a1-6b59-430b-8a0e-695e2e51181d",
   "metadata": {},
   "outputs": [],
   "source": [
    "gdal.UseExceptions()"
   ]
  },
  {
   "cell_type": "markdown",
   "id": "fa8edda2-013e-4091-a708-a4112fa00288",
   "metadata": {},
   "source": [
    "#### 3.1 Functions"
   ]
  },
  {
   "cell_type": "code",
   "execution_count": 25,
   "id": "0589d551-1422-4963-ad8d-5e18eff76f6f",
   "metadata": {},
   "outputs": [],
   "source": [
    "def get_geotif_data_as_array(file, band=1):\n",
    "    ds = gdal.Open(file) # open the file\n",
    "    band = ds.GetRasterBand(band) # get the data band\n",
    "    data = band.ReadAsArray() # convert to numpy array for further manipulation   \n",
    "    return data"
   ]
  },
  {
   "cell_type": "code",
   "execution_count": 26,
   "id": "0356e330-6aaa-4e0b-a351-b425c893038d",
   "metadata": {},
   "outputs": [],
   "source": [
    "def get_geotif_noData(src_file, band=1):\n",
    "    src_ds = gdal.Open(src_file)\n",
    "    src_band = src_ds.GetRasterBand(band)\n",
    "    no_data_value = src_band.GetNoDataValue()\n",
    "    src_ds = None\n",
    "    return no_data_value"
   ]
  },
  {
   "cell_type": "code",
   "execution_count": 44,
   "id": "9d5ae4ec-bf27-4f3d-b983-4a70dcd27b4f",
   "metadata": {},
   "outputs": [],
   "source": [
    "def write_geotif_sameDomain(src_file, des_file, des_data, no_data_value=None):\n",
    "    \n",
    "    # load the source file to get the appropriate attributes\n",
    "    src_ds = gdal.Open(src_file)\n",
    "    \n",
    "    # get the geotransform\n",
    "    des_transform = src_ds.GetGeoTransform()\n",
    "\n",
    "    # Get the scale factor from the source metadata\n",
    "    scale_factor = src_ds.GetRasterBand(1).GetScale()\n",
    "    offset = src_ds.GetRasterBand(1).GetOffset()\n",
    "    \n",
    "    # get the data dimensions\n",
    "    ncols = des_data.shape[1]\n",
    "    nrows = des_data.shape[0]\n",
    "    \n",
    "    # make the file\n",
    "    driver = gdal.GetDriverByName(\"GTiff\")\n",
    "    dst_ds = driver.Create(des_file,ncols,nrows,1,gdal.GDT_Float32, options = [ 'COMPRESS=DEFLATE' ])\n",
    "    \n",
    "    # Write the data\n",
    "    #dst_ds.GetRasterBand(1).WriteArray( des_data )\n",
    "    dst_band = dst_ds.GetRasterBand(1)\n",
    "    dst_band.WriteArray(des_data)\n",
    "    if no_data_value:\n",
    "        dst_band.SetNoDataValue(no_data_value)\n",
    "    \n",
    "    # Set the scale factor and offset in the destination band, if they were defined in the source\n",
    "    if scale_factor: dst_ds.GetRasterBand(1).SetScale(scale_factor)\n",
    "    if offset: dst_ds.GetRasterBand(1).SetOffset(offset)\n",
    "    \n",
    "    # Set the geotransform\n",
    "    dst_ds.SetGeoTransform(des_transform)\n",
    "\n",
    "    # Set the projection\n",
    "    wkt = src_ds.GetProjection()\n",
    "    srs = osr.SpatialReference()\n",
    "    srs.ImportFromWkt(wkt)\n",
    "    dst_ds.SetProjection( srs.ExportToWkt() )\n",
    "    \n",
    "    # close files\n",
    "    src_ds = None\n",
    "    des_ds = None\n",
    "\n",
    "    return"
   ]
  },
  {
   "cell_type": "markdown",
   "id": "e56e5a2f-9a66-45cc-ad0e-744562a77a92",
   "metadata": {},
   "source": [
    "#### 3.2 Processing"
   ]
  },
  {
   "cell_type": "code",
   "execution_count": 21,
   "id": "61454324-4d03-4c10-b7ed-09ba15da6415",
   "metadata": {},
   "outputs": [],
   "source": [
    "# Subset files to last n years\n",
    "modis_files = modis_files[-last_n_years:] "
   ]
  },
  {
   "cell_type": "code",
   "execution_count": 29,
   "id": "670e5a72-3008-48a8-8a5b-b923c4e0d536",
   "metadata": {},
   "outputs": [],
   "source": [
    "# Load the data as numpy arrays, stack vertically, and find the mean value (ignoring nan)\n",
    "data = [get_geotif_data_as_array(file) for file in modis_files] # Get data as uint8"
   ]
  },
  {
   "cell_type": "code",
   "execution_count": 31,
   "id": "b3fb31b5-c606-493b-96cc-4f6a3137aad3",
   "metadata": {},
   "outputs": [],
   "source": [
    "stacked = np.dstack(data) # Create a 3D stack"
   ]
  },
  {
   "cell_type": "code",
   "execution_count": 39,
   "id": "76bc906b-ba11-4571-ac97-2ce4b538d88d",
   "metadata": {},
   "outputs": [],
   "source": [
    "mode_land_class = sc.mode(stacked, axis=2)"
   ]
  },
  {
   "cell_type": "code",
   "execution_count": null,
   "id": "85cf9ce9-849b-4729-bef9-306d26cca1b8",
   "metadata": {},
   "outputs": [],
   "source": [
    "# Get the noData value \n",
    "modis_noData = get_geotif_noData(modis_files[0])"
   ]
  },
  {
   "cell_type": "code",
   "execution_count": 42,
   "id": "beeab4c4-7a94-4c5a-9dba-66124e3e1694",
   "metadata": {},
   "outputs": [],
   "source": [
    "# Transfer into masked array for GeoTIFF writing\n",
    "modis_to_file = ma.masked_equal(mode_land_class[0], modis_noData)"
   ]
  },
  {
   "cell_type": "code",
   "execution_count": 58,
   "id": "31be24ae-90c5-4d2c-a0ad-d9a13db26664",
   "metadata": {},
   "outputs": [],
   "source": [
    "# Save\n",
    "first_data_year = os.path.basename(modis_files[0])[0:4] \n",
    "last_data_year = os.path.basename(modis_files[-1])[0:4]\n",
    "des_name = f'{first_data_year}_{last_data_year}_mode{os.path.basename(modis_files[0])[8:]}'\n",
    "des_file = str( des_path / des_name )"
   ]
  },
  {
   "cell_type": "code",
   "execution_count": 61,
   "id": "f54322c0-c616-4f4e-ad67-2e56fd1db5e4",
   "metadata": {},
   "outputs": [],
   "source": [
    "write_geotif_sameDomain(modis_files[0], des_file, modis_to_file.filled(), no_data_value=modis_noData)"
   ]
  },
  {
   "cell_type": "code",
   "execution_count": null,
   "id": "c9cb7492-49ef-4220-95de-39c97f7f8912",
   "metadata": {},
   "outputs": [],
   "source": []
  }
 ],
 "metadata": {
  "kernelspec": {
   "display_name": "perc-model-env",
   "language": "python",
   "name": "perc-model-env"
  },
  "language_info": {
   "codemirror_mode": {
    "name": "ipython",
    "version": 3
   },
   "file_extension": ".py",
   "mimetype": "text/x-python",
   "name": "python",
   "nbconvert_exporter": "python",
   "pygments_lexer": "ipython3",
   "version": "3.11.5"
  }
 },
 "nbformat": 4,
 "nbformat_minor": 5
}
